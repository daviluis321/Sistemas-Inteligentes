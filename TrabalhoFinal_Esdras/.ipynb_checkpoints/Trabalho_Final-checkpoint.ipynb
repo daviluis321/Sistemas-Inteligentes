{
 "cells": [
  {
   "cell_type": "code",
   "execution_count": 1,
   "metadata": {
    "collapsed": false
   },
   "outputs": [],
   "source": [
    "import graphlab"
   ]
  },
  {
   "cell_type": "markdown",
   "metadata": {},
   "source": [
    "1 Descrição do Trabalho\n",
    "O Exame Nacional do Ensino Médio (Enem) é uma prova elaborada pelo Ministério\n",
    "da Educação para verificar o domínio de competências e habilidades dos\n",
    "estudantes que concluíram o ensino médio. Muitas universidades brasileiras utilizam\n",
    "o Enem para selecionar seus futuros alunos. O presente trabalho propõe\n",
    "análise preditiva de uma base de dados do Enem de 2016, onde o estudante terá\n",
    "que usar a linguagem python para desenvolvimento do código.\n"
   ]
  },
  {
   "cell_type": "markdown",
   "metadata": {},
   "source": [
    "2 Formato da Base\n",
    "Qualquer dúvida a respeito das colunas, consulte o Dicionário dos Microdados\n",
    "do Enem 2016 que está na pasta do trabalho final no github.\n",
    "Dica: As colunas mais importantes para o trabalho, são as que correspondem\n",
    "as notas que o aluno conseguiu em cada disciplina."
   ]
  },
  {
   "cell_type": "markdown",
   "metadata": {},
   "source": [
    "3 O que deve ser feito"
   ]
  },
  {
   "cell_type": "markdown",
   "metadata": {},
   "source": [
    "1. Utilizar o Graphlab, carregar e visualização dos dados (0,5);"
   ]
  },
  {
   "cell_type": "code",
   "execution_count": 2,
   "metadata": {
    "collapsed": false
   },
   "outputs": [
    {
     "name": "stdout",
     "output_type": "stream",
     "text": [
      "This non-commercial license of GraphLab Create for academic use is assigned to esdrasfragoso@gmail.com and will expire on March 23, 2019.\n"
     ]
    },
    {
     "name": "stderr",
     "output_type": "stream",
     "text": [
      "[INFO] graphlab.cython.cy_server: GraphLab Create v2.1 started. Logging: /tmp/graphlab_server_1529955272.log\n"
     ]
    },
    {
     "data": {
      "text/html": [
       "<pre>Finished parsing file /home/esdras/Sistemas-Inteligentes/TrabalhoFinal/train.csv</pre>"
      ],
      "text/plain": [
       "Finished parsing file /home/esdras/Sistemas-Inteligentes/TrabalhoFinal/train.csv"
      ]
     },
     "metadata": {},
     "output_type": "display_data"
    },
    {
     "data": {
      "text/html": [
       "<pre>Parsing completed. Parsed 100 lines in 0.371078 secs.</pre>"
      ],
      "text/plain": [
       "Parsing completed. Parsed 100 lines in 0.371078 secs."
      ]
     },
     "metadata": {},
     "output_type": "display_data"
    },
    {
     "name": "stdout",
     "output_type": "stream",
     "text": [
      "------------------------------------------------------\n",
      "Inferred types from first 100 line(s) of file as \n",
      "column_type_hints=[int,str,int,int,str,int,str,int,str,int,int,int,int,str,int,str,int,int,int,int,int,int,int,str,int,str,int,int,int,int,int,int,int,int,int,int,int,int,int,int,int,int,int,int,int,int,int,int,int,int,int,int,int,int,int,int,int,int,int,int,int,int,int,int,int,int,int,int,int,int,int,int,int,int,int,int,int,int,int,int,int,int,str,int,str,int,str,int,str,int,int,int,int,str,str,str,str,float,float,float,float,str,str,str,str,int,str,str,str,str,int,int,int,int,int,int,int,str,str,str,str,int,str,str,str,str,str,str,str,str,str,str,str,str,str,str,str,str,str,str,str,str,str,str,str,int,int,int,int,int,int,int,int,int,int,int,int,int,str,str,str,str,str,str,str,str,str]\n",
      "If parsing fails due to incorrect types, you can correct\n",
      "the inferred type list above and pass it to read_csv in\n",
      "the column_type_hints argument\n",
      "------------------------------------------------------\n"
     ]
    },
    {
     "data": {
      "text/html": [
       "<pre>Finished parsing file /home/esdras/Sistemas-Inteligentes/TrabalhoFinal/train.csv</pre>"
      ],
      "text/plain": [
       "Finished parsing file /home/esdras/Sistemas-Inteligentes/TrabalhoFinal/train.csv"
      ]
     },
     "metadata": {},
     "output_type": "display_data"
    },
    {
     "data": {
      "text/html": [
       "<pre>Parsing completed. Parsed 13686 lines in 0.26146 secs.</pre>"
      ],
      "text/plain": [
       "Parsing completed. Parsed 13686 lines in 0.26146 secs."
      ]
     },
     "metadata": {},
     "output_type": "display_data"
    }
   ],
   "source": [
    "alunos = graphlab.SFrame.read_csv('train.csv')"
   ]
  },
  {
   "cell_type": "code",
   "execution_count": 3,
   "metadata": {
    "collapsed": false
   },
   "outputs": [
    {
     "data": {
      "text/html": [
       "<div style=\"max-height:1000px;max-width:1500px;overflow:auto;\"><table frame=\"box\" rules=\"cols\">\n",
       "    <tr>\n",
       "        <th style=\"padding-left: 1em; padding-right: 1em; text-align: center\">X1</th>\n",
       "        <th style=\"padding-left: 1em; padding-right: 1em; text-align: center\">NU_INSCRICAO</th>\n",
       "        <th style=\"padding-left: 1em; padding-right: 1em; text-align: center\">NU_ANO</th>\n",
       "        <th style=\"padding-left: 1em; padding-right: 1em; text-align: center\">CO_MUNICIPIO_RESIDENCIA</th>\n",
       "        <th style=\"padding-left: 1em; padding-right: 1em; text-align: center\">NO_MUNICIPIO_RESIDENCIA</th>\n",
       "        <th style=\"padding-left: 1em; padding-right: 1em; text-align: center\">CO_UF_RESIDENCIA</th>\n",
       "        <th style=\"padding-left: 1em; padding-right: 1em; text-align: center\">SG_UF_RESIDENCIA</th>\n",
       "    </tr>\n",
       "    <tr>\n",
       "        <td style=\"padding-left: 1em; padding-right: 1em; text-align: center; vertical-align: top\">1</td>\n",
       "        <td style=\"padding-left: 1em; padding-right: 1em; text-align: center; vertical-align: top\">f69113a0fda10e003073c92dc<br>68ae46cebf85d3f ...</td>\n",
       "        <td style=\"padding-left: 1em; padding-right: 1em; text-align: center; vertical-align: top\">2016</td>\n",
       "        <td style=\"padding-left: 1em; padding-right: 1em; text-align: center; vertical-align: top\">2914802</td>\n",
       "        <td style=\"padding-left: 1em; padding-right: 1em; text-align: center; vertical-align: top\">Itabuna</td>\n",
       "        <td style=\"padding-left: 1em; padding-right: 1em; text-align: center; vertical-align: top\">29</td>\n",
       "        <td style=\"padding-left: 1em; padding-right: 1em; text-align: center; vertical-align: top\">BA</td>\n",
       "    </tr>\n",
       "    <tr>\n",
       "        <td style=\"padding-left: 1em; padding-right: 1em; text-align: center; vertical-align: top\">2</td>\n",
       "        <td style=\"padding-left: 1em; padding-right: 1em; text-align: center; vertical-align: top\">07870321422c6ed9e24248bfe<br>80a6e39694bf86b ...</td>\n",
       "        <td style=\"padding-left: 1em; padding-right: 1em; text-align: center; vertical-align: top\">2016</td>\n",
       "        <td style=\"padding-left: 1em; padding-right: 1em; text-align: center; vertical-align: top\">2307700</td>\n",
       "        <td style=\"padding-left: 1em; padding-right: 1em; text-align: center; vertical-align: top\">Maranguape</td>\n",
       "        <td style=\"padding-left: 1em; padding-right: 1em; text-align: center; vertical-align: top\">23</td>\n",
       "        <td style=\"padding-left: 1em; padding-right: 1em; text-align: center; vertical-align: top\">CE</td>\n",
       "    </tr>\n",
       "    <tr>\n",
       "        <td style=\"padding-left: 1em; padding-right: 1em; text-align: center; vertical-align: top\">3</td>\n",
       "        <td style=\"padding-left: 1em; padding-right: 1em; text-align: center; vertical-align: top\">00eb8e32d58c602c81df66b1b<br>a9e7dc94ef0ec2d ...</td>\n",
       "        <td style=\"padding-left: 1em; padding-right: 1em; text-align: center; vertical-align: top\">2016</td>\n",
       "        <td style=\"padding-left: 1em; padding-right: 1em; text-align: center; vertical-align: top\">1506104</td>\n",
       "        <td style=\"padding-left: 1em; padding-right: 1em; text-align: center; vertical-align: top\">Primavera</td>\n",
       "        <td style=\"padding-left: 1em; padding-right: 1em; text-align: center; vertical-align: top\">15</td>\n",
       "        <td style=\"padding-left: 1em; padding-right: 1em; text-align: center; vertical-align: top\">PA</td>\n",
       "    </tr>\n",
       "    <tr>\n",
       "        <td style=\"padding-left: 1em; padding-right: 1em; text-align: center; vertical-align: top\">4</td>\n",
       "        <td style=\"padding-left: 1em; padding-right: 1em; text-align: center; vertical-align: top\">c5aa7b15bba422a5f2cceab28<br>470f3722a267c2f ...</td>\n",
       "        <td style=\"padding-left: 1em; padding-right: 1em; text-align: center; vertical-align: top\">2016</td>\n",
       "        <td style=\"padding-left: 1em; padding-right: 1em; text-align: center; vertical-align: top\">1505809</td>\n",
       "        <td style=\"padding-left: 1em; padding-right: 1em; text-align: center; vertical-align: top\">Portel</td>\n",
       "        <td style=\"padding-left: 1em; padding-right: 1em; text-align: center; vertical-align: top\">15</td>\n",
       "        <td style=\"padding-left: 1em; padding-right: 1em; text-align: center; vertical-align: top\">PA</td>\n",
       "    </tr>\n",
       "    <tr>\n",
       "        <td style=\"padding-left: 1em; padding-right: 1em; text-align: center; vertical-align: top\">5</td>\n",
       "        <td style=\"padding-left: 1em; padding-right: 1em; text-align: center; vertical-align: top\">4a34a60cfeba08c0063038497<br>758f11d2894f896 ...</td>\n",
       "        <td style=\"padding-left: 1em; padding-right: 1em; text-align: center; vertical-align: top\">2016</td>\n",
       "        <td style=\"padding-left: 1em; padding-right: 1em; text-align: center; vertical-align: top\">3304557</td>\n",
       "        <td style=\"padding-left: 1em; padding-right: 1em; text-align: center; vertical-align: top\">Rio de Janeiro</td>\n",
       "        <td style=\"padding-left: 1em; padding-right: 1em; text-align: center; vertical-align: top\">33</td>\n",
       "        <td style=\"padding-left: 1em; padding-right: 1em; text-align: center; vertical-align: top\">RJ</td>\n",
       "    </tr>\n",
       "    <tr>\n",
       "        <td style=\"padding-left: 1em; padding-right: 1em; text-align: center; vertical-align: top\">6</td>\n",
       "        <td style=\"padding-left: 1em; padding-right: 1em; text-align: center; vertical-align: top\">4cd8f6d99fe793dab7dbb6bd1<br>33cb418f61d3a2e ...</td>\n",
       "        <td style=\"padding-left: 1em; padding-right: 1em; text-align: center; vertical-align: top\">2016</td>\n",
       "        <td style=\"padding-left: 1em; padding-right: 1em; text-align: center; vertical-align: top\">1716109</td>\n",
       "        <td style=\"padding-left: 1em; padding-right: 1em; text-align: center; vertical-align: top\">Paraíso do Tocantins</td>\n",
       "        <td style=\"padding-left: 1em; padding-right: 1em; text-align: center; vertical-align: top\">17</td>\n",
       "        <td style=\"padding-left: 1em; padding-right: 1em; text-align: center; vertical-align: top\">TO</td>\n",
       "    </tr>\n",
       "    <tr>\n",
       "        <td style=\"padding-left: 1em; padding-right: 1em; text-align: center; vertical-align: top\">7</td>\n",
       "        <td style=\"padding-left: 1em; padding-right: 1em; text-align: center; vertical-align: top\">31de52dda32a683ac2c32b7b5<br>2473abcc553970a ...</td>\n",
       "        <td style=\"padding-left: 1em; padding-right: 1em; text-align: center; vertical-align: top\">2016</td>\n",
       "        <td style=\"padding-left: 1em; padding-right: 1em; text-align: center; vertical-align: top\">3148103</td>\n",
       "        <td style=\"padding-left: 1em; padding-right: 1em; text-align: center; vertical-align: top\">Patrocínio</td>\n",
       "        <td style=\"padding-left: 1em; padding-right: 1em; text-align: center; vertical-align: top\">31</td>\n",
       "        <td style=\"padding-left: 1em; padding-right: 1em; text-align: center; vertical-align: top\">MG</td>\n",
       "    </tr>\n",
       "    <tr>\n",
       "        <td style=\"padding-left: 1em; padding-right: 1em; text-align: center; vertical-align: top\">8</td>\n",
       "        <td style=\"padding-left: 1em; padding-right: 1em; text-align: center; vertical-align: top\">00d1f7b612149821abb8d97ce<br>86810e6c79f75ca ...</td>\n",
       "        <td style=\"padding-left: 1em; padding-right: 1em; text-align: center; vertical-align: top\">2016</td>\n",
       "        <td style=\"padding-left: 1em; padding-right: 1em; text-align: center; vertical-align: top\">2704302</td>\n",
       "        <td style=\"padding-left: 1em; padding-right: 1em; text-align: center; vertical-align: top\">Maceió</td>\n",
       "        <td style=\"padding-left: 1em; padding-right: 1em; text-align: center; vertical-align: top\">27</td>\n",
       "        <td style=\"padding-left: 1em; padding-right: 1em; text-align: center; vertical-align: top\">AL</td>\n",
       "    </tr>\n",
       "    <tr>\n",
       "        <td style=\"padding-left: 1em; padding-right: 1em; text-align: center; vertical-align: top\">9</td>\n",
       "        <td style=\"padding-left: 1em; padding-right: 1em; text-align: center; vertical-align: top\">a10f110b82c447c56ccf643f9<br>b309bc89a9f2a67 ...</td>\n",
       "        <td style=\"padding-left: 1em; padding-right: 1em; text-align: center; vertical-align: top\">2016</td>\n",
       "        <td style=\"padding-left: 1em; padding-right: 1em; text-align: center; vertical-align: top\">3518404</td>\n",
       "        <td style=\"padding-left: 1em; padding-right: 1em; text-align: center; vertical-align: top\">Guaratinguetá</td>\n",
       "        <td style=\"padding-left: 1em; padding-right: 1em; text-align: center; vertical-align: top\">35</td>\n",
       "        <td style=\"padding-left: 1em; padding-right: 1em; text-align: center; vertical-align: top\">SP</td>\n",
       "    </tr>\n",
       "    <tr>\n",
       "        <td style=\"padding-left: 1em; padding-right: 1em; text-align: center; vertical-align: top\">10</td>\n",
       "        <td style=\"padding-left: 1em; padding-right: 1em; text-align: center; vertical-align: top\">c1123b69810e1dadb7ee51189<br>caada061c73442c ...</td>\n",
       "        <td style=\"padding-left: 1em; padding-right: 1em; text-align: center; vertical-align: top\">2016</td>\n",
       "        <td style=\"padding-left: 1em; padding-right: 1em; text-align: center; vertical-align: top\">2302503</td>\n",
       "        <td style=\"padding-left: 1em; padding-right: 1em; text-align: center; vertical-align: top\">Brejo Santo</td>\n",
       "        <td style=\"padding-left: 1em; padding-right: 1em; text-align: center; vertical-align: top\">23</td>\n",
       "        <td style=\"padding-left: 1em; padding-right: 1em; text-align: center; vertical-align: top\">CE</td>\n",
       "    </tr>\n",
       "</table>\n",
       "<table frame=\"box\" rules=\"cols\">\n",
       "    <tr>\n",
       "        <th style=\"padding-left: 1em; padding-right: 1em; text-align: center\">NU_IDADE</th>\n",
       "        <th style=\"padding-left: 1em; padding-right: 1em; text-align: center\">TP_SEXO</th>\n",
       "        <th style=\"padding-left: 1em; padding-right: 1em; text-align: center\">TP_ESTADO_CIVIL</th>\n",
       "        <th style=\"padding-left: 1em; padding-right: 1em; text-align: center\">TP_COR_RACA</th>\n",
       "        <th style=\"padding-left: 1em; padding-right: 1em; text-align: center\">TP_NACIONALIDADE</th>\n",
       "        <th style=\"padding-left: 1em; padding-right: 1em; text-align: center\">CO_MUNICIPIO_NASCIMENTO</th>\n",
       "        <th style=\"padding-left: 1em; padding-right: 1em; text-align: center\">NO_MUNICIPIO_NASCIMENTO</th>\n",
       "    </tr>\n",
       "    <tr>\n",
       "        <td style=\"padding-left: 1em; padding-right: 1em; text-align: center; vertical-align: top\">39</td>\n",
       "        <td style=\"padding-left: 1em; padding-right: 1em; text-align: center; vertical-align: top\">F</td>\n",
       "        <td style=\"padding-left: 1em; padding-right: 1em; text-align: center; vertical-align: top\">1</td>\n",
       "        <td style=\"padding-left: 1em; padding-right: 1em; text-align: center; vertical-align: top\">3</td>\n",
       "        <td style=\"padding-left: 1em; padding-right: 1em; text-align: center; vertical-align: top\">1</td>\n",
       "        <td style=\"padding-left: 1em; padding-right: 1em; text-align: center; vertical-align: top\">3304557</td>\n",
       "        <td style=\"padding-left: 1em; padding-right: 1em; text-align: center; vertical-align: top\">Rio de Janeiro</td>\n",
       "    </tr>\n",
       "    <tr>\n",
       "        <td style=\"padding-left: 1em; padding-right: 1em; text-align: center; vertical-align: top\">19</td>\n",
       "        <td style=\"padding-left: 1em; padding-right: 1em; text-align: center; vertical-align: top\">F</td>\n",
       "        <td style=\"padding-left: 1em; padding-right: 1em; text-align: center; vertical-align: top\">0</td>\n",
       "        <td style=\"padding-left: 1em; padding-right: 1em; text-align: center; vertical-align: top\">3</td>\n",
       "        <td style=\"padding-left: 1em; padding-right: 1em; text-align: center; vertical-align: top\">1</td>\n",
       "        <td style=\"padding-left: 1em; padding-right: 1em; text-align: center; vertical-align: top\">2307700</td>\n",
       "        <td style=\"padding-left: 1em; padding-right: 1em; text-align: center; vertical-align: top\">Maranguape</td>\n",
       "    </tr>\n",
       "    <tr>\n",
       "        <td style=\"padding-left: 1em; padding-right: 1em; text-align: center; vertical-align: top\">18</td>\n",
       "        <td style=\"padding-left: 1em; padding-right: 1em; text-align: center; vertical-align: top\">M</td>\n",
       "        <td style=\"padding-left: 1em; padding-right: 1em; text-align: center; vertical-align: top\">0</td>\n",
       "        <td style=\"padding-left: 1em; padding-right: 1em; text-align: center; vertical-align: top\">1</td>\n",
       "        <td style=\"padding-left: 1em; padding-right: 1em; text-align: center; vertical-align: top\">1</td>\n",
       "        <td style=\"padding-left: 1em; padding-right: 1em; text-align: center; vertical-align: top\">1506104</td>\n",
       "        <td style=\"padding-left: 1em; padding-right: 1em; text-align: center; vertical-align: top\">Primavera</td>\n",
       "    </tr>\n",
       "    <tr>\n",
       "        <td style=\"padding-left: 1em; padding-right: 1em; text-align: center; vertical-align: top\">24</td>\n",
       "        <td style=\"padding-left: 1em; padding-right: 1em; text-align: center; vertical-align: top\">F</td>\n",
       "        <td style=\"padding-left: 1em; padding-right: 1em; text-align: center; vertical-align: top\">0</td>\n",
       "        <td style=\"padding-left: 1em; padding-right: 1em; text-align: center; vertical-align: top\">3</td>\n",
       "        <td style=\"padding-left: 1em; padding-right: 1em; text-align: center; vertical-align: top\">1</td>\n",
       "        <td style=\"padding-left: 1em; padding-right: 1em; text-align: center; vertical-align: top\">1505809</td>\n",
       "        <td style=\"padding-left: 1em; padding-right: 1em; text-align: center; vertical-align: top\">Portel</td>\n",
       "    </tr>\n",
       "    <tr>\n",
       "        <td style=\"padding-left: 1em; padding-right: 1em; text-align: center; vertical-align: top\">26</td>\n",
       "        <td style=\"padding-left: 1em; padding-right: 1em; text-align: center; vertical-align: top\">F</td>\n",
       "        <td style=\"padding-left: 1em; padding-right: 1em; text-align: center; vertical-align: top\">0</td>\n",
       "        <td style=\"padding-left: 1em; padding-right: 1em; text-align: center; vertical-align: top\">3</td>\n",
       "        <td style=\"padding-left: 1em; padding-right: 1em; text-align: center; vertical-align: top\">1</td>\n",
       "        <td style=\"padding-left: 1em; padding-right: 1em; text-align: center; vertical-align: top\">3304557</td>\n",
       "        <td style=\"padding-left: 1em; padding-right: 1em; text-align: center; vertical-align: top\">Rio de Janeiro</td>\n",
       "    </tr>\n",
       "    <tr>\n",
       "        <td style=\"padding-left: 1em; padding-right: 1em; text-align: center; vertical-align: top\">19</td>\n",
       "        <td style=\"padding-left: 1em; padding-right: 1em; text-align: center; vertical-align: top\">M</td>\n",
       "        <td style=\"padding-left: 1em; padding-right: 1em; text-align: center; vertical-align: top\">0</td>\n",
       "        <td style=\"padding-left: 1em; padding-right: 1em; text-align: center; vertical-align: top\">1</td>\n",
       "        <td style=\"padding-left: 1em; padding-right: 1em; text-align: center; vertical-align: top\">1</td>\n",
       "        <td style=\"padding-left: 1em; padding-right: 1em; text-align: center; vertical-align: top\">1506161</td>\n",
       "        <td style=\"padding-left: 1em; padding-right: 1em; text-align: center; vertical-align: top\">Rio Maria</td>\n",
       "    </tr>\n",
       "    <tr>\n",
       "        <td style=\"padding-left: 1em; padding-right: 1em; text-align: center; vertical-align: top\">19</td>\n",
       "        <td style=\"padding-left: 1em; padding-right: 1em; text-align: center; vertical-align: top\">F</td>\n",
       "        <td style=\"padding-left: 1em; padding-right: 1em; text-align: center; vertical-align: top\">0</td>\n",
       "        <td style=\"padding-left: 1em; padding-right: 1em; text-align: center; vertical-align: top\">2</td>\n",
       "        <td style=\"padding-left: 1em; padding-right: 1em; text-align: center; vertical-align: top\">1</td>\n",
       "        <td style=\"padding-left: 1em; padding-right: 1em; text-align: center; vertical-align: top\">3148103</td>\n",
       "        <td style=\"padding-left: 1em; padding-right: 1em; text-align: center; vertical-align: top\">Patrocínio</td>\n",
       "    </tr>\n",
       "    <tr>\n",
       "        <td style=\"padding-left: 1em; padding-right: 1em; text-align: center; vertical-align: top\">17</td>\n",
       "        <td style=\"padding-left: 1em; padding-right: 1em; text-align: center; vertical-align: top\">M</td>\n",
       "        <td style=\"padding-left: 1em; padding-right: 1em; text-align: center; vertical-align: top\">0</td>\n",
       "        <td style=\"padding-left: 1em; padding-right: 1em; text-align: center; vertical-align: top\">0</td>\n",
       "        <td style=\"padding-left: 1em; padding-right: 1em; text-align: center; vertical-align: top\">1</td>\n",
       "        <td style=\"padding-left: 1em; padding-right: 1em; text-align: center; vertical-align: top\">2704302</td>\n",
       "        <td style=\"padding-left: 1em; padding-right: 1em; text-align: center; vertical-align: top\">Maceió</td>\n",
       "    </tr>\n",
       "    <tr>\n",
       "        <td style=\"padding-left: 1em; padding-right: 1em; text-align: center; vertical-align: top\">17</td>\n",
       "        <td style=\"padding-left: 1em; padding-right: 1em; text-align: center; vertical-align: top\">F</td>\n",
       "        <td style=\"padding-left: 1em; padding-right: 1em; text-align: center; vertical-align: top\">0</td>\n",
       "        <td style=\"padding-left: 1em; padding-right: 1em; text-align: center; vertical-align: top\">1</td>\n",
       "        <td style=\"padding-left: 1em; padding-right: 1em; text-align: center; vertical-align: top\">1</td>\n",
       "        <td style=\"padding-left: 1em; padding-right: 1em; text-align: center; vertical-align: top\">3518404</td>\n",
       "        <td style=\"padding-left: 1em; padding-right: 1em; text-align: center; vertical-align: top\">Guaratinguetá</td>\n",
       "    </tr>\n",
       "    <tr>\n",
       "        <td style=\"padding-left: 1em; padding-right: 1em; text-align: center; vertical-align: top\">24</td>\n",
       "        <td style=\"padding-left: 1em; padding-right: 1em; text-align: center; vertical-align: top\">F</td>\n",
       "        <td style=\"padding-left: 1em; padding-right: 1em; text-align: center; vertical-align: top\">2</td>\n",
       "        <td style=\"padding-left: 1em; padding-right: 1em; text-align: center; vertical-align: top\">1</td>\n",
       "        <td style=\"padding-left: 1em; padding-right: 1em; text-align: center; vertical-align: top\">1</td>\n",
       "        <td style=\"padding-left: 1em; padding-right: 1em; text-align: center; vertical-align: top\">2302503</td>\n",
       "        <td style=\"padding-left: 1em; padding-right: 1em; text-align: center; vertical-align: top\">Brejo Santo</td>\n",
       "    </tr>\n",
       "</table>\n",
       "<table frame=\"box\" rules=\"cols\">\n",
       "    <tr>\n",
       "        <th style=\"padding-left: 1em; padding-right: 1em; text-align: center\">CO_UF_NASCIMENTO</th>\n",
       "        <th style=\"padding-left: 1em; padding-right: 1em; text-align: center\">SG_UF_NASCIMENTO</th>\n",
       "        <th style=\"padding-left: 1em; padding-right: 1em; text-align: center\">TP_ST_CONCLUSAO</th>\n",
       "        <th style=\"padding-left: 1em; padding-right: 1em; text-align: center\">TP_ANO_CONCLUIU</th>\n",
       "        <th style=\"padding-left: 1em; padding-right: 1em; text-align: center\">TP_ESCOLA</th>\n",
       "        <th style=\"padding-left: 1em; padding-right: 1em; text-align: center\">TP_ENSINO</th>\n",
       "        <th style=\"padding-left: 1em; padding-right: 1em; text-align: center\">IN_TREINEIRO</th>\n",
       "    </tr>\n",
       "    <tr>\n",
       "        <td style=\"padding-left: 1em; padding-right: 1em; text-align: center; vertical-align: top\">33</td>\n",
       "        <td style=\"padding-left: 1em; padding-right: 1em; text-align: center; vertical-align: top\">RJ</td>\n",
       "        <td style=\"padding-left: 1em; padding-right: 1em; text-align: center; vertical-align: top\">1</td>\n",
       "        <td style=\"padding-left: 1em; padding-right: 1em; text-align: center; vertical-align: top\">10</td>\n",
       "        <td style=\"padding-left: 1em; padding-right: 1em; text-align: center; vertical-align: top\">1</td>\n",
       "        <td style=\"padding-left: 1em; padding-right: 1em; text-align: center; vertical-align: top\">None</td>\n",
       "        <td style=\"padding-left: 1em; padding-right: 1em; text-align: center; vertical-align: top\">0</td>\n",
       "    </tr>\n",
       "    <tr>\n",
       "        <td style=\"padding-left: 1em; padding-right: 1em; text-align: center; vertical-align: top\">23</td>\n",
       "        <td style=\"padding-left: 1em; padding-right: 1em; text-align: center; vertical-align: top\">CE</td>\n",
       "        <td style=\"padding-left: 1em; padding-right: 1em; text-align: center; vertical-align: top\">1</td>\n",
       "        <td style=\"padding-left: 1em; padding-right: 1em; text-align: center; vertical-align: top\">2</td>\n",
       "        <td style=\"padding-left: 1em; padding-right: 1em; text-align: center; vertical-align: top\">1</td>\n",
       "        <td style=\"padding-left: 1em; padding-right: 1em; text-align: center; vertical-align: top\">None</td>\n",
       "        <td style=\"padding-left: 1em; padding-right: 1em; text-align: center; vertical-align: top\">0</td>\n",
       "    </tr>\n",
       "    <tr>\n",
       "        <td style=\"padding-left: 1em; padding-right: 1em; text-align: center; vertical-align: top\">15</td>\n",
       "        <td style=\"padding-left: 1em; padding-right: 1em; text-align: center; vertical-align: top\">PA</td>\n",
       "        <td style=\"padding-left: 1em; padding-right: 1em; text-align: center; vertical-align: top\">3</td>\n",
       "        <td style=\"padding-left: 1em; padding-right: 1em; text-align: center; vertical-align: top\">0</td>\n",
       "        <td style=\"padding-left: 1em; padding-right: 1em; text-align: center; vertical-align: top\">1</td>\n",
       "        <td style=\"padding-left: 1em; padding-right: 1em; text-align: center; vertical-align: top\">None</td>\n",
       "        <td style=\"padding-left: 1em; padding-right: 1em; text-align: center; vertical-align: top\">0</td>\n",
       "    </tr>\n",
       "    <tr>\n",
       "        <td style=\"padding-left: 1em; padding-right: 1em; text-align: center; vertical-align: top\">15</td>\n",
       "        <td style=\"padding-left: 1em; padding-right: 1em; text-align: center; vertical-align: top\">PA</td>\n",
       "        <td style=\"padding-left: 1em; padding-right: 1em; text-align: center; vertical-align: top\">1</td>\n",
       "        <td style=\"padding-left: 1em; padding-right: 1em; text-align: center; vertical-align: top\">5</td>\n",
       "        <td style=\"padding-left: 1em; padding-right: 1em; text-align: center; vertical-align: top\">1</td>\n",
       "        <td style=\"padding-left: 1em; padding-right: 1em; text-align: center; vertical-align: top\">None</td>\n",
       "        <td style=\"padding-left: 1em; padding-right: 1em; text-align: center; vertical-align: top\">0</td>\n",
       "    </tr>\n",
       "    <tr>\n",
       "        <td style=\"padding-left: 1em; padding-right: 1em; text-align: center; vertical-align: top\">33</td>\n",
       "        <td style=\"padding-left: 1em; padding-right: 1em; text-align: center; vertical-align: top\">RJ</td>\n",
       "        <td style=\"padding-left: 1em; padding-right: 1em; text-align: center; vertical-align: top\">1</td>\n",
       "        <td style=\"padding-left: 1em; padding-right: 1em; text-align: center; vertical-align: top\">9</td>\n",
       "        <td style=\"padding-left: 1em; padding-right: 1em; text-align: center; vertical-align: top\">1</td>\n",
       "        <td style=\"padding-left: 1em; padding-right: 1em; text-align: center; vertical-align: top\">None</td>\n",
       "        <td style=\"padding-left: 1em; padding-right: 1em; text-align: center; vertical-align: top\">0</td>\n",
       "    </tr>\n",
       "    <tr>\n",
       "        <td style=\"padding-left: 1em; padding-right: 1em; text-align: center; vertical-align: top\">15</td>\n",
       "        <td style=\"padding-left: 1em; padding-right: 1em; text-align: center; vertical-align: top\">PA</td>\n",
       "        <td style=\"padding-left: 1em; padding-right: 1em; text-align: center; vertical-align: top\">1</td>\n",
       "        <td style=\"padding-left: 1em; padding-right: 1em; text-align: center; vertical-align: top\">1</td>\n",
       "        <td style=\"padding-left: 1em; padding-right: 1em; text-align: center; vertical-align: top\">1</td>\n",
       "        <td style=\"padding-left: 1em; padding-right: 1em; text-align: center; vertical-align: top\">None</td>\n",
       "        <td style=\"padding-left: 1em; padding-right: 1em; text-align: center; vertical-align: top\">0</td>\n",
       "    </tr>\n",
       "    <tr>\n",
       "        <td style=\"padding-left: 1em; padding-right: 1em; text-align: center; vertical-align: top\">31</td>\n",
       "        <td style=\"padding-left: 1em; padding-right: 1em; text-align: center; vertical-align: top\">MG</td>\n",
       "        <td style=\"padding-left: 1em; padding-right: 1em; text-align: center; vertical-align: top\">1</td>\n",
       "        <td style=\"padding-left: 1em; padding-right: 1em; text-align: center; vertical-align: top\">2</td>\n",
       "        <td style=\"padding-left: 1em; padding-right: 1em; text-align: center; vertical-align: top\">1</td>\n",
       "        <td style=\"padding-left: 1em; padding-right: 1em; text-align: center; vertical-align: top\">None</td>\n",
       "        <td style=\"padding-left: 1em; padding-right: 1em; text-align: center; vertical-align: top\">0</td>\n",
       "    </tr>\n",
       "    <tr>\n",
       "        <td style=\"padding-left: 1em; padding-right: 1em; text-align: center; vertical-align: top\">27</td>\n",
       "        <td style=\"padding-left: 1em; padding-right: 1em; text-align: center; vertical-align: top\">AL</td>\n",
       "        <td style=\"padding-left: 1em; padding-right: 1em; text-align: center; vertical-align: top\">3</td>\n",
       "        <td style=\"padding-left: 1em; padding-right: 1em; text-align: center; vertical-align: top\">0</td>\n",
       "        <td style=\"padding-left: 1em; padding-right: 1em; text-align: center; vertical-align: top\">1</td>\n",
       "        <td style=\"padding-left: 1em; padding-right: 1em; text-align: center; vertical-align: top\">None</td>\n",
       "        <td style=\"padding-left: 1em; padding-right: 1em; text-align: center; vertical-align: top\">1</td>\n",
       "    </tr>\n",
       "    <tr>\n",
       "        <td style=\"padding-left: 1em; padding-right: 1em; text-align: center; vertical-align: top\">35</td>\n",
       "        <td style=\"padding-left: 1em; padding-right: 1em; text-align: center; vertical-align: top\">SP</td>\n",
       "        <td style=\"padding-left: 1em; padding-right: 1em; text-align: center; vertical-align: top\">2</td>\n",
       "        <td style=\"padding-left: 1em; padding-right: 1em; text-align: center; vertical-align: top\">0</td>\n",
       "        <td style=\"padding-left: 1em; padding-right: 1em; text-align: center; vertical-align: top\">2</td>\n",
       "        <td style=\"padding-left: 1em; padding-right: 1em; text-align: center; vertical-align: top\">1</td>\n",
       "        <td style=\"padding-left: 1em; padding-right: 1em; text-align: center; vertical-align: top\">0</td>\n",
       "    </tr>\n",
       "    <tr>\n",
       "        <td style=\"padding-left: 1em; padding-right: 1em; text-align: center; vertical-align: top\">23</td>\n",
       "        <td style=\"padding-left: 1em; padding-right: 1em; text-align: center; vertical-align: top\">CE</td>\n",
       "        <td style=\"padding-left: 1em; padding-right: 1em; text-align: center; vertical-align: top\">1</td>\n",
       "        <td style=\"padding-left: 1em; padding-right: 1em; text-align: center; vertical-align: top\">5</td>\n",
       "        <td style=\"padding-left: 1em; padding-right: 1em; text-align: center; vertical-align: top\">1</td>\n",
       "        <td style=\"padding-left: 1em; padding-right: 1em; text-align: center; vertical-align: top\">None</td>\n",
       "        <td style=\"padding-left: 1em; padding-right: 1em; text-align: center; vertical-align: top\">0</td>\n",
       "    </tr>\n",
       "</table>\n",
       "<table frame=\"box\" rules=\"cols\">\n",
       "    <tr>\n",
       "        <th style=\"padding-left: 1em; padding-right: 1em; text-align: center\">CO_ESCOLA</th>\n",
       "        <th style=\"padding-left: 1em; padding-right: 1em; text-align: center\">CO_MUNICIPIO_ESC</th>\n",
       "        <th style=\"padding-left: 1em; padding-right: 1em; text-align: center\">NO_MUNICIPIO_ESC</th>\n",
       "        <th style=\"padding-left: 1em; padding-right: 1em; text-align: center\">CO_UF_ESC</th>\n",
       "        <th style=\"padding-left: 1em; padding-right: 1em; text-align: center\">SG_UF_ESC</th>\n",
       "        <th style=\"padding-left: 1em; padding-right: 1em; text-align: center\">TP_DEPENDENCIA_ADM_ESC</th>\n",
       "        <th style=\"padding-left: 1em; padding-right: 1em; text-align: center\">TP_LOCALIZACAO_ESC</th>\n",
       "    </tr>\n",
       "    <tr>\n",
       "        <td style=\"padding-left: 1em; padding-right: 1em; text-align: center; vertical-align: top\">None</td>\n",
       "        <td style=\"padding-left: 1em; padding-right: 1em; text-align: center; vertical-align: top\">None</td>\n",
       "        <td style=\"padding-left: 1em; padding-right: 1em; text-align: center; vertical-align: top\"></td>\n",
       "        <td style=\"padding-left: 1em; padding-right: 1em; text-align: center; vertical-align: top\">None</td>\n",
       "        <td style=\"padding-left: 1em; padding-right: 1em; text-align: center; vertical-align: top\"></td>\n",
       "        <td style=\"padding-left: 1em; padding-right: 1em; text-align: center; vertical-align: top\">None</td>\n",
       "        <td style=\"padding-left: 1em; padding-right: 1em; text-align: center; vertical-align: top\">None</td>\n",
       "    </tr>\n",
       "    <tr>\n",
       "        <td style=\"padding-left: 1em; padding-right: 1em; text-align: center; vertical-align: top\">None</td>\n",
       "        <td style=\"padding-left: 1em; padding-right: 1em; text-align: center; vertical-align: top\">None</td>\n",
       "        <td style=\"padding-left: 1em; padding-right: 1em; text-align: center; vertical-align: top\"></td>\n",
       "        <td style=\"padding-left: 1em; padding-right: 1em; text-align: center; vertical-align: top\">None</td>\n",
       "        <td style=\"padding-left: 1em; padding-right: 1em; text-align: center; vertical-align: top\"></td>\n",
       "        <td style=\"padding-left: 1em; padding-right: 1em; text-align: center; vertical-align: top\">None</td>\n",
       "        <td style=\"padding-left: 1em; padding-right: 1em; text-align: center; vertical-align: top\">None</td>\n",
       "    </tr>\n",
       "    <tr>\n",
       "        <td style=\"padding-left: 1em; padding-right: 1em; text-align: center; vertical-align: top\">None</td>\n",
       "        <td style=\"padding-left: 1em; padding-right: 1em; text-align: center; vertical-align: top\">None</td>\n",
       "        <td style=\"padding-left: 1em; padding-right: 1em; text-align: center; vertical-align: top\"></td>\n",
       "        <td style=\"padding-left: 1em; padding-right: 1em; text-align: center; vertical-align: top\">None</td>\n",
       "        <td style=\"padding-left: 1em; padding-right: 1em; text-align: center; vertical-align: top\"></td>\n",
       "        <td style=\"padding-left: 1em; padding-right: 1em; text-align: center; vertical-align: top\">None</td>\n",
       "        <td style=\"padding-left: 1em; padding-right: 1em; text-align: center; vertical-align: top\">None</td>\n",
       "    </tr>\n",
       "    <tr>\n",
       "        <td style=\"padding-left: 1em; padding-right: 1em; text-align: center; vertical-align: top\">None</td>\n",
       "        <td style=\"padding-left: 1em; padding-right: 1em; text-align: center; vertical-align: top\">None</td>\n",
       "        <td style=\"padding-left: 1em; padding-right: 1em; text-align: center; vertical-align: top\"></td>\n",
       "        <td style=\"padding-left: 1em; padding-right: 1em; text-align: center; vertical-align: top\">None</td>\n",
       "        <td style=\"padding-left: 1em; padding-right: 1em; text-align: center; vertical-align: top\"></td>\n",
       "        <td style=\"padding-left: 1em; padding-right: 1em; text-align: center; vertical-align: top\">None</td>\n",
       "        <td style=\"padding-left: 1em; padding-right: 1em; text-align: center; vertical-align: top\">None</td>\n",
       "    </tr>\n",
       "    <tr>\n",
       "        <td style=\"padding-left: 1em; padding-right: 1em; text-align: center; vertical-align: top\">None</td>\n",
       "        <td style=\"padding-left: 1em; padding-right: 1em; text-align: center; vertical-align: top\">None</td>\n",
       "        <td style=\"padding-left: 1em; padding-right: 1em; text-align: center; vertical-align: top\"></td>\n",
       "        <td style=\"padding-left: 1em; padding-right: 1em; text-align: center; vertical-align: top\">None</td>\n",
       "        <td style=\"padding-left: 1em; padding-right: 1em; text-align: center; vertical-align: top\"></td>\n",
       "        <td style=\"padding-left: 1em; padding-right: 1em; text-align: center; vertical-align: top\">None</td>\n",
       "        <td style=\"padding-left: 1em; padding-right: 1em; text-align: center; vertical-align: top\">None</td>\n",
       "    </tr>\n",
       "    <tr>\n",
       "        <td style=\"padding-left: 1em; padding-right: 1em; text-align: center; vertical-align: top\">None</td>\n",
       "        <td style=\"padding-left: 1em; padding-right: 1em; text-align: center; vertical-align: top\">None</td>\n",
       "        <td style=\"padding-left: 1em; padding-right: 1em; text-align: center; vertical-align: top\"></td>\n",
       "        <td style=\"padding-left: 1em; padding-right: 1em; text-align: center; vertical-align: top\">None</td>\n",
       "        <td style=\"padding-left: 1em; padding-right: 1em; text-align: center; vertical-align: top\"></td>\n",
       "        <td style=\"padding-left: 1em; padding-right: 1em; text-align: center; vertical-align: top\">None</td>\n",
       "        <td style=\"padding-left: 1em; padding-right: 1em; text-align: center; vertical-align: top\">None</td>\n",
       "    </tr>\n",
       "    <tr>\n",
       "        <td style=\"padding-left: 1em; padding-right: 1em; text-align: center; vertical-align: top\">None</td>\n",
       "        <td style=\"padding-left: 1em; padding-right: 1em; text-align: center; vertical-align: top\">None</td>\n",
       "        <td style=\"padding-left: 1em; padding-right: 1em; text-align: center; vertical-align: top\"></td>\n",
       "        <td style=\"padding-left: 1em; padding-right: 1em; text-align: center; vertical-align: top\">None</td>\n",
       "        <td style=\"padding-left: 1em; padding-right: 1em; text-align: center; vertical-align: top\"></td>\n",
       "        <td style=\"padding-left: 1em; padding-right: 1em; text-align: center; vertical-align: top\">None</td>\n",
       "        <td style=\"padding-left: 1em; padding-right: 1em; text-align: center; vertical-align: top\">None</td>\n",
       "    </tr>\n",
       "    <tr>\n",
       "        <td style=\"padding-left: 1em; padding-right: 1em; text-align: center; vertical-align: top\">None</td>\n",
       "        <td style=\"padding-left: 1em; padding-right: 1em; text-align: center; vertical-align: top\">None</td>\n",
       "        <td style=\"padding-left: 1em; padding-right: 1em; text-align: center; vertical-align: top\"></td>\n",
       "        <td style=\"padding-left: 1em; padding-right: 1em; text-align: center; vertical-align: top\">None</td>\n",
       "        <td style=\"padding-left: 1em; padding-right: 1em; text-align: center; vertical-align: top\"></td>\n",
       "        <td style=\"padding-left: 1em; padding-right: 1em; text-align: center; vertical-align: top\">None</td>\n",
       "        <td style=\"padding-left: 1em; padding-right: 1em; text-align: center; vertical-align: top\">None</td>\n",
       "    </tr>\n",
       "    <tr>\n",
       "        <td style=\"padding-left: 1em; padding-right: 1em; text-align: center; vertical-align: top\">35012919</td>\n",
       "        <td style=\"padding-left: 1em; padding-right: 1em; text-align: center; vertical-align: top\">3518404</td>\n",
       "        <td style=\"padding-left: 1em; padding-right: 1em; text-align: center; vertical-align: top\">Guaratinguetá</td>\n",
       "        <td style=\"padding-left: 1em; padding-right: 1em; text-align: center; vertical-align: top\">35</td>\n",
       "        <td style=\"padding-left: 1em; padding-right: 1em; text-align: center; vertical-align: top\">SP</td>\n",
       "        <td style=\"padding-left: 1em; padding-right: 1em; text-align: center; vertical-align: top\">2</td>\n",
       "        <td style=\"padding-left: 1em; padding-right: 1em; text-align: center; vertical-align: top\">1</td>\n",
       "    </tr>\n",
       "    <tr>\n",
       "        <td style=\"padding-left: 1em; padding-right: 1em; text-align: center; vertical-align: top\">None</td>\n",
       "        <td style=\"padding-left: 1em; padding-right: 1em; text-align: center; vertical-align: top\">None</td>\n",
       "        <td style=\"padding-left: 1em; padding-right: 1em; text-align: center; vertical-align: top\"></td>\n",
       "        <td style=\"padding-left: 1em; padding-right: 1em; text-align: center; vertical-align: top\">None</td>\n",
       "        <td style=\"padding-left: 1em; padding-right: 1em; text-align: center; vertical-align: top\"></td>\n",
       "        <td style=\"padding-left: 1em; padding-right: 1em; text-align: center; vertical-align: top\">None</td>\n",
       "        <td style=\"padding-left: 1em; padding-right: 1em; text-align: center; vertical-align: top\">None</td>\n",
       "    </tr>\n",
       "</table>\n",
       "<table frame=\"box\" rules=\"cols\">\n",
       "    <tr>\n",
       "        <th style=\"padding-left: 1em; padding-right: 1em; text-align: center\">TP_SIT_FUNC_ESC</th>\n",
       "        <th style=\"padding-left: 1em; padding-right: 1em; text-align: center\">IN_BAIXA_VISAO</th>\n",
       "        <th style=\"padding-left: 1em; padding-right: 1em; text-align: center\">IN_CEGUEIRA</th>\n",
       "        <th style=\"padding-left: 1em; padding-right: 1em; text-align: center\">IN_SURDEZ</th>\n",
       "        <th style=\"padding-left: 1em; padding-right: 1em; text-align: center\">IN_DEFICIENCIA_AUDITIVA</th>\n",
       "        <th style=\"padding-left: 1em; padding-right: 1em; text-align: center\">IN_SURDO_CEGUEIRA</th>\n",
       "        <th style=\"padding-left: 1em; padding-right: 1em; text-align: center\">IN_DEFICIENCIA_FISICA</th>\n",
       "    </tr>\n",
       "    <tr>\n",
       "        <td style=\"padding-left: 1em; padding-right: 1em; text-align: center; vertical-align: top\">None</td>\n",
       "        <td style=\"padding-left: 1em; padding-right: 1em; text-align: center; vertical-align: top\">0</td>\n",
       "        <td style=\"padding-left: 1em; padding-right: 1em; text-align: center; vertical-align: top\">0</td>\n",
       "        <td style=\"padding-left: 1em; padding-right: 1em; text-align: center; vertical-align: top\">0</td>\n",
       "        <td style=\"padding-left: 1em; padding-right: 1em; text-align: center; vertical-align: top\">0</td>\n",
       "        <td style=\"padding-left: 1em; padding-right: 1em; text-align: center; vertical-align: top\">0</td>\n",
       "        <td style=\"padding-left: 1em; padding-right: 1em; text-align: center; vertical-align: top\">0</td>\n",
       "    </tr>\n",
       "    <tr>\n",
       "        <td style=\"padding-left: 1em; padding-right: 1em; text-align: center; vertical-align: top\">None</td>\n",
       "        <td style=\"padding-left: 1em; padding-right: 1em; text-align: center; vertical-align: top\">0</td>\n",
       "        <td style=\"padding-left: 1em; padding-right: 1em; text-align: center; vertical-align: top\">0</td>\n",
       "        <td style=\"padding-left: 1em; padding-right: 1em; text-align: center; vertical-align: top\">0</td>\n",
       "        <td style=\"padding-left: 1em; padding-right: 1em; text-align: center; vertical-align: top\">0</td>\n",
       "        <td style=\"padding-left: 1em; padding-right: 1em; text-align: center; vertical-align: top\">0</td>\n",
       "        <td style=\"padding-left: 1em; padding-right: 1em; text-align: center; vertical-align: top\">0</td>\n",
       "    </tr>\n",
       "    <tr>\n",
       "        <td style=\"padding-left: 1em; padding-right: 1em; text-align: center; vertical-align: top\">None</td>\n",
       "        <td style=\"padding-left: 1em; padding-right: 1em; text-align: center; vertical-align: top\">0</td>\n",
       "        <td style=\"padding-left: 1em; padding-right: 1em; text-align: center; vertical-align: top\">0</td>\n",
       "        <td style=\"padding-left: 1em; padding-right: 1em; text-align: center; vertical-align: top\">0</td>\n",
       "        <td style=\"padding-left: 1em; padding-right: 1em; text-align: center; vertical-align: top\">0</td>\n",
       "        <td style=\"padding-left: 1em; padding-right: 1em; text-align: center; vertical-align: top\">0</td>\n",
       "        <td style=\"padding-left: 1em; padding-right: 1em; text-align: center; vertical-align: top\">0</td>\n",
       "    </tr>\n",
       "    <tr>\n",
       "        <td style=\"padding-left: 1em; padding-right: 1em; text-align: center; vertical-align: top\">None</td>\n",
       "        <td style=\"padding-left: 1em; padding-right: 1em; text-align: center; vertical-align: top\">0</td>\n",
       "        <td style=\"padding-left: 1em; padding-right: 1em; text-align: center; vertical-align: top\">0</td>\n",
       "        <td style=\"padding-left: 1em; padding-right: 1em; text-align: center; vertical-align: top\">0</td>\n",
       "        <td style=\"padding-left: 1em; padding-right: 1em; text-align: center; vertical-align: top\">0</td>\n",
       "        <td style=\"padding-left: 1em; padding-right: 1em; text-align: center; vertical-align: top\">0</td>\n",
       "        <td style=\"padding-left: 1em; padding-right: 1em; text-align: center; vertical-align: top\">0</td>\n",
       "    </tr>\n",
       "    <tr>\n",
       "        <td style=\"padding-left: 1em; padding-right: 1em; text-align: center; vertical-align: top\">None</td>\n",
       "        <td style=\"padding-left: 1em; padding-right: 1em; text-align: center; vertical-align: top\">0</td>\n",
       "        <td style=\"padding-left: 1em; padding-right: 1em; text-align: center; vertical-align: top\">0</td>\n",
       "        <td style=\"padding-left: 1em; padding-right: 1em; text-align: center; vertical-align: top\">0</td>\n",
       "        <td style=\"padding-left: 1em; padding-right: 1em; text-align: center; vertical-align: top\">0</td>\n",
       "        <td style=\"padding-left: 1em; padding-right: 1em; text-align: center; vertical-align: top\">0</td>\n",
       "        <td style=\"padding-left: 1em; padding-right: 1em; text-align: center; vertical-align: top\">0</td>\n",
       "    </tr>\n",
       "    <tr>\n",
       "        <td style=\"padding-left: 1em; padding-right: 1em; text-align: center; vertical-align: top\">None</td>\n",
       "        <td style=\"padding-left: 1em; padding-right: 1em; text-align: center; vertical-align: top\">0</td>\n",
       "        <td style=\"padding-left: 1em; padding-right: 1em; text-align: center; vertical-align: top\">0</td>\n",
       "        <td style=\"padding-left: 1em; padding-right: 1em; text-align: center; vertical-align: top\">0</td>\n",
       "        <td style=\"padding-left: 1em; padding-right: 1em; text-align: center; vertical-align: top\">0</td>\n",
       "        <td style=\"padding-left: 1em; padding-right: 1em; text-align: center; vertical-align: top\">0</td>\n",
       "        <td style=\"padding-left: 1em; padding-right: 1em; text-align: center; vertical-align: top\">0</td>\n",
       "    </tr>\n",
       "    <tr>\n",
       "        <td style=\"padding-left: 1em; padding-right: 1em; text-align: center; vertical-align: top\">None</td>\n",
       "        <td style=\"padding-left: 1em; padding-right: 1em; text-align: center; vertical-align: top\">0</td>\n",
       "        <td style=\"padding-left: 1em; padding-right: 1em; text-align: center; vertical-align: top\">0</td>\n",
       "        <td style=\"padding-left: 1em; padding-right: 1em; text-align: center; vertical-align: top\">0</td>\n",
       "        <td style=\"padding-left: 1em; padding-right: 1em; text-align: center; vertical-align: top\">0</td>\n",
       "        <td style=\"padding-left: 1em; padding-right: 1em; text-align: center; vertical-align: top\">0</td>\n",
       "        <td style=\"padding-left: 1em; padding-right: 1em; text-align: center; vertical-align: top\">0</td>\n",
       "    </tr>\n",
       "    <tr>\n",
       "        <td style=\"padding-left: 1em; padding-right: 1em; text-align: center; vertical-align: top\">None</td>\n",
       "        <td style=\"padding-left: 1em; padding-right: 1em; text-align: center; vertical-align: top\">0</td>\n",
       "        <td style=\"padding-left: 1em; padding-right: 1em; text-align: center; vertical-align: top\">0</td>\n",
       "        <td style=\"padding-left: 1em; padding-right: 1em; text-align: center; vertical-align: top\">0</td>\n",
       "        <td style=\"padding-left: 1em; padding-right: 1em; text-align: center; vertical-align: top\">0</td>\n",
       "        <td style=\"padding-left: 1em; padding-right: 1em; text-align: center; vertical-align: top\">0</td>\n",
       "        <td style=\"padding-left: 1em; padding-right: 1em; text-align: center; vertical-align: top\">0</td>\n",
       "    </tr>\n",
       "    <tr>\n",
       "        <td style=\"padding-left: 1em; padding-right: 1em; text-align: center; vertical-align: top\">1</td>\n",
       "        <td style=\"padding-left: 1em; padding-right: 1em; text-align: center; vertical-align: top\">0</td>\n",
       "        <td style=\"padding-left: 1em; padding-right: 1em; text-align: center; vertical-align: top\">0</td>\n",
       "        <td style=\"padding-left: 1em; padding-right: 1em; text-align: center; vertical-align: top\">0</td>\n",
       "        <td style=\"padding-left: 1em; padding-right: 1em; text-align: center; vertical-align: top\">0</td>\n",
       "        <td style=\"padding-left: 1em; padding-right: 1em; text-align: center; vertical-align: top\">0</td>\n",
       "        <td style=\"padding-left: 1em; padding-right: 1em; text-align: center; vertical-align: top\">0</td>\n",
       "    </tr>\n",
       "    <tr>\n",
       "        <td style=\"padding-left: 1em; padding-right: 1em; text-align: center; vertical-align: top\">None</td>\n",
       "        <td style=\"padding-left: 1em; padding-right: 1em; text-align: center; vertical-align: top\">0</td>\n",
       "        <td style=\"padding-left: 1em; padding-right: 1em; text-align: center; vertical-align: top\">0</td>\n",
       "        <td style=\"padding-left: 1em; padding-right: 1em; text-align: center; vertical-align: top\">0</td>\n",
       "        <td style=\"padding-left: 1em; padding-right: 1em; text-align: center; vertical-align: top\">0</td>\n",
       "        <td style=\"padding-left: 1em; padding-right: 1em; text-align: center; vertical-align: top\">0</td>\n",
       "        <td style=\"padding-left: 1em; padding-right: 1em; text-align: center; vertical-align: top\">0</td>\n",
       "    </tr>\n",
       "</table>\n",
       "<table frame=\"box\" rules=\"cols\">\n",
       "    <tr>\n",
       "        <th style=\"padding-left: 1em; padding-right: 1em; text-align: center\">IN_DEFICIENCIA_MENTAL</th>\n",
       "        <th style=\"padding-left: 1em; padding-right: 1em; text-align: center\">IN_DEFICIT_ATENCAO</th>\n",
       "        <th style=\"padding-left: 1em; padding-right: 1em; text-align: center\">IN_DISLEXIA</th>\n",
       "        <th style=\"padding-left: 1em; padding-right: 1em; text-align: center\">IN_DISCALCULIA</th>\n",
       "        <th style=\"padding-left: 1em; padding-right: 1em; text-align: center\">IN_AUTISMO</th>\n",
       "        <th style=\"padding-left: 1em; padding-right: 1em; text-align: center\">...</th>\n",
       "    </tr>\n",
       "    <tr>\n",
       "        <td style=\"padding-left: 1em; padding-right: 1em; text-align: center; vertical-align: top\">0</td>\n",
       "        <td style=\"padding-left: 1em; padding-right: 1em; text-align: center; vertical-align: top\">0</td>\n",
       "        <td style=\"padding-left: 1em; padding-right: 1em; text-align: center; vertical-align: top\">0</td>\n",
       "        <td style=\"padding-left: 1em; padding-right: 1em; text-align: center; vertical-align: top\">0</td>\n",
       "        <td style=\"padding-left: 1em; padding-right: 1em; text-align: center; vertical-align: top\">0</td>\n",
       "        <td style=\"padding-left: 1em; padding-right: 1em; text-align: center; vertical-align: top\">...</td>\n",
       "    </tr>\n",
       "    <tr>\n",
       "        <td style=\"padding-left: 1em; padding-right: 1em; text-align: center; vertical-align: top\">0</td>\n",
       "        <td style=\"padding-left: 1em; padding-right: 1em; text-align: center; vertical-align: top\">0</td>\n",
       "        <td style=\"padding-left: 1em; padding-right: 1em; text-align: center; vertical-align: top\">0</td>\n",
       "        <td style=\"padding-left: 1em; padding-right: 1em; text-align: center; vertical-align: top\">0</td>\n",
       "        <td style=\"padding-left: 1em; padding-right: 1em; text-align: center; vertical-align: top\">0</td>\n",
       "        <td style=\"padding-left: 1em; padding-right: 1em; text-align: center; vertical-align: top\">...</td>\n",
       "    </tr>\n",
       "    <tr>\n",
       "        <td style=\"padding-left: 1em; padding-right: 1em; text-align: center; vertical-align: top\">0</td>\n",
       "        <td style=\"padding-left: 1em; padding-right: 1em; text-align: center; vertical-align: top\">0</td>\n",
       "        <td style=\"padding-left: 1em; padding-right: 1em; text-align: center; vertical-align: top\">0</td>\n",
       "        <td style=\"padding-left: 1em; padding-right: 1em; text-align: center; vertical-align: top\">0</td>\n",
       "        <td style=\"padding-left: 1em; padding-right: 1em; text-align: center; vertical-align: top\">0</td>\n",
       "        <td style=\"padding-left: 1em; padding-right: 1em; text-align: center; vertical-align: top\">...</td>\n",
       "    </tr>\n",
       "    <tr>\n",
       "        <td style=\"padding-left: 1em; padding-right: 1em; text-align: center; vertical-align: top\">0</td>\n",
       "        <td style=\"padding-left: 1em; padding-right: 1em; text-align: center; vertical-align: top\">0</td>\n",
       "        <td style=\"padding-left: 1em; padding-right: 1em; text-align: center; vertical-align: top\">0</td>\n",
       "        <td style=\"padding-left: 1em; padding-right: 1em; text-align: center; vertical-align: top\">0</td>\n",
       "        <td style=\"padding-left: 1em; padding-right: 1em; text-align: center; vertical-align: top\">0</td>\n",
       "        <td style=\"padding-left: 1em; padding-right: 1em; text-align: center; vertical-align: top\">...</td>\n",
       "    </tr>\n",
       "    <tr>\n",
       "        <td style=\"padding-left: 1em; padding-right: 1em; text-align: center; vertical-align: top\">0</td>\n",
       "        <td style=\"padding-left: 1em; padding-right: 1em; text-align: center; vertical-align: top\">0</td>\n",
       "        <td style=\"padding-left: 1em; padding-right: 1em; text-align: center; vertical-align: top\">0</td>\n",
       "        <td style=\"padding-left: 1em; padding-right: 1em; text-align: center; vertical-align: top\">0</td>\n",
       "        <td style=\"padding-left: 1em; padding-right: 1em; text-align: center; vertical-align: top\">0</td>\n",
       "        <td style=\"padding-left: 1em; padding-right: 1em; text-align: center; vertical-align: top\">...</td>\n",
       "    </tr>\n",
       "    <tr>\n",
       "        <td style=\"padding-left: 1em; padding-right: 1em; text-align: center; vertical-align: top\">0</td>\n",
       "        <td style=\"padding-left: 1em; padding-right: 1em; text-align: center; vertical-align: top\">0</td>\n",
       "        <td style=\"padding-left: 1em; padding-right: 1em; text-align: center; vertical-align: top\">0</td>\n",
       "        <td style=\"padding-left: 1em; padding-right: 1em; text-align: center; vertical-align: top\">0</td>\n",
       "        <td style=\"padding-left: 1em; padding-right: 1em; text-align: center; vertical-align: top\">0</td>\n",
       "        <td style=\"padding-left: 1em; padding-right: 1em; text-align: center; vertical-align: top\">...</td>\n",
       "    </tr>\n",
       "    <tr>\n",
       "        <td style=\"padding-left: 1em; padding-right: 1em; text-align: center; vertical-align: top\">0</td>\n",
       "        <td style=\"padding-left: 1em; padding-right: 1em; text-align: center; vertical-align: top\">0</td>\n",
       "        <td style=\"padding-left: 1em; padding-right: 1em; text-align: center; vertical-align: top\">0</td>\n",
       "        <td style=\"padding-left: 1em; padding-right: 1em; text-align: center; vertical-align: top\">0</td>\n",
       "        <td style=\"padding-left: 1em; padding-right: 1em; text-align: center; vertical-align: top\">0</td>\n",
       "        <td style=\"padding-left: 1em; padding-right: 1em; text-align: center; vertical-align: top\">...</td>\n",
       "    </tr>\n",
       "    <tr>\n",
       "        <td style=\"padding-left: 1em; padding-right: 1em; text-align: center; vertical-align: top\">0</td>\n",
       "        <td style=\"padding-left: 1em; padding-right: 1em; text-align: center; vertical-align: top\">0</td>\n",
       "        <td style=\"padding-left: 1em; padding-right: 1em; text-align: center; vertical-align: top\">0</td>\n",
       "        <td style=\"padding-left: 1em; padding-right: 1em; text-align: center; vertical-align: top\">0</td>\n",
       "        <td style=\"padding-left: 1em; padding-right: 1em; text-align: center; vertical-align: top\">0</td>\n",
       "        <td style=\"padding-left: 1em; padding-right: 1em; text-align: center; vertical-align: top\">...</td>\n",
       "    </tr>\n",
       "    <tr>\n",
       "        <td style=\"padding-left: 1em; padding-right: 1em; text-align: center; vertical-align: top\">0</td>\n",
       "        <td style=\"padding-left: 1em; padding-right: 1em; text-align: center; vertical-align: top\">0</td>\n",
       "        <td style=\"padding-left: 1em; padding-right: 1em; text-align: center; vertical-align: top\">0</td>\n",
       "        <td style=\"padding-left: 1em; padding-right: 1em; text-align: center; vertical-align: top\">0</td>\n",
       "        <td style=\"padding-left: 1em; padding-right: 1em; text-align: center; vertical-align: top\">0</td>\n",
       "        <td style=\"padding-left: 1em; padding-right: 1em; text-align: center; vertical-align: top\">...</td>\n",
       "    </tr>\n",
       "    <tr>\n",
       "        <td style=\"padding-left: 1em; padding-right: 1em; text-align: center; vertical-align: top\">0</td>\n",
       "        <td style=\"padding-left: 1em; padding-right: 1em; text-align: center; vertical-align: top\">0</td>\n",
       "        <td style=\"padding-left: 1em; padding-right: 1em; text-align: center; vertical-align: top\">0</td>\n",
       "        <td style=\"padding-left: 1em; padding-right: 1em; text-align: center; vertical-align: top\">0</td>\n",
       "        <td style=\"padding-left: 1em; padding-right: 1em; text-align: center; vertical-align: top\">0</td>\n",
       "        <td style=\"padding-left: 1em; padding-right: 1em; text-align: center; vertical-align: top\">...</td>\n",
       "    </tr>\n",
       "</table>\n",
       "[13686 rows x 167 columns]<br/>Note: Only the head of the SFrame is printed.<br/>You can use print_rows(num_rows=m, num_columns=n) to print more rows and columns.\n",
       "</div>"
      ],
      "text/plain": [
       "Columns:\n",
       "\tX1\tint\n",
       "\tNU_INSCRICAO\tstr\n",
       "\tNU_ANO\tint\n",
       "\tCO_MUNICIPIO_RESIDENCIA\tint\n",
       "\tNO_MUNICIPIO_RESIDENCIA\tstr\n",
       "\tCO_UF_RESIDENCIA\tint\n",
       "\tSG_UF_RESIDENCIA\tstr\n",
       "\tNU_IDADE\tint\n",
       "\tTP_SEXO\tstr\n",
       "\tTP_ESTADO_CIVIL\tint\n",
       "\tTP_COR_RACA\tint\n",
       "\tTP_NACIONALIDADE\tint\n",
       "\tCO_MUNICIPIO_NASCIMENTO\tint\n",
       "\tNO_MUNICIPIO_NASCIMENTO\tstr\n",
       "\tCO_UF_NASCIMENTO\tint\n",
       "\tSG_UF_NASCIMENTO\tstr\n",
       "\tTP_ST_CONCLUSAO\tint\n",
       "\tTP_ANO_CONCLUIU\tint\n",
       "\tTP_ESCOLA\tint\n",
       "\tTP_ENSINO\tint\n",
       "\tIN_TREINEIRO\tint\n",
       "\tCO_ESCOLA\tint\n",
       "\tCO_MUNICIPIO_ESC\tint\n",
       "\tNO_MUNICIPIO_ESC\tstr\n",
       "\tCO_UF_ESC\tint\n",
       "\tSG_UF_ESC\tstr\n",
       "\tTP_DEPENDENCIA_ADM_ESC\tint\n",
       "\tTP_LOCALIZACAO_ESC\tint\n",
       "\tTP_SIT_FUNC_ESC\tint\n",
       "\tIN_BAIXA_VISAO\tint\n",
       "\tIN_CEGUEIRA\tint\n",
       "\tIN_SURDEZ\tint\n",
       "\tIN_DEFICIENCIA_AUDITIVA\tint\n",
       "\tIN_SURDO_CEGUEIRA\tint\n",
       "\tIN_DEFICIENCIA_FISICA\tint\n",
       "\tIN_DEFICIENCIA_MENTAL\tint\n",
       "\tIN_DEFICIT_ATENCAO\tint\n",
       "\tIN_DISLEXIA\tint\n",
       "\tIN_DISCALCULIA\tint\n",
       "\tIN_AUTISMO\tint\n",
       "\tIN_VISAO_MONOCULAR\tint\n",
       "\tIN_OUTRA_DEF\tint\n",
       "\tIN_SABATISTA\tint\n",
       "\tIN_GESTANTE\tint\n",
       "\tIN_LACTANTE\tint\n",
       "\tIN_IDOSO\tint\n",
       "\tIN_ESTUDA_CLASSE_HOSPITALAR\tint\n",
       "\tIN_SEM_RECURSO\tint\n",
       "\tIN_BRAILLE\tint\n",
       "\tIN_AMPLIADA_24\tint\n",
       "\tIN_AMPLIADA_18\tint\n",
       "\tIN_LEDOR\tint\n",
       "\tIN_ACESSO\tint\n",
       "\tIN_TRANSCRICAO\tint\n",
       "\tIN_LIBRAS\tint\n",
       "\tIN_LEITURA_LABIAL\tint\n",
       "\tIN_MESA_CADEIRA_RODAS\tint\n",
       "\tIN_MESA_CADEIRA_SEPARADA\tint\n",
       "\tIN_APOIO_PERNA\tint\n",
       "\tIN_GUIA_INTERPRETE\tint\n",
       "\tIN_MACA\tint\n",
       "\tIN_COMPUTADOR\tint\n",
       "\tIN_CADEIRA_ESPECIAL\tint\n",
       "\tIN_CADEIRA_CANHOTO\tint\n",
       "\tIN_CADEIRA_ACOLCHOADA\tint\n",
       "\tIN_PROVA_DEITADO\tint\n",
       "\tIN_MOBILIARIO_OBESO\tint\n",
       "\tIN_LAMINA_OVERLAY\tint\n",
       "\tIN_PROTETOR_AURICULAR\tint\n",
       "\tIN_MEDIDOR_GLICOSE\tint\n",
       "\tIN_MAQUINA_BRAILE\tint\n",
       "\tIN_SOROBAN\tint\n",
       "\tIN_MARCA_PASSO\tint\n",
       "\tIN_SONDA\tint\n",
       "\tIN_MEDICAMENTOS\tint\n",
       "\tIN_SALA_INDIVIDUAL\tint\n",
       "\tIN_SALA_ESPECIAL\tint\n",
       "\tIN_SALA_ACOMPANHANTE\tint\n",
       "\tIN_MOBILIARIO_ESPECIFICO\tint\n",
       "\tIN_MATERIAL_ESPECIFICO\tint\n",
       "\tIN_NOME_SOCIAL\tint\n",
       "\tIN_CERTIFICADO\tint\n",
       "\tNO_ENTIDADE_CERTIFICACAO\tstr\n",
       "\tCO_UF_ENTIDADE_CERTIFICACAO\tint\n",
       "\tSG_UF_ENTIDADE_CERTIFICACAO\tstr\n",
       "\tCO_MUNICIPIO_PROVA\tint\n",
       "\tNO_MUNICIPIO_PROVA\tstr\n",
       "\tCO_UF_PROVA\tint\n",
       "\tSG_UF_PROVA\tstr\n",
       "\tTP_PRESENCA_CN\tint\n",
       "\tTP_PRESENCA_CH\tint\n",
       "\tTP_PRESENCA_LC\tint\n",
       "\tTP_PRESENCA_MT\tint\n",
       "\tCO_PROVA_CN\tstr\n",
       "\tCO_PROVA_CH\tstr\n",
       "\tCO_PROVA_LC\tstr\n",
       "\tCO_PROVA_MT\tstr\n",
       "\tNU_NOTA_CN\tfloat\n",
       "\tNU_NOTA_CH\tfloat\n",
       "\tNU_NOTA_LC\tfloat\n",
       "\tNU_NOTA_MT\tfloat\n",
       "\tTX_RESPOSTAS_CN\tstr\n",
       "\tTX_RESPOSTAS_CH\tstr\n",
       "\tTX_RESPOSTAS_LC\tstr\n",
       "\tTX_RESPOSTAS_MT\tstr\n",
       "\tTP_LINGUA\tint\n",
       "\tTX_GABARITO_CN\tstr\n",
       "\tTX_GABARITO_CH\tstr\n",
       "\tTX_GABARITO_LC\tstr\n",
       "\tTX_GABARITO_MT\tstr\n",
       "\tTP_STATUS_REDACAO\tint\n",
       "\tNU_NOTA_COMP1\tint\n",
       "\tNU_NOTA_COMP2\tint\n",
       "\tNU_NOTA_COMP3\tint\n",
       "\tNU_NOTA_COMP4\tint\n",
       "\tNU_NOTA_COMP5\tint\n",
       "\tNU_NOTA_REDACAO\tint\n",
       "\tQ001\tstr\n",
       "\tQ002\tstr\n",
       "\tQ003\tstr\n",
       "\tQ004\tstr\n",
       "\tQ005\tint\n",
       "\tQ006\tstr\n",
       "\tQ007\tstr\n",
       "\tQ008\tstr\n",
       "\tQ009\tstr\n",
       "\tQ010\tstr\n",
       "\tQ011\tstr\n",
       "\tQ012\tstr\n",
       "\tQ013\tstr\n",
       "\tQ014\tstr\n",
       "\tQ015\tstr\n",
       "\tQ016\tstr\n",
       "\tQ017\tstr\n",
       "\tQ018\tstr\n",
       "\tQ019\tstr\n",
       "\tQ020\tstr\n",
       "\tQ021\tstr\n",
       "\tQ022\tstr\n",
       "\tQ023\tstr\n",
       "\tQ024\tstr\n",
       "\tQ025\tstr\n",
       "\tQ026\tstr\n",
       "\tQ027\tstr\n",
       "\tQ028\tstr\n",
       "\tQ029\tint\n",
       "\tQ030\tint\n",
       "\tQ031\tint\n",
       "\tQ032\tint\n",
       "\tQ033\tint\n",
       "\tQ034\tint\n",
       "\tQ035\tint\n",
       "\tQ036\tint\n",
       "\tQ037\tint\n",
       "\tQ038\tint\n",
       "\tQ039\tint\n",
       "\tQ040\tint\n",
       "\tQ041\tint\n",
       "\tQ042\tstr\n",
       "\tQ043\tstr\n",
       "\tQ044\tstr\n",
       "\tQ045\tstr\n",
       "\tQ046\tstr\n",
       "\tQ047\tstr\n",
       "\tQ048\tstr\n",
       "\tQ049\tstr\n",
       "\tQ050\tstr\n",
       "\n",
       "Rows: 13686\n",
       "\n",
       "Data:\n",
       "+----+-------------------------------+--------+-------------------------+\n",
       "| X1 |          NU_INSCRICAO         | NU_ANO | CO_MUNICIPIO_RESIDENCIA |\n",
       "+----+-------------------------------+--------+-------------------------+\n",
       "| 1  | f69113a0fda10e003073c92dc6... |  2016  |         2914802         |\n",
       "| 2  | 07870321422c6ed9e24248bfe8... |  2016  |         2307700         |\n",
       "| 3  | 00eb8e32d58c602c81df66b1ba... |  2016  |         1506104         |\n",
       "| 4  | c5aa7b15bba422a5f2cceab284... |  2016  |         1505809         |\n",
       "| 5  | 4a34a60cfeba08c00630384977... |  2016  |         3304557         |\n",
       "| 6  | 4cd8f6d99fe793dab7dbb6bd13... |  2016  |         1716109         |\n",
       "| 7  | 31de52dda32a683ac2c32b7b52... |  2016  |         3148103         |\n",
       "| 8  | 00d1f7b612149821abb8d97ce8... |  2016  |         2704302         |\n",
       "| 9  | a10f110b82c447c56ccf643f9b... |  2016  |         3518404         |\n",
       "| 10 | c1123b69810e1dadb7ee51189c... |  2016  |         2302503         |\n",
       "+----+-------------------------------+--------+-------------------------+\n",
       "+-------------------------+------------------+------------------+----------+---------+\n",
       "| NO_MUNICIPIO_RESIDENCIA | CO_UF_RESIDENCIA | SG_UF_RESIDENCIA | NU_IDADE | TP_SEXO |\n",
       "+-------------------------+------------------+------------------+----------+---------+\n",
       "|         Itabuna         |        29        |        BA        |    39    |    F    |\n",
       "|        Maranguape       |        23        |        CE        |    19    |    F    |\n",
       "|        Primavera        |        15        |        PA        |    18    |    M    |\n",
       "|          Portel         |        15        |        PA        |    24    |    F    |\n",
       "|      Rio de Janeiro     |        33        |        RJ        |    26    |    F    |\n",
       "|   Paraíso do Tocantins  |        17        |        TO        |    19    |    M    |\n",
       "|        Patrocínio       |        31        |        MG        |    19    |    F    |\n",
       "|          Maceió         |        27        |        AL        |    17    |    M    |\n",
       "|      Guaratinguetá      |        35        |        SP        |    17    |    F    |\n",
       "|       Brejo Santo       |        23        |        CE        |    24    |    F    |\n",
       "+-------------------------+------------------+------------------+----------+---------+\n",
       "+-----------------+-------------+------------------+-------------------------+\n",
       "| TP_ESTADO_CIVIL | TP_COR_RACA | TP_NACIONALIDADE | CO_MUNICIPIO_NASCIMENTO |\n",
       "+-----------------+-------------+------------------+-------------------------+\n",
       "|        1        |      3      |        1         |         3304557         |\n",
       "|        0        |      3      |        1         |         2307700         |\n",
       "|        0        |      1      |        1         |         1506104         |\n",
       "|        0        |      3      |        1         |         1505809         |\n",
       "|        0        |      3      |        1         |         3304557         |\n",
       "|        0        |      1      |        1         |         1506161         |\n",
       "|        0        |      2      |        1         |         3148103         |\n",
       "|        0        |      0      |        1         |         2704302         |\n",
       "|        0        |      1      |        1         |         3518404         |\n",
       "|        2        |      1      |        1         |         2302503         |\n",
       "+-----------------+-------------+------------------+-------------------------+\n",
       "+-------------------------+------------------+------------------+-----------------+\n",
       "| NO_MUNICIPIO_NASCIMENTO | CO_UF_NASCIMENTO | SG_UF_NASCIMENTO | TP_ST_CONCLUSAO |\n",
       "+-------------------------+------------------+------------------+-----------------+\n",
       "|      Rio de Janeiro     |        33        |        RJ        |        1        |\n",
       "|        Maranguape       |        23        |        CE        |        1        |\n",
       "|        Primavera        |        15        |        PA        |        3        |\n",
       "|          Portel         |        15        |        PA        |        1        |\n",
       "|      Rio de Janeiro     |        33        |        RJ        |        1        |\n",
       "|        Rio Maria        |        15        |        PA        |        1        |\n",
       "|        Patrocínio       |        31        |        MG        |        1        |\n",
       "|          Maceió         |        27        |        AL        |        3        |\n",
       "|      Guaratinguetá      |        35        |        SP        |        2        |\n",
       "|       Brejo Santo       |        23        |        CE        |        1        |\n",
       "+-------------------------+------------------+------------------+-----------------+\n",
       "+-----------------+-----------+-----------+-----+\n",
       "| TP_ANO_CONCLUIU | TP_ESCOLA | TP_ENSINO | ... |\n",
       "+-----------------+-----------+-----------+-----+\n",
       "|        10       |     1     |    None   | ... |\n",
       "|        2        |     1     |    None   | ... |\n",
       "|        0        |     1     |    None   | ... |\n",
       "|        5        |     1     |    None   | ... |\n",
       "|        9        |     1     |    None   | ... |\n",
       "|        1        |     1     |    None   | ... |\n",
       "|        2        |     1     |    None   | ... |\n",
       "|        0        |     1     |    None   | ... |\n",
       "|        0        |     2     |     1     | ... |\n",
       "|        5        |     1     |    None   | ... |\n",
       "+-----------------+-----------+-----------+-----+\n",
       "[13686 rows x 167 columns]\n",
       "Note: Only the head of the SFrame is printed.\n",
       "You can use print_rows(num_rows=m, num_columns=n) to print more rows and columns."
      ]
     },
     "execution_count": 3,
     "metadata": {},
     "output_type": "execute_result"
    }
   ],
   "source": [
    "alunos"
   ]
  },
  {
   "cell_type": "markdown",
   "metadata": {},
   "source": [
    "2. Criar uma coluna com média ponderada das notas das provas de matemática,\n",
    "ciências da natureza, linguagens e códigos, ciências humanas e\n",
    "redação (0,5);"
   ]
  },
  {
   "cell_type": "markdown",
   "metadata": {},
   "source": [
    "Bom antes de criar a coluna vou logo verificar qual a extenção dos dados que estou trabalhando. \n"
   ]
  },
  {
   "cell_type": "code",
   "execution_count": 4,
   "metadata": {
    "collapsed": false
   },
   "outputs": [
    {
     "data": {
      "text/plain": [
       "13686"
      ]
     },
     "execution_count": 4,
     "metadata": {},
     "output_type": "execute_result"
    }
   ],
   "source": [
    "len(alunos)"
   ]
  },
  {
   "cell_type": "markdown",
   "metadata": {},
   "source": [
    "pronto agora posso começar o trabalho."
   ]
  },
  {
   "cell_type": "code",
   "execution_count": 6,
   "metadata": {
    "collapsed": false
   },
   "outputs": [
    {
     "data": {
      "text/plain": [
       "541.1"
      ]
     },
     "execution_count": 6,
     "metadata": {},
     "output_type": "execute_result"
    }
   ],
   "source": [
    " alunos['NU_NOTA_CN'][0]"
   ]
  },
  {
   "cell_type": "code",
   "execution_count": 13,
   "metadata": {
    "collapsed": false
   },
   "outputs": [],
   "source": [
    "novo = ((alunos['NU_NOTA_CN'][0]*3)+(alunos['NU_NOTA_CH'][0]*2)+(alunos['NU_NOTA_LC'][0]*5)+(alunos['NU_NOTA_MT'][0]*5))/15"
   ]
  },
  {
   "cell_type": "code",
   "execution_count": 14,
   "metadata": {
    "collapsed": false
   },
   "outputs": [
    {
     "data": {
      "text/plain": [
       "614.36"
      ]
     },
     "execution_count": 14,
     "metadata": {},
     "output_type": "execute_result"
    }
   ],
   "source": [
    "novo"
   ]
  },
  {
   "cell_type": "code",
   "execution_count": 15,
   "metadata": {
    "collapsed": false
   },
   "outputs": [
    {
     "name": "stdout",
     "output_type": "stream",
     "text": [
      "+----+-------------------------------+--------+-------------------------+\n",
      "| X1 |          NU_INSCRICAO         | NU_ANO | CO_MUNICIPIO_RESIDENCIA |\n",
      "+----+-------------------------------+--------+-------------------------+\n",
      "| 1  | f69113a0fda10e003073c92dc6... |  2016  |         2914802         |\n",
      "| 2  | 07870321422c6ed9e24248bfe8... |  2016  |         2307700         |\n",
      "| 3  | 00eb8e32d58c602c81df66b1ba... |  2016  |         1506104         |\n",
      "| 4  | c5aa7b15bba422a5f2cceab284... |  2016  |         1505809         |\n",
      "| 5  | 4a34a60cfeba08c00630384977... |  2016  |         3304557         |\n",
      "| 6  | 4cd8f6d99fe793dab7dbb6bd13... |  2016  |         1716109         |\n",
      "| 7  | 31de52dda32a683ac2c32b7b52... |  2016  |         3148103         |\n",
      "| 8  | 00d1f7b612149821abb8d97ce8... |  2016  |         2704302         |\n",
      "| 9  | a10f110b82c447c56ccf643f9b... |  2016  |         3518404         |\n",
      "| 10 | c1123b69810e1dadb7ee51189c... |  2016  |         2302503         |\n",
      "+----+-------------------------------+--------+-------------------------+\n",
      "+-------------------------+------------------+------------------+----------+---------+\n",
      "| NO_MUNICIPIO_RESIDENCIA | CO_UF_RESIDENCIA | SG_UF_RESIDENCIA | NU_IDADE | TP_SEXO |\n",
      "+-------------------------+------------------+------------------+----------+---------+\n",
      "|         Itabuna         |        29        |        BA        |    39    |    F    |\n",
      "|        Maranguape       |        23        |        CE        |    19    |    F    |\n",
      "|        Primavera        |        15        |        PA        |    18    |    M    |\n",
      "|          Portel         |        15        |        PA        |    24    |    F    |\n",
      "|      Rio de Janeiro     |        33        |        RJ        |    26    |    F    |\n",
      "|   Paraíso do Tocantins  |        17        |        TO        |    19    |    M    |\n",
      "|        Patrocínio       |        31        |        MG        |    19    |    F    |\n",
      "|          Maceió         |        27        |        AL        |    17    |    M    |\n",
      "|      Guaratinguetá      |        35        |        SP        |    17    |    F    |\n",
      "|       Brejo Santo       |        23        |        CE        |    24    |    F    |\n",
      "+-------------------------+------------------+------------------+----------+---------+\n",
      "+-----------------+-------------+------------------+-------------------------+\n",
      "| TP_ESTADO_CIVIL | TP_COR_RACA | TP_NACIONALIDADE | CO_MUNICIPIO_NASCIMENTO |\n",
      "+-----------------+-------------+------------------+-------------------------+\n",
      "|        1        |      3      |        1         |         3304557         |\n",
      "|        0        |      3      |        1         |         2307700         |\n",
      "|        0        |      1      |        1         |         1506104         |\n",
      "|        0        |      3      |        1         |         1505809         |\n",
      "|        0        |      3      |        1         |         3304557         |\n",
      "|        0        |      1      |        1         |         1506161         |\n",
      "|        0        |      2      |        1         |         3148103         |\n",
      "|        0        |      0      |        1         |         2704302         |\n",
      "|        0        |      1      |        1         |         3518404         |\n",
      "|        2        |      1      |        1         |         2302503         |\n",
      "+-----------------+-------------+------------------+-------------------------+\n",
      "+-------------------------+------------------+------------------+-----------------+\n",
      "| NO_MUNICIPIO_NASCIMENTO | CO_UF_NASCIMENTO | SG_UF_NASCIMENTO | TP_ST_CONCLUSAO |\n",
      "+-------------------------+------------------+------------------+-----------------+\n",
      "|      Rio de Janeiro     |        33        |        RJ        |        1        |\n",
      "|        Maranguape       |        23        |        CE        |        1        |\n",
      "|        Primavera        |        15        |        PA        |        3        |\n",
      "|          Portel         |        15        |        PA        |        1        |\n",
      "|      Rio de Janeiro     |        33        |        RJ        |        1        |\n",
      "|        Rio Maria        |        15        |        PA        |        1        |\n",
      "|        Patrocínio       |        31        |        MG        |        1        |\n",
      "|          Maceió         |        27        |        AL        |        3        |\n",
      "|      Guaratinguetá      |        35        |        SP        |        2        |\n",
      "|       Brejo Santo       |        23        |        CE        |        1        |\n",
      "+-------------------------+------------------+------------------+-----------------+\n",
      "+-----------------+-----------+-----------+-----+\n",
      "| TP_ANO_CONCLUIU | TP_ESCOLA | TP_ENSINO | ... |\n",
      "+-----------------+-----------+-----------+-----+\n",
      "|        10       |     1     |    None   | ... |\n",
      "|        2        |     1     |    None   | ... |\n",
      "|        0        |     1     |    None   | ... |\n",
      "|        5        |     1     |    None   | ... |\n",
      "|        9        |     1     |    None   | ... |\n",
      "|        1        |     1     |    None   | ... |\n",
      "|        2        |     1     |    None   | ... |\n",
      "|        0        |     1     |    None   | ... |\n",
      "|        0        |     2     |     1     | ... |\n",
      "|        5        |     1     |    None   | ... |\n",
      "+-----------------+-----------+-----------+-----+\n",
      "[10 rows x 167 columns]\n",
      "\n"
     ]
    }
   ],
   "source": [
    "print(alunos.head())"
   ]
  },
  {
   "cell_type": "code",
   "execution_count": 16,
   "metadata": {
    "collapsed": false
   },
   "outputs": [],
   "source": [
    "alunos['media_ponderada']=((alunos['NU_NOTA_CN']*3)+(alunos['NU_NOTA_CH']*2)+(alunos['NU_NOTA_LC']*5)+(alunos['NU_NOTA_MT']*5)+\n",
    "                           (alunos['NU_NOTA_REDACAO']*4))/(3+2+5+5+4)"
   ]
  },
  {
   "cell_type": "code",
   "execution_count": 17,
   "metadata": {
    "collapsed": false
   },
   "outputs": [
    {
     "data": {
      "text/plain": [
       "607.1263157894737"
      ]
     },
     "execution_count": 17,
     "metadata": {},
     "output_type": "execute_result"
    }
   ],
   "source": [
    "alunos['media_ponderada'][0]"
   ]
  },
  {
   "cell_type": "code",
   "execution_count": 18,
   "metadata": {
    "collapsed": false,
    "scrolled": true
   },
   "outputs": [
    {
     "data": {
      "text/plain": [
       "dtype: float\n",
       "Rows: 13686\n",
       "[607.1263157894737, 577.0684210526315, 477.4736842105263, 438.5736842105263, None, 630.9631578947368, None, 548.721052631579, 573.5736842105263, 481.40526315789475, 433.8157894736842, None, 541.2263157894737, 503.72105263157897, 499.66315789473686, 449.72631578947363, 549.6052631578947, None, 511.9631578947368, 571.4473684210526, 587.9421052631578, 554.0157894736842, 749.3684210526316, 449.2421052631579, 474.7052631578947, None, 489.13157894736844, None, 484.25263157894733, 577.2526315789473, 529.8157894736842, 526.1526315789473, 463.57894736842104, 442.4684210526316, 475.8789473684211, 602.7368421052631, 401.4105263157894, 577.5052631578948, 529.2157894736843, 522.7842105263157, 439.2947368421053, 514.921052631579, 748.7526315789473, 726.278947368421, 486.34736842105264, 509.8421052631579, 554.9842105263158, 455.05263157894734, 534.778947368421, 443.4263157894737, None, None, 442.04210526315785, 408.9315789473684, 559.4105263157894, None, 463.12631578947367, None, None, None, 404.41052631578947, 511.45789473684215, 475.1105263157895, 310.6578947368421, 412.56315789473683, 519.5473684210526, 444.09473684210525, 496.33684210526314, 407.6947368421053, None, 547.857894736842, 517.5842105263158, 539.4684210526316, 505.2578947368421, None, 521.0263157894736, None, 561.6947368421053, 428.81052631578945, 416.94736842105266, 718.9842105263158, 756.6947368421053, 511.94736842105266, 758.4631578947368, 661.2842105263157, None, None, 544.7736842105263, 433.5052631578948, 513.7105263157895, None, None, 457.5052631578948, 555.5578947368422, 443.2315789473684, 694.0631578947368, 478.0052631578948, 499.5, None, 515.5631578947368, ... ]"
      ]
     },
     "execution_count": 18,
     "metadata": {},
     "output_type": "execute_result"
    }
   ],
   "source": [
    "alunos['media_ponderada']"
   ]
  },
  {
   "cell_type": "markdown",
   "metadata": {},
   "source": [
    " Através dessa coluna, buscar os 15 alunos com as melhores pontuações e\n",
    "15 alunos com as piores pontuações"
   ]
  },
  {
   "cell_type": "code",
   "execution_count": 19,
   "metadata": {
    "collapsed": false
   },
   "outputs": [],
   "source": [
    "alunos_ordenado = alunos.sort(['media_ponderada'], ascending=False)"
   ]
  },
  {
   "cell_type": "code",
   "execution_count": 20,
   "metadata": {
    "collapsed": false
   },
   "outputs": [
    {
     "name": "stdout",
     "output_type": "stream",
     "text": [
      "{'NO_MUNICIPIO_RESIDENCIA': 'Rio de Janeiro', 'media_ponderada': 830.5736842105263, 'NU_IDADE': 18, 'NU_INSCRICAO': 'ac78b8c9d071f17033d1a9f7d2981e8227c75a09'}\n",
      "{'NO_MUNICIPIO_RESIDENCIA': 'Belo Horizonte', 'media_ponderada': 814.4263157894736, 'NU_IDADE': 18, 'NU_INSCRICAO': '93bf7a6c22f6c58a7248e4399a21381447c48b45'}\n",
      "{'NO_MUNICIPIO_RESIDENCIA': 'Fortaleza', 'media_ponderada': 813.1631578947367, 'NU_IDADE': 19, 'NU_INSCRICAO': '7cf4ee13363a18f85ce14f37ec0db1b82b5804e1'}\n",
      "{'NO_MUNICIPIO_RESIDENCIA': 'Mineiros', 'media_ponderada': 809.8947368421053, 'NU_IDADE': 18, 'NU_INSCRICAO': '08b69f77ab0b576f7b1dfa6971d0142eb13a8368'}\n",
      "{'NO_MUNICIPIO_RESIDENCIA': 'Rio de Janeiro', 'media_ponderada': 807.4, 'NU_IDADE': 18, 'NU_INSCRICAO': 'aaf2ae08c87ec1a89f533b5a58b4f6d3d9cb918b'}\n",
      "{'NO_MUNICIPIO_RESIDENCIA': 'Guapor\\xc3\\xa9', 'media_ponderada': 800.6473684210526, 'NU_IDADE': 20, 'NU_INSCRICAO': 'c82bdbacd0fe1723333e2c31ee9c7b3900284b7a'}\n",
      "{'NO_MUNICIPIO_RESIDENCIA': 'Varginha', 'media_ponderada': 798.921052631579, 'NU_IDADE': 18, 'NU_INSCRICAO': '69bc2baea904588f93f0913e494d5ec0cdff2d88'}\n",
      "{'NO_MUNICIPIO_RESIDENCIA': 'Betim', 'media_ponderada': 788.1, 'NU_IDADE': 18, 'NU_INSCRICAO': '913c5122a3807e5951a4a84d7137c3609069a160'}\n",
      "{'NO_MUNICIPIO_RESIDENCIA': 'Contagem', 'media_ponderada': 783.5263157894736, 'NU_IDADE': 17, 'NU_INSCRICAO': 'e0e0b96e4831b68a3f2ab5c9b6dbf64f29a2a53a'}\n",
      "{'NO_MUNICIPIO_RESIDENCIA': 'Maranguape', 'media_ponderada': 783.278947368421, 'NU_IDADE': 17, 'NU_INSCRICAO': '204e9bd1b6e222cca579a4a54dad3331716dea46'}\n",
      "{'NO_MUNICIPIO_RESIDENCIA': 'Itabaiana', 'media_ponderada': 777.0052631578948, 'NU_IDADE': 19, 'NU_INSCRICAO': '304417fb6c9ad03fc48b77eebe0609adab2eef4a'}\n",
      "{'NO_MUNICIPIO_RESIDENCIA': 'Fortaleza', 'media_ponderada': 776.6736842105263, 'NU_IDADE': 19, 'NU_INSCRICAO': '16c7fb14ff5abf7b108d93f51f012ea6201c0f69'}\n",
      "{'NO_MUNICIPIO_RESIDENCIA': 'Cuiab\\xc3\\xa1', 'media_ponderada': 776.1947368421053, 'NU_IDADE': 17, 'NU_INSCRICAO': '37b53d364c3d03e9afca7fbe88ed83a14b6edd98'}\n",
      "{'NO_MUNICIPIO_RESIDENCIA': 'Blumenau', 'media_ponderada': 775.5578947368422, 'NU_IDADE': 17, 'NU_INSCRICAO': '1fd0874f87af254d26ef9fa6716d5c3bef2db90a'}\n",
      "{'NO_MUNICIPIO_RESIDENCIA': 'Belford Roxo', 'media_ponderada': 768.3526315789474, 'NU_IDADE': 20, 'NU_INSCRICAO': '5b9ec2242e5eef62a5246d65196985abbf23d6fe'}\n"
     ]
    }
   ],
   "source": [
    "for i in range(15):\n",
    "    print alunos_ordenado['NU_IDADE','media_ponderada','NO_MUNICIPIO_RESIDENCIA','NU_INSCRICAO'][i]\n",
    "    "
   ]
  },
  {
   "cell_type": "markdown",
   "metadata": {},
   "source": [
    "15 alunos com as piores pontuações!"
   ]
  },
  {
   "cell_type": "code",
   "execution_count": 21,
   "metadata": {
    "collapsed": false
   },
   "outputs": [
    {
     "data": {
      "text/plain": [
       "13686"
      ]
     },
     "execution_count": 21,
     "metadata": {},
     "output_type": "execute_result"
    }
   ],
   "source": [
    "len(alunos_ordenado)"
   ]
  },
  {
   "cell_type": "code",
   "execution_count": 22,
   "metadata": {
    "collapsed": false
   },
   "outputs": [
    {
     "data": {
      "text/plain": [
       "13671"
      ]
     },
     "execution_count": 22,
     "metadata": {},
     "output_type": "execute_result"
    }
   ],
   "source": [
    "piores = len(alunos_ordenado) - 15 \n",
    "piores"
   ]
  },
  {
   "cell_type": "code",
   "execution_count": 23,
   "metadata": {
    "collapsed": false
   },
   "outputs": [
    {
     "name": "stdout",
     "output_type": "stream",
     "text": [
      "{'NO_MUNICIPIO_RESIDENCIA': 'Rio de Janeiro', 'media_ponderada': None, 'NU_IDADE': 26, 'NU_INSCRICAO': '4a34a60cfeba08c0063038497758f11d2894f896'}\n",
      "{'NO_MUNICIPIO_RESIDENCIA': 'Laje', 'media_ponderada': None, 'NU_IDADE': 20, 'NU_INSCRICAO': '692853bb958047edb8a1340c0d92364fb8bd974a'}\n",
      "{'NO_MUNICIPIO_RESIDENCIA': 'Cacul\\xc3\\xa9', 'media_ponderada': None, 'NU_IDADE': 17, 'NU_INSCRICAO': '7b88a64f8bbc8d9a90313f429f7eddfe5134cc68'}\n",
      "{'NO_MUNICIPIO_RESIDENCIA': 'Rio das Pedras', 'media_ponderada': None, 'NU_IDADE': 22, 'NU_INSCRICAO': 'b5d180190fb8ec7546feefbeadc34ae851dd3f13'}\n",
      "{'NO_MUNICIPIO_RESIDENCIA': 'Gravata\\xc3\\xad', 'media_ponderada': None, 'NU_IDADE': 24, 'NU_INSCRICAO': 'ba47fbc3284efaed709684f108979484a08f6ddc'}\n",
      "{'NO_MUNICIPIO_RESIDENCIA': 'Manaus', 'media_ponderada': None, 'NU_IDADE': 33, 'NU_INSCRICAO': '1188231233f9ba0ff3b2ada7c2238ba76f7d97b1'}\n",
      "{'NO_MUNICIPIO_RESIDENCIA': 'Feira de Santana', 'media_ponderada': None, 'NU_IDADE': 20, 'NU_INSCRICAO': 'ea2a7188231fc6f8db056bbb29c9fb7974a5a872'}\n",
      "{'NO_MUNICIPIO_RESIDENCIA': 'Recife', 'media_ponderada': None, 'NU_IDADE': 31, 'NU_INSCRICAO': 'd105bac265f79d8f81478335f2c22a3bb2f33136'}\n",
      "{'NO_MUNICIPIO_RESIDENCIA': 'Porangatu', 'media_ponderada': None, 'NU_IDADE': 16, 'NU_INSCRICAO': 'bf560c2adaf8ec8730fe989e87e9c13b5ee15614'}\n",
      "{'NO_MUNICIPIO_RESIDENCIA': 'Manaus', 'media_ponderada': None, 'NU_IDADE': 20, 'NU_INSCRICAO': '9ffdab364270a98ce7ddbc7441575960c07c7fb1'}\n",
      "{'NO_MUNICIPIO_RESIDENCIA': 'Ipaporanga', 'media_ponderada': None, 'NU_IDADE': 17, 'NU_INSCRICAO': '3df48418f7324276b5f96400b0c2560e93373ddc'}\n",
      "{'NO_MUNICIPIO_RESIDENCIA': 'Manaus', 'media_ponderada': None, 'NU_IDADE': 20, 'NU_INSCRICAO': '0f05a5785b0a13b6d971c6a3a43974b92812952f'}\n",
      "{'NO_MUNICIPIO_RESIDENCIA': 'Morro Reuter', 'media_ponderada': None, 'NU_IDADE': 18, 'NU_INSCRICAO': 'c92d72dea3031a4dd3c3c91070fc972465197edb'}\n",
      "{'NO_MUNICIPIO_RESIDENCIA': 'Arax\\xc3\\xa1', 'media_ponderada': None, 'NU_IDADE': 26, 'NU_INSCRICAO': 'e5dde0afdc67f82058283e6932013820632d2203'}\n",
      "{'NO_MUNICIPIO_RESIDENCIA': 'Jana\\xc3\\xbaba', 'media_ponderada': None, 'NU_IDADE': 25, 'NU_INSCRICAO': '2f7c01270cf2968a1fb9d213e9ded0c4386a17f2'}\n"
     ]
    }
   ],
   "source": [
    "while piores<len(alunos_ordenado):\n",
    "     print alunos_ordenado['NU_IDADE','media_ponderada','NO_MUNICIPIO_RESIDENCIA','NU_INSCRICAO'][piores]\n",
    "     piores = piores + 1;"
   ]
  },
  {
   "cell_type": "markdown",
   "metadata": {},
   "source": [
    "outro metodo para mostrar os 15 piores alunos seria :"
   ]
  },
  {
   "cell_type": "code",
   "execution_count": 24,
   "metadata": {
    "collapsed": false
   },
   "outputs": [
    {
     "name": "stdout",
     "output_type": "stream",
     "text": [
      "{'NO_MUNICIPIO_RESIDENCIA': 'Jana\\xc3\\xbaba', 'media_ponderada': None, 'NU_IDADE': 25, 'NU_INSCRICAO': '2f7c01270cf2968a1fb9d213e9ded0c4386a17f2'}\n",
      "{'NO_MUNICIPIO_RESIDENCIA': 'Arax\\xc3\\xa1', 'media_ponderada': None, 'NU_IDADE': 26, 'NU_INSCRICAO': 'e5dde0afdc67f82058283e6932013820632d2203'}\n",
      "{'NO_MUNICIPIO_RESIDENCIA': 'Sorocaba', 'media_ponderada': None, 'NU_IDADE': 20, 'NU_INSCRICAO': '2c922164e6d3b8e56cca1815c7d3e4bb4bf349c1'}\n",
      "{'NO_MUNICIPIO_RESIDENCIA': 'Carapicu\\xc3\\xadba', 'media_ponderada': None, 'NU_IDADE': 19, 'NU_INSCRICAO': '88c0729a2398b76e3fde375b90df4952ca517f6e'}\n",
      "{'NO_MUNICIPIO_RESIDENCIA': 'Rio de Janeiro', 'media_ponderada': None, 'NU_IDADE': 26, 'NU_INSCRICAO': '4a34a60cfeba08c0063038497758f11d2894f896'}\n",
      "{'NO_MUNICIPIO_RESIDENCIA': 'Morro Reuter', 'media_ponderada': None, 'NU_IDADE': 18, 'NU_INSCRICAO': 'c92d72dea3031a4dd3c3c91070fc972465197edb'}\n",
      "{'NO_MUNICIPIO_RESIDENCIA': 'Patroc\\xc3\\xadnio', 'media_ponderada': None, 'NU_IDADE': 19, 'NU_INSCRICAO': '31de52dda32a683ac2c32b7b52473abcc553970a'}\n",
      "{'NO_MUNICIPIO_RESIDENCIA': 'Manaus', 'media_ponderada': None, 'NU_IDADE': 20, 'NU_INSCRICAO': '0f05a5785b0a13b6d971c6a3a43974b92812952f'}\n",
      "{'NO_MUNICIPIO_RESIDENCIA': 'S\\xc3\\xa3o Paulo', 'media_ponderada': None, 'NU_IDADE': 31, 'NU_INSCRICAO': '3ce7ce00fde1f48f089e0d3b5598d3db89a5ad7c'}\n",
      "{'NO_MUNICIPIO_RESIDENCIA': 'Fazenda Rio Grande', 'media_ponderada': None, 'NU_IDADE': 31, 'NU_INSCRICAO': '61d76e12cb7708984877aa06a6fed26a14383085'}\n",
      "{'NO_MUNICIPIO_RESIDENCIA': 'Campo Belo', 'media_ponderada': None, 'NU_IDADE': 19, 'NU_INSCRICAO': '6930857aaab95d1ab15462e37d929cf73da0949e'}\n",
      "{'NO_MUNICIPIO_RESIDENCIA': 'Guarania\\xc3\\xa7u', 'media_ponderada': None, 'NU_IDADE': 16, 'NU_INSCRICAO': '94039b4bf1d1394dd46006eb363a561aa62f115d'}\n",
      "{'NO_MUNICIPIO_RESIDENCIA': 'Porangatu', 'media_ponderada': None, 'NU_IDADE': 16, 'NU_INSCRICAO': 'bf560c2adaf8ec8730fe989e87e9c13b5ee15614'}\n",
      "{'NO_MUNICIPIO_RESIDENCIA': 'S\\xc3\\xa3o Louren\\xc3\\xa7o', 'media_ponderada': None, 'NU_IDADE': 19, 'NU_INSCRICAO': '09f8880ec5e8f9fe47fcd48d62a36038479e891d'}\n",
      "{'NO_MUNICIPIO_RESIDENCIA': 'Nazar\\xc3\\xa9 Paulista', 'media_ponderada': None, 'NU_IDADE': 22, 'NU_INSCRICAO': '673519d58e56a0af20273d44bec0577b05e06a81'}\n"
     ]
    }
   ],
   "source": [
    "piores_alunos = alunos.sort(['media_ponderada'], ascending=True)\n",
    "for i in range(15):\n",
    "    print piores_alunos['NU_IDADE','media_ponderada','NO_MUNICIPIO_RESIDENCIA','NU_INSCRICAO'][i]"
   ]
  },
  {
   "cell_type": "markdown",
   "metadata": {},
   "source": [
    "Só que com uma diferença nesse método é listado o pior primeiro para seguido do menos ruim e assim graduativamente.  É evidente que todos os 15 piores tem nota null ou NONE porque se trata de inscritos que não compareceram a prova e tiveram a nota zerada. \n"
   ]
  },
  {
   "cell_type": "markdown",
   "metadata": {},
   "source": [
    "Definir uma avaliação positiva e negativas das notas, por exemplo: Abaixo\n",
    "de 200 é negativa e acima de 200 é positiva. Vou colocar acima de 450 positivo e abaixo negativo. "
   ]
  },
  {
   "cell_type": "code",
   "execution_count": 25,
   "metadata": {
    "collapsed": false
   },
   "outputs": [
    {
     "name": "stdout",
     "output_type": "stream",
     "text": [
      "Canvas is accessible via web browser at the URL: http://localhost:41535/index.html\n",
      "Opening Canvas in default web browser.\n"
     ]
    }
   ],
   "source": [
    "alunos[\"media_ponderada\"].show()"
   ]
  },
  {
   "cell_type": "code",
   "execution_count": 26,
   "metadata": {
    "collapsed": false
   },
   "outputs": [],
   "source": [
    "f = []\n",
    "for i in range(len(alunos)):\n",
    "    if(alunos[\"media_ponderada\"][i]>450):\n",
    "        f.append('Positiva')\n",
    "    else:\n",
    "        f.append('Negativa')"
   ]
  },
  {
   "cell_type": "code",
   "execution_count": 27,
   "metadata": {
    "collapsed": false
   },
   "outputs": [],
   "source": [
    "alunos['Avaliacao'] = f"
   ]
  },
  {
   "cell_type": "code",
   "execution_count": 28,
   "metadata": {
    "collapsed": true
   },
   "outputs": [],
   "source": [
    "alunos_ordenado = alunos.sort(['media_ponderada'], ascending=False)"
   ]
  },
  {
   "cell_type": "code",
   "execution_count": 29,
   "metadata": {
    "collapsed": false
   },
   "outputs": [
    {
     "name": "stdout",
     "output_type": "stream",
     "text": [
      "+-----------------+-----------+\n",
      "| media_ponderada | Avaliacao |\n",
      "+-----------------+-----------+\n",
      "|  830.573684211  |  Positiva |\n",
      "|  814.426315789  |  Positiva |\n",
      "|  813.163157895  |  Positiva |\n",
      "|  809.894736842  |  Positiva |\n",
      "|      807.4      |  Positiva |\n",
      "|  800.647368421  |  Positiva |\n",
      "|  798.921052632  |  Positiva |\n",
      "|      788.1      |  Positiva |\n",
      "|  783.526315789  |  Positiva |\n",
      "|  783.278947368  |  Positiva |\n",
      "+-----------------+-----------+\n",
      "[13686 rows x 2 columns]\n",
      "Note: Only the head of the SFrame is printed.\n",
      "You can use print_rows(num_rows=m, num_columns=n) to print more rows and columns.\n"
     ]
    }
   ],
   "source": [
    "print alunos_ordenado['media_ponderada','Avaliacao']"
   ]
  },
  {
   "cell_type": "code",
   "execution_count": 30,
   "metadata": {
    "collapsed": true
   },
   "outputs": [],
   "source": [
    "piores_alunos = alunos.sort(['media_ponderada'], ascending=True)"
   ]
  },
  {
   "cell_type": "code",
   "execution_count": 31,
   "metadata": {
    "collapsed": false
   },
   "outputs": [
    {
     "name": "stdout",
     "output_type": "stream",
     "text": [
      "+-----------------+-----------+\n",
      "| media_ponderada | Avaliacao |\n",
      "+-----------------+-----------+\n",
      "|       None      |  Negativa |\n",
      "|       None      |  Negativa |\n",
      "|       None      |  Negativa |\n",
      "|       None      |  Negativa |\n",
      "|       None      |  Negativa |\n",
      "|       None      |  Negativa |\n",
      "|       None      |  Negativa |\n",
      "|       None      |  Negativa |\n",
      "|       None      |  Negativa |\n",
      "|       None      |  Negativa |\n",
      "+-----------------+-----------+\n",
      "[13686 rows x 2 columns]\n",
      "Note: Only the head of the SFrame is printed.\n",
      "You can use print_rows(num_rows=m, num_columns=n) to print more rows and columns.\n"
     ]
    }
   ],
   "source": [
    "print piores_alunos['media_ponderada','Avaliacao']"
   ]
  },
  {
   "cell_type": "markdown",
   "metadata": {},
   "source": [
    "Dividir os Dados em Treino e teste com classificador logístico "
   ]
  },
  {
   "cell_type": "code",
   "execution_count": 32,
   "metadata": {
    "collapsed": true
   },
   "outputs": [],
   "source": [
    "treino,teste = alunos.random_split(.8, seed=0)"
   ]
  },
  {
   "cell_type": "code",
   "execution_count": 33,
   "metadata": {
    "collapsed": false
   },
   "outputs": [
    {
     "data": {
      "text/html": [
       "<pre>WARNING: The number of feature dimensions in this problem is very large in comparison with the number of examples. Unless an appropriate regularization value is set, this model may not provide accurate predictions for a validation/test set.</pre>"
      ],
      "text/plain": [
       "WARNING: The number of feature dimensions in this problem is very large in comparison with the number of examples. Unless an appropriate regularization value is set, this model may not provide accurate predictions for a validation/test set."
      ]
     },
     "metadata": {},
     "output_type": "display_data"
    },
    {
     "data": {
      "text/html": [
       "<pre>Logistic regression:</pre>"
      ],
      "text/plain": [
       "Logistic regression:"
      ]
     },
     "metadata": {},
     "output_type": "display_data"
    },
    {
     "data": {
      "text/html": [
       "<pre>--------------------------------------------------------</pre>"
      ],
      "text/plain": [
       "--------------------------------------------------------"
      ]
     },
     "metadata": {},
     "output_type": "display_data"
    },
    {
     "data": {
      "text/html": [
       "<pre>Number of examples          : 11020</pre>"
      ],
      "text/plain": [
       "Number of examples          : 11020"
      ]
     },
     "metadata": {},
     "output_type": "display_data"
    },
    {
     "data": {
      "text/html": [
       "<pre>Number of classes           : 2</pre>"
      ],
      "text/plain": [
       "Number of classes           : 2"
      ]
     },
     "metadata": {},
     "output_type": "display_data"
    },
    {
     "data": {
      "text/html": [
       "<pre>Number of feature columns   : 1</pre>"
      ],
      "text/plain": [
       "Number of feature columns   : 1"
      ]
     },
     "metadata": {},
     "output_type": "display_data"
    },
    {
     "data": {
      "text/html": [
       "<pre>Number of unpacked features : 1</pre>"
      ],
      "text/plain": [
       "Number of unpacked features : 1"
      ]
     },
     "metadata": {},
     "output_type": "display_data"
    },
    {
     "data": {
      "text/html": [
       "<pre>Number of coefficients    : 11020</pre>"
      ],
      "text/plain": [
       "Number of coefficients    : 11020"
      ]
     },
     "metadata": {},
     "output_type": "display_data"
    },
    {
     "data": {
      "text/html": [
       "<pre>Starting L-BFGS</pre>"
      ],
      "text/plain": [
       "Starting L-BFGS"
      ]
     },
     "metadata": {},
     "output_type": "display_data"
    },
    {
     "data": {
      "text/html": [
       "<pre>--------------------------------------------------------</pre>"
      ],
      "text/plain": [
       "--------------------------------------------------------"
      ]
     },
     "metadata": {},
     "output_type": "display_data"
    },
    {
     "data": {
      "text/html": [
       "<pre>+-----------+----------+-----------+--------------+-------------------+---------------------+</pre>"
      ],
      "text/plain": [
       "+-----------+----------+-----------+--------------+-------------------+---------------------+"
      ]
     },
     "metadata": {},
     "output_type": "display_data"
    },
    {
     "data": {
      "text/html": [
       "<pre>| Iteration | Passes   | Step size | Elapsed Time | Training-accuracy | Validation-accuracy |</pre>"
      ],
      "text/plain": [
       "| Iteration | Passes   | Step size | Elapsed Time | Training-accuracy | Validation-accuracy |"
      ]
     },
     "metadata": {},
     "output_type": "display_data"
    },
    {
     "data": {
      "text/html": [
       "<pre>+-----------+----------+-----------+--------------+-------------------+---------------------+</pre>"
      ],
      "text/plain": [
       "+-----------+----------+-----------+--------------+-------------------+---------------------+"
      ]
     },
     "metadata": {},
     "output_type": "display_data"
    },
    {
     "data": {
      "text/html": [
       "<pre>| 1         | 4        | 0.000454  | 1.028943     | 1.000000          | 0.585521            |</pre>"
      ],
      "text/plain": [
       "| 1         | 4        | 0.000454  | 1.028943     | 1.000000          | 0.585521            |"
      ]
     },
     "metadata": {},
     "output_type": "display_data"
    },
    {
     "data": {
      "text/html": [
       "<pre>| 2         | 6        | 1.000000  | 1.046802     | 1.000000          | 0.585521            |</pre>"
      ],
      "text/plain": [
       "| 2         | 6        | 1.000000  | 1.046802     | 1.000000          | 0.585521            |"
      ]
     },
     "metadata": {},
     "output_type": "display_data"
    },
    {
     "data": {
      "text/html": [
       "<pre>| 3         | 7        | 1.000000  | 1.059131     | 1.000000          | 0.585521            |</pre>"
      ],
      "text/plain": [
       "| 3         | 7        | 1.000000  | 1.059131     | 1.000000          | 0.585521            |"
      ]
     },
     "metadata": {},
     "output_type": "display_data"
    },
    {
     "data": {
      "text/html": [
       "<pre>| 4         | 8        | 1.000000  | 1.068779     | 1.000000          | 0.585521            |</pre>"
      ],
      "text/plain": [
       "| 4         | 8        | 1.000000  | 1.068779     | 1.000000          | 0.585521            |"
      ]
     },
     "metadata": {},
     "output_type": "display_data"
    },
    {
     "data": {
      "text/html": [
       "<pre>| 5         | 9        | 1.000000  | 1.081140     | 1.000000          | 0.585521            |</pre>"
      ],
      "text/plain": [
       "| 5         | 9        | 1.000000  | 1.081140     | 1.000000          | 0.585521            |"
      ]
     },
     "metadata": {},
     "output_type": "display_data"
    },
    {
     "data": {
      "text/html": [
       "<pre>| 6         | 10       | 1.000000  | 1.093342     | 1.000000          | 0.585521            |</pre>"
      ],
      "text/plain": [
       "| 6         | 10       | 1.000000  | 1.093342     | 1.000000          | 0.585521            |"
      ]
     },
     "metadata": {},
     "output_type": "display_data"
    },
    {
     "data": {
      "text/html": [
       "<pre>+-----------+----------+-----------+--------------+-------------------+---------------------+</pre>"
      ],
      "text/plain": [
       "+-----------+----------+-----------+--------------+-------------------+---------------------+"
      ]
     },
     "metadata": {},
     "output_type": "display_data"
    },
    {
     "data": {
      "text/html": [
       "<pre>TERMINATED: Iteration limit reached.</pre>"
      ],
      "text/plain": [
       "TERMINATED: Iteration limit reached."
      ]
     },
     "metadata": {},
     "output_type": "display_data"
    },
    {
     "data": {
      "text/html": [
       "<pre>This model may not be optimal. To improve it, consider increasing `max_iterations`.</pre>"
      ],
      "text/plain": [
       "This model may not be optimal. To improve it, consider increasing `max_iterations`."
      ]
     },
     "metadata": {},
     "output_type": "display_data"
    }
   ],
   "source": [
    "modelo1 = graphlab.logistic_classifier.create(treino,target='Avaliacao',\n",
    "features=['NU_INSCRICAO'],\n",
    "validation_set=teste)"
   ]
  },
  {
   "cell_type": "code",
   "execution_count": 34,
   "metadata": {
    "collapsed": false
   },
   "outputs": [
    {
     "data": {
      "text/html": [
       "<pre>WARNING: The number of feature dimensions in this problem is very large in comparison with the number of examples. Unless an appropriate regularization value is set, this model may not provide accurate predictions for a validation/test set.</pre>"
      ],
      "text/plain": [
       "WARNING: The number of feature dimensions in this problem is very large in comparison with the number of examples. Unless an appropriate regularization value is set, this model may not provide accurate predictions for a validation/test set."
      ]
     },
     "metadata": {},
     "output_type": "display_data"
    },
    {
     "data": {
      "text/html": [
       "<pre>SVM:</pre>"
      ],
      "text/plain": [
       "SVM:"
      ]
     },
     "metadata": {},
     "output_type": "display_data"
    },
    {
     "data": {
      "text/html": [
       "<pre>--------------------------------------------------------</pre>"
      ],
      "text/plain": [
       "--------------------------------------------------------"
      ]
     },
     "metadata": {},
     "output_type": "display_data"
    },
    {
     "data": {
      "text/html": [
       "<pre>Number of examples          : 11020</pre>"
      ],
      "text/plain": [
       "Number of examples          : 11020"
      ]
     },
     "metadata": {},
     "output_type": "display_data"
    },
    {
     "data": {
      "text/html": [
       "<pre>Number of classes           : 2</pre>"
      ],
      "text/plain": [
       "Number of classes           : 2"
      ]
     },
     "metadata": {},
     "output_type": "display_data"
    },
    {
     "data": {
      "text/html": [
       "<pre>Number of feature columns   : 1</pre>"
      ],
      "text/plain": [
       "Number of feature columns   : 1"
      ]
     },
     "metadata": {},
     "output_type": "display_data"
    },
    {
     "data": {
      "text/html": [
       "<pre>Number of unpacked features : 1</pre>"
      ],
      "text/plain": [
       "Number of unpacked features : 1"
      ]
     },
     "metadata": {},
     "output_type": "display_data"
    },
    {
     "data": {
      "text/html": [
       "<pre>Number of coefficients    : 11020</pre>"
      ],
      "text/plain": [
       "Number of coefficients    : 11020"
      ]
     },
     "metadata": {},
     "output_type": "display_data"
    },
    {
     "data": {
      "text/html": [
       "<pre>Starting L-BFGS</pre>"
      ],
      "text/plain": [
       "Starting L-BFGS"
      ]
     },
     "metadata": {},
     "output_type": "display_data"
    },
    {
     "data": {
      "text/html": [
       "<pre>--------------------------------------------------------</pre>"
      ],
      "text/plain": [
       "--------------------------------------------------------"
      ]
     },
     "metadata": {},
     "output_type": "display_data"
    },
    {
     "data": {
      "text/html": [
       "<pre>+-----------+----------+-----------+--------------+-------------------+---------------------+</pre>"
      ],
      "text/plain": [
       "+-----------+----------+-----------+--------------+-------------------+---------------------+"
      ]
     },
     "metadata": {},
     "output_type": "display_data"
    },
    {
     "data": {
      "text/html": [
       "<pre>| Iteration | Passes   | Step size | Elapsed Time | Training-accuracy | Validation-accuracy |</pre>"
      ],
      "text/plain": [
       "| Iteration | Passes   | Step size | Elapsed Time | Training-accuracy | Validation-accuracy |"
      ]
     },
     "metadata": {},
     "output_type": "display_data"
    },
    {
     "data": {
      "text/html": [
       "<pre>+-----------+----------+-----------+--------------+-------------------+---------------------+</pre>"
      ],
      "text/plain": [
       "+-----------+----------+-----------+--------------+-------------------+---------------------+"
      ]
     },
     "metadata": {},
     "output_type": "display_data"
    },
    {
     "data": {
      "text/html": [
       "<pre>| 1         | 3        | 0.000091  | 0.015184     | 1.000000          | 0.585521            |</pre>"
      ],
      "text/plain": [
       "| 1         | 3        | 0.000091  | 0.015184     | 1.000000          | 0.585521            |"
      ]
     },
     "metadata": {},
     "output_type": "display_data"
    },
    {
     "data": {
      "text/html": [
       "<pre>| 2         | 5        | 1.000000  | 0.032463     | 0.999909          | 0.414479            |</pre>"
      ],
      "text/plain": [
       "| 2         | 5        | 1.000000  | 0.032463     | 0.999909          | 0.414479            |"
      ]
     },
     "metadata": {},
     "output_type": "display_data"
    },
    {
     "data": {
      "text/html": [
       "<pre>| 3         | 6        | 1.000000  | 0.043068     | 0.999909          | 0.414479            |</pre>"
      ],
      "text/plain": [
       "| 3         | 6        | 1.000000  | 0.043068     | 0.999909          | 0.414479            |"
      ]
     },
     "metadata": {},
     "output_type": "display_data"
    },
    {
     "data": {
      "text/html": [
       "<pre>| 4         | 7        | 1.000000  | 0.054999     | 0.585935          | 0.585521            |</pre>"
      ],
      "text/plain": [
       "| 4         | 7        | 1.000000  | 0.054999     | 0.585935          | 0.585521            |"
      ]
     },
     "metadata": {},
     "output_type": "display_data"
    },
    {
     "data": {
      "text/html": [
       "<pre>| 5         | 9        | 1.000000  | 0.072603     | 0.999909          | 0.414479            |</pre>"
      ],
      "text/plain": [
       "| 5         | 9        | 1.000000  | 0.072603     | 0.999909          | 0.414479            |"
      ]
     },
     "metadata": {},
     "output_type": "display_data"
    },
    {
     "data": {
      "text/html": [
       "<pre>| 6         | 10       | 1.000000  | 0.083375     | 0.999909          | 0.414479            |</pre>"
      ],
      "text/plain": [
       "| 6         | 10       | 1.000000  | 0.083375     | 0.999909          | 0.414479            |"
      ]
     },
     "metadata": {},
     "output_type": "display_data"
    },
    {
     "data": {
      "text/html": [
       "<pre>+-----------+----------+-----------+--------------+-------------------+---------------------+</pre>"
      ],
      "text/plain": [
       "+-----------+----------+-----------+--------------+-------------------+---------------------+"
      ]
     },
     "metadata": {},
     "output_type": "display_data"
    },
    {
     "data": {
      "text/html": [
       "<pre>TERMINATED: Iteration limit reached.</pre>"
      ],
      "text/plain": [
       "TERMINATED: Iteration limit reached."
      ]
     },
     "metadata": {},
     "output_type": "display_data"
    },
    {
     "data": {
      "text/html": [
       "<pre>This model may not be optimal. To improve it, consider increasing `max_iterations`.</pre>"
      ],
      "text/plain": [
       "This model may not be optimal. To improve it, consider increasing `max_iterations`."
      ]
     },
     "metadata": {},
     "output_type": "display_data"
    }
   ],
   "source": [
    "modelo2 = graphlab.svm_classifier.create(treino,target='Avaliacao',\n",
    "features=['NU_INSCRICAO'],\n",
    "validation_set=teste)"
   ]
  },
  {
   "cell_type": "code",
   "execution_count": 35,
   "metadata": {
    "collapsed": false
   },
   "outputs": [],
   "source": [
    "from sklearn.metrics import confusion_matrix\n"
   ]
  },
  {
   "cell_type": "code",
   "execution_count": 36,
   "metadata": {
    "collapsed": false
   },
   "outputs": [
    {
     "name": "stdout",
     "output_type": "stream",
     "text": [
      "[580, 720, 500, 420, None, 920, None, 600, 660, 560, 360, None, 640, 500, 560, 360, 520, None, 520, 800, 780, 640, 880, 420, 620, None, 440, None, 600, 560, 700, 560, 540, 460, 540, 600, 460, 560, 600, 480, 400, 620, 800, 900, 400, 600, 600, 600, 580, 320, None, None, 400, 320, 520, None, 440, None, None, None, 340, 580, 480, 0, 520, 620, 460, 460, 280, None, 500, 400, 700, 620, None, 540, None, 600, 500, 440, 840, 780, 520, 900, 700, None, None, 680, 400, 640, None, None, 400, 460, 340, 900, 520, 440, None, 540, ... ]\n"
     ]
    }
   ],
   "source": [
    "print alunos['NU_NOTA_REDACAO']"
   ]
  },
  {
   "cell_type": "code",
   "execution_count": 37,
   "metadata": {
    "collapsed": false
   },
   "outputs": [],
   "source": [
    "predicao = modelo1.predict(alunos)\n",
    "predicao_SVM = modelo2.predict(alunos)"
   ]
  },
  {
   "cell_type": "code",
   "execution_count": 38,
   "metadata": {
    "collapsed": false
   },
   "outputs": [],
   "source": [
    "r = []\n",
    "for i in range(len(alunos)):\n",
    "    if(alunos[\"NU_NOTA_REDACAO\"][i]>450):\n",
    "        r.append('Positiva')\n",
    "    else:\n",
    "        r.append('Negativa')"
   ]
  },
  {
   "cell_type": "code",
   "execution_count": 39,
   "metadata": {
    "collapsed": false
   },
   "outputs": [
    {
     "name": "stdout",
     "output_type": "stream",
     "text": [
      "['Positiva', 'Positiva', 'Positiva', 'Negativa', 'Negativa', 'Positiva', 'Negativa', 'Positiva', 'Positiva', 'Positiva', 'Negativa', 'Negativa', 'Positiva', 'Positiva', 'Positiva', 'Negativa', 'Positiva', 'Negativa', 'Positiva', 'Positiva', 'Positiva', 'Positiva', 'Positiva', 'Negativa', 'Positiva', 'Negativa', 'Negativa', 'Negativa', 'Positiva', 'Positiva', 'Positiva', 'Positiva', 'Positiva', 'Positiva', 'Positiva', 'Positiva', 'Positiva', 'Positiva', 'Positiva', 'Positiva', 'Negativa', 'Positiva', 'Positiva', 'Positiva', 'Negativa', 'Positiva', 'Positiva', 'Positiva', 'Positiva', 'Negativa', 'Negativa', 'Negativa', 'Negativa', 'Negativa', 'Positiva', 'Negativa', 'Negativa', 'Negativa', 'Negativa', 'Negativa', 'Negativa', 'Positiva', 'Positiva', 'Negativa', 'Positiva', 'Positiva', 'Positiva', 'Positiva', 'Negativa', 'Negativa', 'Positiva', 'Negativa', 'Positiva', 'Positiva', 'Negativa', 'Positiva', 'Negativa', 'Positiva', 'Positiva', 'Negativa', 'Positiva', 'Positiva', 'Positiva', 'Positiva', 'Positiva', 'Negativa', 'Negativa', 'Positiva', 'Negativa', 'Positiva', 'Negativa', 'Negativa', 'Negativa', 'Positiva', 'Negativa', 'Positiva', 'Positiva', 'Negativa', 'Negativa', 'Positiva', ... ]\n"
     ]
    }
   ],
   "source": [
    "alunos['desempenho_redacao'] = r \n",
    "print alunos['desempenho_redacao']"
   ]
  },
  {
   "cell_type": "code",
   "execution_count": 40,
   "metadata": {
    "collapsed": false
   },
   "outputs": [
    {
     "data": {
      "text/html": [
       "<div style=\"max-height:1000px;max-width:1500px;overflow:auto;\"><table frame=\"box\" rules=\"cols\">\n",
       "    <tr>\n",
       "        <th style=\"padding-left: 1em; padding-right: 1em; text-align: center\">target_label</th>\n",
       "        <th style=\"padding-left: 1em; padding-right: 1em; text-align: center\">predicted_label</th>\n",
       "        <th style=\"padding-left: 1em; padding-right: 1em; text-align: center\">count</th>\n",
       "    </tr>\n",
       "    <tr>\n",
       "        <td style=\"padding-left: 1em; padding-right: 1em; text-align: center; vertical-align: top\">Negativa</td>\n",
       "        <td style=\"padding-left: 1em; padding-right: 1em; text-align: center; vertical-align: top\">Positiva</td>\n",
       "        <td style=\"padding-left: 1em; padding-right: 1em; text-align: center; vertical-align: top\">1953</td>\n",
       "    </tr>\n",
       "    <tr>\n",
       "        <td style=\"padding-left: 1em; padding-right: 1em; text-align: center; vertical-align: top\">Positiva</td>\n",
       "        <td style=\"padding-left: 1em; padding-right: 1em; text-align: center; vertical-align: top\">Negativa</td>\n",
       "        <td style=\"padding-left: 1em; padding-right: 1em; text-align: center; vertical-align: top\">464</td>\n",
       "    </tr>\n",
       "    <tr>\n",
       "        <td style=\"padding-left: 1em; padding-right: 1em; text-align: center; vertical-align: top\">Negativa</td>\n",
       "        <td style=\"padding-left: 1em; padding-right: 1em; text-align: center; vertical-align: top\">Negativa</td>\n",
       "        <td style=\"padding-left: 1em; padding-right: 1em; text-align: center; vertical-align: top\">4099</td>\n",
       "    </tr>\n",
       "    <tr>\n",
       "        <td style=\"padding-left: 1em; padding-right: 1em; text-align: center; vertical-align: top\">Positiva</td>\n",
       "        <td style=\"padding-left: 1em; padding-right: 1em; text-align: center; vertical-align: top\">Positiva</td>\n",
       "        <td style=\"padding-left: 1em; padding-right: 1em; text-align: center; vertical-align: top\">7170</td>\n",
       "    </tr>\n",
       "</table>\n",
       "[4 rows x 3 columns]<br/>\n",
       "</div>"
      ],
      "text/plain": [
       "Columns:\n",
       "\ttarget_label\tstr\n",
       "\tpredicted_label\tstr\n",
       "\tcount\tint\n",
       "\n",
       "Rows: 4\n",
       "\n",
       "Data:\n",
       "+--------------+-----------------+-------+\n",
       "| target_label | predicted_label | count |\n",
       "+--------------+-----------------+-------+\n",
       "|   Negativa   |     Positiva    |  1953 |\n",
       "|   Positiva   |     Negativa    |  464  |\n",
       "|   Negativa   |     Negativa    |  4099 |\n",
       "|   Positiva   |     Positiva    |  7170 |\n",
       "+--------------+-----------------+-------+\n",
       "[4 rows x 3 columns]"
      ]
     },
     "execution_count": 40,
     "metadata": {},
     "output_type": "execute_result"
    }
   ],
   "source": [
    "desempenho = alunos['desempenho_redacao']\n",
    "graphlab.evaluation.confusion_matrix(desempenho,predicao)"
   ]
  },
  {
   "cell_type": "code",
   "execution_count": 41,
   "metadata": {
    "collapsed": false
   },
   "outputs": [
    {
     "data": {
      "text/html": [
       "<div style=\"max-height:1000px;max-width:1500px;overflow:auto;\"><table frame=\"box\" rules=\"cols\">\n",
       "    <tr>\n",
       "        <th style=\"padding-left: 1em; padding-right: 1em; text-align: center\">target_label</th>\n",
       "        <th style=\"padding-left: 1em; padding-right: 1em; text-align: center\">predicted_label</th>\n",
       "        <th style=\"padding-left: 1em; padding-right: 1em; text-align: center\">count</th>\n",
       "    </tr>\n",
       "    <tr>\n",
       "        <td style=\"padding-left: 1em; padding-right: 1em; text-align: center; vertical-align: top\">Positiva</td>\n",
       "        <td style=\"padding-left: 1em; padding-right: 1em; text-align: center; vertical-align: top\">Positiva</td>\n",
       "        <td style=\"padding-left: 1em; padding-right: 1em; text-align: center; vertical-align: top\">7634</td>\n",
       "    </tr>\n",
       "    <tr>\n",
       "        <td style=\"padding-left: 1em; padding-right: 1em; text-align: center; vertical-align: top\">Negativa</td>\n",
       "        <td style=\"padding-left: 1em; padding-right: 1em; text-align: center; vertical-align: top\">Positiva</td>\n",
       "        <td style=\"padding-left: 1em; padding-right: 1em; text-align: center; vertical-align: top\">6052</td>\n",
       "    </tr>\n",
       "</table>\n",
       "[2 rows x 3 columns]<br/>\n",
       "</div>"
      ],
      "text/plain": [
       "Columns:\n",
       "\ttarget_label\tstr\n",
       "\tpredicted_label\tstr\n",
       "\tcount\tint\n",
       "\n",
       "Rows: 2\n",
       "\n",
       "Data:\n",
       "+--------------+-----------------+-------+\n",
       "| target_label | predicted_label | count |\n",
       "+--------------+-----------------+-------+\n",
       "|   Positiva   |     Positiva    |  7634 |\n",
       "|   Negativa   |     Positiva    |  6052 |\n",
       "+--------------+-----------------+-------+\n",
       "[2 rows x 3 columns]"
      ]
     },
     "execution_count": 41,
     "metadata": {},
     "output_type": "execute_result"
    }
   ],
   "source": [
    "graphlab.evaluation.confusion_matrix(desempenho,predicao_SVM)"
   ]
  },
  {
   "cell_type": "markdown",
   "metadata": {},
   "source": [
    "Apresento um comparativo na Matrix de confusão entre a média geral dos alunos e a sua media na redação \n"
   ]
  },
  {
   "cell_type": "code",
   "execution_count": null,
   "metadata": {
    "collapsed": true
   },
   "outputs": [],
   "source": []
  }
 ],
 "metadata": {
  "kernelspec": {
   "display_name": "Python 2",
   "language": "python",
   "name": "python2"
  },
  "language_info": {
   "codemirror_mode": {
    "name": "ipython",
    "version": 2
   },
   "file_extension": ".py",
   "mimetype": "text/x-python",
   "name": "python",
   "nbconvert_exporter": "python",
   "pygments_lexer": "ipython2",
   "version": "2.7.13"
  }
 },
 "nbformat": 4,
 "nbformat_minor": 0
}
