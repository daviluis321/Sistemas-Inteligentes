{
 "cells": [
  {
   "cell_type": "code",
   "execution_count": 122,
   "metadata": {
    "collapsed": true
   },
   "outputs": [],
   "source": [
    "import graphlab\n",
    "import random\n",
    "import math\n",
    "import numpy\n",
    "from matplotlib import pyplot as plt\n",
    "%matplotlib inline"
   ]
  },
  {
   "cell_type": "code",
   "execution_count": 123,
   "metadata": {},
   "outputs": [],
   "source": [
    "#vendas = graphlab.SFrame(\"home_data.gl\")"
   ]
  },
  {
   "cell_type": "code",
   "execution_count": 124,
   "metadata": {},
   "outputs": [],
   "source": [
    "#k igual a 5\n",
    "n = 5\n",
    "x = graphlab.SArray([random.random() for i in range(n)]).sort()\n",
    "y = x.apply(lambda x:math.sin(4*x))\n",
    "random.seed(1)\n",
    "e = graphlab.SArray([random.gauss(0,1.0/3.0) for i in range(n)])\n",
    "y = y+e\n",
    "data = graphlab.SFrame({'X1':x,'Y':y})\n",
    "def polynomial_features(data,deg):\n",
    "    data_copy=data.copy()\n",
    "    for i in range(1,deg):\n",
    "        data_copy['X'+str(i+1)]=data_copy['X'+str(i)]*data_copy['X1']\n",
    "    return data_copy"
   ]
  },
  {
   "cell_type": "code",
   "execution_count": 125,
   "metadata": {
    "collapsed": true
   },
   "outputs": [],
   "source": [
    "def loo(data, deg, l2_penalty_values):\n",
    "    data = polynomial_features(data, deg)\n",
    "    num_folds = len(data)\n",
    "    folds = graphlab.cross_validation.KFold(data,num_folds)\n",
    "    l2_penalty_mse = []\n",
    "    min_mse = None\n",
    "    best_l2_penalty = None\n",
    "    \n",
    "    for l2_penalty in l2_penalty_values:\n",
    "        next_mse = 0.0\n",
    "        for train_set, validation_set in folds:\n",
    "            model = graphlab.linear_regression.create(train_set,target='Y',\n",
    "                                                      l2_penalty=l2_penalty,\n",
    "                                                      validation_set=None,\n",
    "                                                      verbose=False)\n",
    "            \n",
    "            y_test_predicted = model.predict(validation_set)\n",
    "            next_mse += ((y_test_predicted-validation_set['Y'])**2).sum()\n",
    "    \n",
    "        next_mse = next_mse/num_folds\n",
    "        l2_penalty_mse.append(next_mse)\n",
    "        \n",
    "    if min_mse is None or next_mse < min_mse:\n",
    "        min_mse = next_mse\n",
    "        best_l2_penalty = l2_penalty\n",
    "        \n",
    "    return l2_penalty_mse,best_l2_penalty"
   ]
  },
  {
   "cell_type": "code",
   "execution_count": 126,
   "metadata": {
    "collapsed": true
   },
   "outputs": [],
   "source": [
    "l2_penalty_values = numpy.logspace(-4, 10, num=10)"
   ]
  },
  {
   "cell_type": "code",
   "execution_count": 127,
   "metadata": {
    "collapsed": true
   },
   "outputs": [],
   "source": [
    "l2_penalty_mse,best_l2_penalty = loo(data, 5, l2_penalty_values)"
   ]
  },
  {
   "cell_type": "code",
   "execution_count": 128,
   "metadata": {
    "collapsed": true
   },
   "outputs": [],
   "source": [
    "def print_coefficients(model):\n",
    "    deg = len(model.coefficients['value'])-1\n",
    "    w = list(model.coefficients['value'])\n",
    "    print 'Coeficientes do polinômio de grau '+str(deg)+\" : \"\n",
    "    w.reverse()\n",
    "    print numpy.poly1d(w)"
   ]
  },
  {
   "cell_type": "code",
   "execution_count": 129,
   "metadata": {},
   "outputs": [],
   "source": [
    "def regressao_polinomial_cume(data, deg, l2_penalty):\n",
    "    model = graphlab.linear_regression.create(polynomial_features(data,deg),\n",
    "    target='Y', l2_penalty=l2_penalty,\n",
    "    validation_set=None,verbose=False)\n",
    "    return model"
   ]
  },
  {
   "cell_type": "code",
   "execution_count": 130,
   "metadata": {},
   "outputs": [],
   "source": [
    "model = regressao_polinomial_cume(data,16,l2_penalty=100)"
   ]
  },
  {
   "cell_type": "code",
   "execution_count": 131,
   "metadata": {},
   "outputs": [
    {
     "name": "stdout",
     "output_type": "stream",
     "text": [
      "Coeficientes do polinômio de grau 16 : \n",
      "         16          15          14         13          12          11\n",
      "-0.5683 x  - 0.4778 x  - 0.4015 x  - 0.337 x  - 0.2825 x  - 0.2364 x \n",
      "           10          9         8          7           6           5\n",
      " - 0.1973 x  - 0.1642 x - 0.136 x - 0.1119 x - 0.09121 x - 0.07317 x\n",
      "            4           3          2\n",
      " - 0.05703 x - 0.04185 x - 0.0265 x - 0.01072 x + 0.5797\n"
     ]
    }
   ],
   "source": [
    "#print de k 5\n",
    "print_coefficients(model)"
   ]
  },
  {
   "cell_type": "code",
   "execution_count": 132,
   "metadata": {},
   "outputs": [
    {
     "name": "stdout",
     "output_type": "stream",
     "text": [
      "Coeficientes do polinômio de grau 16 : \n",
      "         16          15          14          13          12          11\n",
      "-0.4359 x  - 0.3753 x  - 0.3227 x  - 0.2768 x  - 0.2367 x  - 0.2016 x \n",
      "           10          9          8           7           6           5\n",
      " - 0.1709 x  - 0.1439 x - 0.1202 x - 0.09928 x - 0.08079 x - 0.06441 x\n",
      "            4           3           2\n",
      " - 0.04978 x - 0.03657 x - 0.02442 x - 0.01307 x + 0.3785\n"
     ]
    }
   ],
   "source": [
    "#k igual a 10\n",
    "n = 10\n",
    "x = graphlab.SArray([random.random() for i in range(n)]).sort()\n",
    "y = x.apply(lambda x:math.sin(4*x))\n",
    "random.seed(1)\n",
    "e = graphlab.SArray([random.gauss(0,1.0/3.0) for i in range(n)])\n",
    "y = y+e\n",
    "data = graphlab.SFrame({'X1':x,'Y':y})\n",
    "l2_penalty_values = numpy.logspace(-4, 10, num=10)\n",
    "l2_penalty_mse,best_l2_penalty = loo(data, 5, l2_penalty_values)\n",
    "model = regressao_polinomial_cume(data,16,l2_penalty=100)\n",
    "#impressão de k igual a 10\n",
    "print_coefficients(model)"
   ]
  },
  {
   "cell_type": "code",
   "execution_count": null,
   "metadata": {
    "collapsed": true
   },
   "outputs": [],
   "source": []
  },
  {
   "cell_type": "code",
   "execution_count": null,
   "metadata": {
    "collapsed": true
   },
   "outputs": [],
   "source": []
  },
  {
   "cell_type": "code",
   "execution_count": null,
   "metadata": {
    "collapsed": true
   },
   "outputs": [],
   "source": []
  },
  {
   "cell_type": "code",
   "execution_count": null,
   "metadata": {
    "collapsed": true
   },
   "outputs": [],
   "source": []
  }
 ],
 "metadata": {
  "kernelspec": {
   "display_name": "Python 3",
   "language": "python",
   "name": "python3"
  },
  "language_info": {
   "codemirror_mode": {
    "name": "ipython",
    "version": 3
   },
   "file_extension": ".py",
   "mimetype": "text/x-python",
   "name": "python",
   "nbconvert_exporter": "python",
   "pygments_lexer": "ipython3",
   "version": "3.6.2"
  }
 },
 "nbformat": 4,
 "nbformat_minor": 1
}
