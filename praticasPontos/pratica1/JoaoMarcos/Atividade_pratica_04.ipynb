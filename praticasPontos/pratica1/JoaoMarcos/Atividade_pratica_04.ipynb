{
 "cells": [
  {
   "cell_type": "code",
   "execution_count": 9,
   "metadata": {
    "collapsed": false
   },
   "outputs": [
    {
     "name": "stdout",
     "output_type": "stream",
     "text": [
      "This non-commercial license of GraphLab Create for academic use is assigned to rosaljoao@gmail.com and will expire on March 22, 2019.\n"
     ]
    },
    {
     "name": "stderr",
     "output_type": "stream",
     "text": [
      "[INFO] graphlab.cython.cy_server: GraphLab Create v2.1 started. Logging: /tmp/graphlab_server_1524754341.log\n"
     ]
    }
   ],
   "source": [
    "import graphlab \n",
    "import random\n",
    "import math\n",
    "import numpy\n",
    "from matplotlib import pyplot as plt\n",
    "%matplotlib inline"
   ]
  },
  {
   "cell_type": "code",
   "execution_count": 10,
   "metadata": {
    "collapsed": false
   },
   "outputs": [],
   "source": [
    "random.seed(98103)\n",
    "n = 30\n",
    "x = graphlab.SArray([random.random() for i in range(n)]).sort()"
   ]
  },
  {
   "cell_type": "code",
   "execution_count": 11,
   "metadata": {
    "collapsed": false
   },
   "outputs": [
    {
     "data": {
      "text/plain": [
       "dtype: float\n",
       "Rows: 30\n",
       "[0.03957894495006575, 0.04156809967912256, 0.0724319480800758, 0.1502890446221763, 0.16133414450223427, 0.19195631279497838, 0.23283391714465285, 0.25990098016580054, 0.3801458148686865, 0.432444723507992, 0.47056698189428126, 0.4714946037956341, 0.47870640066103853, 0.49053553924712967, 0.5467800590828905, 0.5696803579782542, 0.6079324536462045, 0.6202375373443129, 0.630093133764472, 0.6450096693254694, 0.6467576040906915, 0.6990897790220533, 0.7902450464374043, 0.8103846511814395, 0.829320894073608, 0.8501115576007019, 0.8863684369527574, 0.8911410794245727, 0.9043884813966695, 0.9244858666003654]"
      ]
     },
     "execution_count": 11,
     "metadata": {},
     "output_type": "execute_result"
    }
   ],
   "source": [
    "x"
   ]
  },
  {
   "cell_type": "code",
   "execution_count": 18,
   "metadata": {
    "collapsed": true
   },
   "outputs": [],
   "source": [
    "y = x.apply(lambda x: math.sin(4*x))"
   ]
  },
  {
   "cell_type": "code",
   "execution_count": 19,
   "metadata": {
    "collapsed": false
   },
   "outputs": [
    {
     "data": {
      "text/plain": [
       "dtype: float\n",
       "Rows: 30\n",
       "[0.15765527330715118, 0.16550731513895361, 0.28569137317201587, 0.5655963310738573, 0.6014673638641537, 0.6945723182799316, 0.8024177336626097, 0.8622036562183355, 0.9987395887969133, 0.9873888679370947, 0.9518836143289069, 0.9507399491702666, 0.9414033048470645, 0.9243965533386744, 0.8160088904398481, 0.759712729130455, 0.6517297472208435, 0.6136242987242347, 0.5820277559882728, 0.5325021703779891, 0.5265711949509843, 0.3384164444332101, -0.019386317630007324, -0.09977963765619023, -0.17478846590569042, -0.25597249131754973, -0.3929901249560022, -0.4104720422761508, -0.4581930879372578, -0.5280908755021222]"
      ]
     },
     "execution_count": 19,
     "metadata": {},
     "output_type": "execute_result"
    }
   ],
   "source": [
    "y"
   ]
  },
  {
   "cell_type": "code",
   "execution_count": 20,
   "metadata": {
    "collapsed": true
   },
   "outputs": [],
   "source": [
    "random.seed(1)\n",
    "e = graphlab.SArray([random.gauss(0,1.0/3.0) for i in range(n)])\n",
    "y = y + e"
   ]
  },
  {
   "cell_type": "code",
   "execution_count": 21,
   "metadata": {
    "collapsed": true
   },
   "outputs": [],
   "source": [
    "data = graphlab.SFrame({'x1':x, 'Y':y})"
   ]
  },
  {
   "cell_type": "code",
   "execution_count": 22,
   "metadata": {
    "collapsed": false
   },
   "outputs": [
    {
     "data": {
      "text/html": [
       "<div style=\"max-height:1000px;max-width:1500px;overflow:auto;\"><table frame=\"box\" rules=\"cols\">\n",
       "    <tr>\n",
       "        <th style=\"padding-left: 1em; padding-right: 1em; text-align: center\">Y</th>\n",
       "        <th style=\"padding-left: 1em; padding-right: 1em; text-align: center\">x1</th>\n",
       "    </tr>\n",
       "    <tr>\n",
       "        <td style=\"padding-left: 1em; padding-right: 1em; text-align: center; vertical-align: top\">0.587050191026</td>\n",
       "        <td style=\"padding-left: 1em; padding-right: 1em; text-align: center; vertical-align: top\">0.0395789449501</td>\n",
       "    </tr>\n",
       "    <tr>\n",
       "        <td style=\"padding-left: 1em; padding-right: 1em; text-align: center; vertical-align: top\">0.648655851372</td>\n",
       "        <td style=\"padding-left: 1em; padding-right: 1em; text-align: center; vertical-align: top\">0.0415680996791</td>\n",
       "    </tr>\n",
       "    <tr>\n",
       "        <td style=\"padding-left: 1em; padding-right: 1em; text-align: center; vertical-align: top\">0.307803309485</td>\n",
       "        <td style=\"padding-left: 1em; padding-right: 1em; text-align: center; vertical-align: top\">0.0724319480801</td>\n",
       "    </tr>\n",
       "    <tr>\n",
       "        <td style=\"padding-left: 1em; padding-right: 1em; text-align: center; vertical-align: top\">0.310748447417</td>\n",
       "        <td style=\"padding-left: 1em; padding-right: 1em; text-align: center; vertical-align: top\">0.150289044622</td>\n",
       "    </tr>\n",
       "    <tr>\n",
       "        <td style=\"padding-left: 1em; padding-right: 1em; text-align: center; vertical-align: top\">0.237409625496</td>\n",
       "        <td style=\"padding-left: 1em; padding-right: 1em; text-align: center; vertical-align: top\">0.161334144502</td>\n",
       "    </tr>\n",
       "    <tr>\n",
       "        <td style=\"padding-left: 1em; padding-right: 1em; text-align: center; vertical-align: top\">0.705017157224</td>\n",
       "        <td style=\"padding-left: 1em; padding-right: 1em; text-align: center; vertical-align: top\">0.191956312795</td>\n",
       "    </tr>\n",
       "    <tr>\n",
       "        <td style=\"padding-left: 1em; padding-right: 1em; text-align: center; vertical-align: top\">0.461716676992</td>\n",
       "        <td style=\"padding-left: 1em; padding-right: 1em; text-align: center; vertical-align: top\">0.232833917145</td>\n",
       "    </tr>\n",
       "    <tr>\n",
       "        <td style=\"padding-left: 1em; padding-right: 1em; text-align: center; vertical-align: top\">0.383260507851</td>\n",
       "        <td style=\"padding-left: 1em; padding-right: 1em; text-align: center; vertical-align: top\">0.259900980166</td>\n",
       "    </tr>\n",
       "    <tr>\n",
       "        <td style=\"padding-left: 1em; padding-right: 1em; text-align: center; vertical-align: top\">1.06517691429</td>\n",
       "        <td style=\"padding-left: 1em; padding-right: 1em; text-align: center; vertical-align: top\">0.380145814869</td>\n",
       "    </tr>\n",
       "    <tr>\n",
       "        <td style=\"padding-left: 1em; padding-right: 1em; text-align: center; vertical-align: top\">1.03184706949</td>\n",
       "        <td style=\"padding-left: 1em; padding-right: 1em; text-align: center; vertical-align: top\">0.432444723508</td>\n",
       "    </tr>\n",
       "</table>\n",
       "[30 rows x 2 columns]<br/>Note: Only the head of the SFrame is printed.<br/>You can use print_rows(num_rows=m, num_columns=n) to print more rows and columns.\n",
       "</div>"
      ],
      "text/plain": [
       "Columns:\n",
       "\tY\tfloat\n",
       "\tx1\tfloat\n",
       "\n",
       "Rows: 30\n",
       "\n",
       "Data:\n",
       "+----------------+-----------------+\n",
       "|       Y        |        x1       |\n",
       "+----------------+-----------------+\n",
       "| 0.587050191026 | 0.0395789449501 |\n",
       "| 0.648655851372 | 0.0415680996791 |\n",
       "| 0.307803309485 | 0.0724319480801 |\n",
       "| 0.310748447417 |  0.150289044622 |\n",
       "| 0.237409625496 |  0.161334144502 |\n",
       "| 0.705017157224 |  0.191956312795 |\n",
       "| 0.461716676992 |  0.232833917145 |\n",
       "| 0.383260507851 |  0.259900980166 |\n",
       "| 1.06517691429  |  0.380145814869 |\n",
       "| 1.03184706949  |  0.432444723508 |\n",
       "+----------------+-----------------+\n",
       "[30 rows x 2 columns]\n",
       "Note: Only the head of the SFrame is printed.\n",
       "You can use print_rows(num_rows=m, num_columns=n) to print more rows and columns."
      ]
     },
     "execution_count": 22,
     "metadata": {},
     "output_type": "execute_result"
    }
   ],
   "source": [
    "data"
   ]
  },
  {
   "cell_type": "code",
   "execution_count": 23,
   "metadata": {
    "collapsed": true
   },
   "outputs": [],
   "source": [
    "def polynomial_features(data, deg):\n",
    "    data_copy=data.copy()\n",
    "    for i in range(1,deg):\n",
    "        data_copy['x'+str(i+1)]=data_copy['x'+str(i)]*data_copy['x1']\n",
    "    return data_copy    "
   ]
  },
  {
   "cell_type": "code",
   "execution_count": 24,
   "metadata": {
    "collapsed": false
   },
   "outputs": [],
   "source": [
    "def regressao_polinomial_cume(data, deg, l2_penalty):\n",
    "    model = graphlab.linear_regression.create(polynomial_features(data,deg), target='Y', l2_penalty=l2_penalty, validation_set=None,verbose=False)\n",
    "    return model"
   ]
  },
  {
   "cell_type": "code",
   "execution_count": 14,
   "metadata": {
    "collapsed": true
   },
   "outputs": [],
   "source": [
    "def print_coefficients(model):\n",
    "    deg = len(model.coefficients['value'])-1\n",
    "    w = list(model.coefficients['value'])\n",
    "    \n",
    "    print 'Coeficientes do polinômio de grau ' + str(deg) + ':'\n",
    "    w.reverse()\n",
    "    print numpy.poly1d(w)"
   ]
  },
  {
   "cell_type": "code",
   "execution_count": 25,
   "metadata": {
    "collapsed": false
   },
   "outputs": [],
   "source": [
    "def plot_data(data):\n",
    "    plt.plot(data['x1'],data['Y'], 'k.')\n",
    "    plt.xlabel('x')\n",
    "    plt.ylabel('y')\n",
    "    \n",
    " \n",
    "    "
   ]
  },
  {
   "cell_type": "code",
   "execution_count": 26,
   "metadata": {
    "collapsed": false
   },
   "outputs": [
    {
     "data": {
      "image/png": "[encoded data removed]",
      "text/plain": [
       "<matplotlib.figure.Figure at 0x7fc40f647bd0>"
      ]
     },
     "metadata": {},
     "output_type": "display_data"
    }
   ],
   "source": [
    "plot_data(data)"
   ]
  },
  {
   "cell_type": "code",
   "execution_count": 27,
   "metadata": {
    "collapsed": true
   },
   "outputs": [],
   "source": [
    "def plot_predicoes(data, model):\n",
    "    plot_data(data)\n",
    "    deg = len(model.coefficients['value'])-1\n",
    "    x_pred = graphlab.SFrame({'x1':[i/200.0 for i in range(200)]})\n",
    "    y_pred = model.predict(polynomial_features(x_pred,deg))\n",
    "    plt.plot(x_pred['x1'], y_pred, 'g-', label='degree ' + str(deg) + ' fit')\n",
    "    plt.legend(loc='upper left')\n",
    "    plt.axis([0,1,-1.5,2])"
   ]
  },
  {
   "cell_type": "code",
   "execution_count": 28,
   "metadata": {
    "collapsed": false
   },
   "outputs": [],
   "source": [
    "model = regressao_polinomial_cume(data, deg=16, l2_penalty=1e-25)"
   ]
  },
  {
   "cell_type": "code",
   "execution_count": 29,
   "metadata": {
    "collapsed": false
   },
   "outputs": [
    {
     "name": "stdout",
     "output_type": "stream",
     "text": [
      "Coeficientes do polinômio de grau 16:\n",
      "            16             15             14            13\n",
      "-4.537e+05 x  + 1.129e+06 x  + 4.821e+05 x  - 3.81e+06 x \n",
      "              12             11             10             9\n",
      " + 3.536e+06 x  + 5.753e+04 x  - 1.796e+06 x  + 2.178e+06 x\n",
      "              8             7            6             5             4\n",
      " - 3.662e+06 x + 4.442e+06 x - 3.13e+06 x + 1.317e+06 x - 3.356e+05 x\n",
      "             3        2\n",
      " + 5.06e+04 x - 4183 x + 160.8 x - 1.621\n"
     ]
    }
   ],
   "source": [
    "print_coefficients(model)"
   ]
  },
  {
   "cell_type": "code",
   "execution_count": 25,
   "metadata": {
    "collapsed": false
   },
   "outputs": [
    {
     "data": {
      "image/png": "[encoded data removed]",
      "text/plain": [
       "<matplotlib.figure.Figure at 0x7fdb244a6c50>"
      ]
     },
     "metadata": {},
     "output_type": "display_data"
    }
   ],
   "source": [
    "plot_predicoes(data,model)"
   ]
  },
  {
   "cell_type": "code",
   "execution_count": 30,
   "metadata": {
    "collapsed": true
   },
   "outputs": [],
   "source": [
    "model = regressao_polinomial_cume(data, deg=16, l2_penalty=100)"
   ]
  },
  {
   "cell_type": "code",
   "execution_count": 31,
   "metadata": {
    "collapsed": false
   },
   "outputs": [
    {
     "name": "stdout",
     "output_type": "stream",
     "text": [
      "Coeficientes do polinômio de grau 16:\n",
      "        16          15          14          13          12         11\n",
      "-0.301 x  - 0.2802 x  - 0.2604 x  - 0.2413 x  - 0.2229 x  - 0.205 x \n",
      "           10          9          8          7          6           5\n",
      " - 0.1874 x  - 0.1699 x - 0.1524 x - 0.1344 x - 0.1156 x - 0.09534 x\n",
      "            4           3           2\n",
      " - 0.07304 x - 0.04842 x - 0.02284 x - 0.002257 x + 0.6416\n"
     ]
    }
   ],
   "source": [
    "print_coefficients(model)"
   ]
  },
  {
   "cell_type": "code",
   "execution_count": 32,
   "metadata": {
    "collapsed": false
   },
   "outputs": [
    {
     "data": {
      "image/png": "[encoded data removed]",
      "text/plain": [
       "<matplotlib.figure.Figure at 0x7fc424052ad0>"
      ]
     },
     "metadata": {},
     "output_type": "display_data"
    }
   ],
   "source": [
    "plot_predicoes(data,model)"
   ]
  },
  {
   "cell_type": "code",
   "execution_count": 33,
   "metadata": {
    "collapsed": false
   },
   "outputs": [
    {
     "data": {
      "text/plain": [
       "\"for l2_penalty in [1e-25,1e-10,1e-6,1e-3,1e2]:\\n    model =  polynomial_ridge_regression(data,deg=16,l2_penalty=l2_penalty)\\n    print 'lambda = %.2e' % l2_penalty\\n    print_coefficients(model)\\n    print '\\n'\\n    plt.figure()\\n    plot_predicoes(data,model)\\n    plt.title('Ridge, lambda = %.2e' % l2_penalty)\\n\""
      ]
     },
     "execution_count": 33,
     "metadata": {},
     "output_type": "execute_result"
    }
   ],
   "source": [
    "'''for l2_penalty in [1e-25,1e-10,1e-6,1e-3,1e2]:\n",
    "    model =  polynomial_ridge_regression(data,deg=16,l2_penalty=l2_penalty)\n",
    "    print 'lambda = %.2e' % l2_penalty\n",
    "    print_coefficients(model)\n",
    "    print '\\n'\n",
    "    plt.figure()\n",
    "    plot_predicoes(data,model)\n",
    "    plt.title('Ridge, lambda = %.2e' % l2_penalty)\n",
    "'''    "
   ]
  },
  {
   "cell_type": "code",
   "execution_count": 58,
   "metadata": {
    "collapsed": true
   },
   "outputs": [],
   "source": [
    "import numpy"
   ]
  },
  {
   "cell_type": "code",
   "execution_count": 51,
   "metadata": {
    "collapsed": false
   },
   "outputs": [],
   "source": [
    "def loo(data, deg, l2_penalty_values):\n",
    "    data = polynomial_features(data, deg)\n",
    "    num_folds = len(data)\n",
    "    folds = graphlab.cross_validation.KFold(data,num_folds)\n",
    "    l2_penalty_mse = []\n",
    "    min_mse = None\n",
    "    best_l2_penalty = None\n",
    "    for l2_penalty in l2_penalty_values:\n",
    "        next_mse = 0.0\n",
    "        for train_set, validation_set in folds:\n",
    "            model = graphlab.linear_regression.create(train_set,target='Y',\n",
    "            l2_penalty=l2_penalty,\n",
    "            validation_set=None,verbose=False)\n",
    "            y_test_predicted = model.predict(validation_set)\n",
    "            next_mse += ((y_test_predicted-validation_set['Y'])**2).sum()\n",
    "            next_mse = next_mse/num_folds\n",
    "            l2_penalty_mse.append(next_mse)\n",
    "            if min_mse is None or next_mse < min_mse:\n",
    "                min_mse = next_mse\n",
    "                best_l2_penalty = l2_penalty\n",
    "                \n",
    "    return l2_penalty_mse,best_l2_penalty\n",
    "    l2_penalty_values = numpy.logspace(-4, 10, num=10)"
   ]
  },
  {
   "cell_type": "code",
   "execution_count": 52,
   "metadata": {
    "collapsed": true
   },
   "outputs": [],
   "source": [
    "l2_penalty_values = numpy.logspace(-4, 10, num=10)"
   ]
  },
  {
   "cell_type": "code",
   "execution_count": 53,
   "metadata": {
    "collapsed": true
   },
   "outputs": [],
   "source": [
    "l2_penalty_mse,best_l2_penalty = loo(data, 16, l2_penalty_values)"
   ]
  },
  {
   "cell_type": "code",
   "execution_count": 54,
   "metadata": {
    "collapsed": false
   },
   "outputs": [
    {
     "data": {
      "text/plain": [
       "array([  1.00000000e-04,   3.59381366e-03,   1.29154967e-01,\n",
       "         4.64158883e+00,   1.66810054e+02,   5.99484250e+03,\n",
       "         2.15443469e+05,   7.74263683e+06,   2.78255940e+08,\n",
       "         1.00000000e+10])"
      ]
     },
     "execution_count": 54,
     "metadata": {},
     "output_type": "execute_result"
    }
   ],
   "source": [
    "l2_penalty_values"
   ]
  },
  {
   "cell_type": "code",
   "execution_count": 55,
   "metadata": {
    "collapsed": false
   },
   "outputs": [
    {
     "data": {
      "text/plain": [
       "[0.0002107106871859755,\n",
       " 0.0011771162332358898,\n",
       " 0.0011533461089391283,\n",
       " 0.00035975576637570597,\n",
       " 0.001307902638693952,\n",
       " 0.0041728426325380276,\n",
       " 0.00018698687452632705,\n",
       " 0.0014539475580430323,\n",
       " 0.003285632477047267,\n",
       " 0.0009918941124564366,\n",
       " 0.0019843371030901853,\n",
       " 0.003653674348595894,\n",
       " 0.00012975764174172455,\n",
       " 4.135171202891383e-05,\n",
       " 0.014860264255923416,\n",
       " 0.0006868883116127176,\n",
       " 0.00010145988235679362,\n",
       " 0.01817853697394762,\n",
       " 0.0010485269119883374,\n",
       " 0.0023984812771699828,\n",
       " 0.0026432963121726673,\n",
       " 0.0011359265193536274,\n",
       " 0.0010342462905135541,\n",
       " 0.0051831938890512085,\n",
       " 0.00039345591788240877,\n",
       " 0.0033856875948223854,\n",
       " 0.00292906846579451,\n",
       " 0.0001257119769389948,\n",
       " 0.008996811328571578,\n",
       " 0.04551373161248606,\n",
       " 0.0012909840091036998,\n",
       " 0.0027566181199587666,\n",
       " 0.0010947093451738497,\n",
       " 0.0011375220159027249,\n",
       " 0.0025823761519404844,\n",
       " 0.0019965109438107673,\n",
       " 0.0004145889219990343,\n",
       " 0.0019353231377932832,\n",
       " 0.004067178907719666,\n",
       " 0.0017370736746756415,\n",
       " 0.002837278367741241,\n",
       " 0.002417973344886383,\n",
       " 0.00022476240708282973,\n",
       " 1.2478385987931733e-05,\n",
       " 0.013955397504293117,\n",
       " 0.0006121222852737051,\n",
       " 0.00021702463926577865,\n",
       " 0.01570793854954883,\n",
       " 0.0012668421833595168,\n",
       " 0.0030162781992942034,\n",
       " 0.0018709515405028688,\n",
       " 0.0013478154585631653,\n",
       " 0.001317505322896741,\n",
       " 0.003579635411800475,\n",
       " 0.00019829252980297108,\n",
       " 0.003531806371030135,\n",
       " 0.0019755262276952455,\n",
       " 6.777965117246206e-05,\n",
       " 0.009209157069613581,\n",
       " 0.020655897301235796,\n",
       " 0.0014049503947391878,\n",
       " 0.0026579709656643262,\n",
       " 0.0010879559731763221,\n",
       " 0.0019662852784163376,\n",
       " 0.003781066935315347,\n",
       " 0.0009184892346263309,\n",
       " 0.0009054050762721085,\n",
       " 0.0026374540923061094,\n",
       " 0.0038592124317985512,\n",
       " 0.0022096703810835228,\n",
       " 0.0037822579956246333,\n",
       " 0.0014507999610268436,\n",
       " 0.0005334645540744431,\n",
       " 0.0001864629044911556,\n",
       " 0.011086324914344255,\n",
       " 0.0007833411088856,\n",
       " 0.00011913007799841744,\n",
       " 0.015578525458088624,\n",
       " 0.0011868754855025613,\n",
       " 0.0030171422851491205,\n",
       " 0.0015930251906954673,\n",
       " 0.00199703211046097,\n",
       " 0.00042208232013320684,\n",
       " 0.004526365666746468,\n",
       " 0.00034075003467835726,\n",
       " 0.003491236140557891,\n",
       " 0.002469982157498105,\n",
       " 0.0001360995490262978,\n",
       " 0.007708841201135188,\n",
       " 0.003636598636399992,\n",
       " 5.4674088927343495e-05,\n",
       " 2.7332144396351147e-05,\n",
       " 0.004235154966701932,\n",
       " 0.00461034957225765,\n",
       " 0.006837536535201004,\n",
       " 0.00031831172031648896,\n",
       " 0.0016179487637274152,\n",
       " 0.0032445091665695195,\n",
       " 0.00514192688403993,\n",
       " 0.004127898034176925,\n",
       " 0.006856914949437488,\n",
       " 0.00036925921746207405,\n",
       " 0.002056729901208686,\n",
       " 0.0014738180653764766,\n",
       " 0.0056097997317081484,\n",
       " 0.0024129327513595874,\n",
       " 0.00033605720872362574,\n",
       " 0.020789395621302113,\n",
       " 0.0006972034656392928,\n",
       " 0.0010306615250285137,\n",
       " 0.003294725235900033,\n",
       " 0.001249228533765286,\n",
       " 9.889488487519805e-05,\n",
       " 0.008868061205259853,\n",
       " 0.0026187639556311116,\n",
       " 0.0004304838978653023,\n",
       " 0.0007889160126274149,\n",
       " 7.706250791454086e-05,\n",
       " 0.006971669379552939,\n",
       " 0.01232035077627083,\n",
       " 2.7198885320714813e-05,\n",
       " 4.4254472717199356e-05,\n",
       " 0.003435722656044249,\n",
       " 0.003453078820226697,\n",
       " 0.00526358292161431,\n",
       " 0.0004899647946922597,\n",
       " 0.0008308449433890321,\n",
       " 0.0019064315396012785,\n",
       " 0.007769984447825238,\n",
       " 0.007019913024605214,\n",
       " 0.010732592053831013,\n",
       " 0.00045119550135581477,\n",
       " 0.004416148279864409,\n",
       " 0.003628893062690847,\n",
       " 0.002707868659339939,\n",
       " 0.004850202992980526,\n",
       " 0.0015397040319424132,\n",
       " 0.026212228655895724,\n",
       " 0.0012061473421571358,\n",
       " 0.00017820401841480194,\n",
       " 0.005552019159129809,\n",
       " 0.0005732327738145096,\n",
       " 0.0003209709177812123,\n",
       " 0.010892701789195014,\n",
       " 0.005302509103457271,\n",
       " 0.00051273739838885,\n",
       " 0.00073203075835618,\n",
       " 0.003900935869969022,\n",
       " 0.019065962141524707,\n",
       " 0.0008515623574549695,\n",
       " 0.0005355398898434937,\n",
       " 0.001227981581540527,\n",
       " 0.0009191663777466416,\n",
       " 0.0008749063460716249,\n",
       " 0.0018707947258225458,\n",
       " 0.0021306845452203913,\n",
       " 7.12614973031646e-05,\n",
       " 0.00023653892855295827,\n",
       " 0.012927591278693305,\n",
       " 0.01197191207763712,\n",
       " 0.01647763655841086,\n",
       " 0.0017461613732124754,\n",
       " 0.008290231769270734,\n",
       " 0.007189905228474601,\n",
       " 0.0010207207085352885,\n",
       " 0.008173919222388904,\n",
       " 0.003443026350688506,\n",
       " 0.032312384469171056,\n",
       " 0.0023625578548932286,\n",
       " 0.00010089338419876574,\n",
       " 0.00816495313869549,\n",
       " 0.0003684526920272423,\n",
       " 0.0009637157182185089,\n",
       " 0.015812965383108907,\n",
       " 0.010974686960445236,\n",
       " 0.0046687177234798725,\n",
       " 0.012107664872899054,\n",
       " 0.022341967836987366,\n",
       " 0.05486373311951042,\n",
       " 0.022774151751329057,\n",
       " 0.0006406581106683892,\n",
       " 0.001386433008034278,\n",
       " 0.0007986803939357654,\n",
       " 0.0007488457792454047,\n",
       " 0.0016835594051109386,\n",
       " 0.00232123934581719,\n",
       " 8.006661196303719e-05,\n",
       " 0.00017630643529091599,\n",
       " 0.013374173594068279,\n",
       " 0.012398433343455065,\n",
       " 0.016959281338101644,\n",
       " 0.0018953441133786608,\n",
       " 0.008631102869134998,\n",
       " 0.007506003582969386,\n",
       " 0.000938401270694461,\n",
       " 0.008460337490438789,\n",
       " 0.0036159479003623598,\n",
       " 0.032796842918891046,\n",
       " 0.0024745840470085886,\n",
       " 0.0001176181498626264,\n",
       " 0.008381345490131375,\n",
       " 0.0003619983482153096,\n",
       " 0.0010296803614637956,\n",
       " 0.016241621664165505,\n",
       " 0.011503878377220608,\n",
       " 0.005178991618807903,\n",
       " 0.013558878831790529,\n",
       " 0.024395954933168863,\n",
       " 0.05839264049437045,\n",
       " 0.026547317996346666,\n",
       " 0.0006438647677286647,\n",
       " 0.0013911985587273187,\n",
       " 0.0007953179768789559,\n",
       " 0.0007453182197157835,\n",
       " 0.0016782491081212775,\n",
       " 0.0023269349003134984,\n",
       " 8.04640339515179e-05,\n",
       " 0.00017469056598667452,\n",
       " 0.01338731297968345,\n",
       " 0.012410979743748057,\n",
       " 0.01697342627930445,\n",
       " 0.0018998017266937766,\n",
       " 0.00864114407238527,\n",
       " 0.007515320235867901,\n",
       " 0.0009360932247721967,\n",
       " 0.00846876558654617,\n",
       " 0.00362105290866285,\n",
       " 0.03281102317683165,\n",
       " 0.00247790332522983,\n",
       " 0.00011815222749793518,\n",
       " 0.00838769814936993,\n",
       " 0.000361827516306312,\n",
       " 0.0010316411893020272,\n",
       " 0.016254233998815967,\n",
       " 0.01151952559959068,\n",
       " 0.0051943020074823,\n",
       " 0.013602492920392154,\n",
       " 0.024457293847958708,\n",
       " 0.05849733213337563,\n",
       " 0.026661885035823975,\n",
       " 0.0006439542286430683,\n",
       " 0.0013913314576452123,\n",
       " 0.0007952244132767517,\n",
       " 0.0007452200526836105,\n",
       " 0.0016781012700733263,\n",
       " 0.0023270937066846246,\n",
       " 8.047522132088778e-05,\n",
       " 0.00017464565745168477,\n",
       " 0.013387679173690397,\n",
       " 0.01241132940911258,\n",
       " 0.016973820477225614,\n",
       " 0.0018999260151059676,\n",
       " 0.008641423929962267,\n",
       " 0.007515579903734746,\n",
       " 0.0009360289912098302,\n",
       " 0.008469000478118523,\n",
       " 0.003621195198964189,\n",
       " 0.03281141832097205,\n",
       " 0.0024779958520765016,\n",
       " 0.00011816714597699213,\n",
       " 0.008387875186474306,\n",
       " 0.0003618227705329669,\n",
       " 0.0010316958536353395,\n",
       " 0.016254585504290812,\n",
       " 0.011519961749545135,\n",
       " 0.005194728947284103,\n",
       " 0.013603709183056704,\n",
       " 0.024459004092904215,\n",
       " 0.05850025058282185,\n",
       " 0.026665080876763083,\n",
       " 0.0006439567181276169,\n",
       " 0.0013913351558652496,\n",
       " 0.0007952218098121415,\n",
       " 0.0007452173211194303,\n",
       " 0.0016780971563329543,\n",
       " 0.002327098125817864,\n",
       " 8.047553271612552e-05,\n",
       " 0.00017464440788694593,\n",
       " 0.013387689363708512,\n",
       " 0.012411339139189296,\n",
       " 0.016973831446487696,\n",
       " 0.0018999294737009889,\n",
       " 0.008641431717518848,\n",
       " 0.007515587129478394,\n",
       " 0.000936027203864422,\n",
       " 0.008469007014406957,\n",
       " 0.0036211991584629514,\n",
       " 0.032811429316534906,\n",
       " 0.0024779984268197873,\n",
       " 0.00011816756113713071,\n",
       " 0.008387880112846925,\n",
       " 0.0003618226384850028,\n",
       " 0.0010316973747829363,\n",
       " 0.016254595285573926,\n",
       " 0.011519973886264034,\n",
       " 0.005194740827851164,\n",
       " 0.013603743028364063,\n",
       " 0.02445905168416619,\n",
       " 0.05850033179455812,\n",
       " 0.026665169809102843]"
      ]
     },
     "execution_count": 55,
     "metadata": {},
     "output_type": "execute_result"
    }
   ],
   "source": [
    "l2_penalty_mse"
   ]
  },
  {
   "cell_type": "code",
   "execution_count": 56,
   "metadata": {
    "collapsed": false
   },
   "outputs": [
    {
     "data": {
      "text/plain": [
       "0.0035938136638046258"
      ]
     },
     "execution_count": 56,
     "metadata": {},
     "output_type": "execute_result"
    }
   ],
   "source": [
    "best_l2_penalty"
   ]
  },
  {
   "cell_type": "code",
   "execution_count": 46,
   "metadata": {
    "collapsed": true
   },
   "outputs": [],
   "source": [
    "#Extrapolando para k = 5\n",
    "def loo(data, deg, l2_penalty_values):\n",
    "    data = polynomial_features(data, deg)\n",
    "    num_folds = 5\n",
    "    folds = graphlab.cross_validation.KFold(data,num_folds)\n",
    "    l2_penalty_mse = []\n",
    "    min_mse = None\n",
    "    best_l2_penalty = None\n",
    "    for l2_penalty in l2_penalty_values:\n",
    "        next_mse = 0.0\n",
    "        for train_set, validation_set in folds:\n",
    "            model = graphlab.linear_regression.create(train_set,target='Y',\n",
    "            l2_penalty=l2_penalty,\n",
    "            validation_set=None,verbose=False)\n",
    "            y_test_predicted = model.predict(validation_set)\n",
    "            next_mse += ((y_test_predicted-validation_set['Y'])**2).sum()\n",
    "            next_mse = next_mse/num_folds\n",
    "            l2_penalty_mse.append(next_mse)\n",
    "            if min_mse is None or next_mse < min_mse:\n",
    "                min_mse = next_mse\n",
    "                best_l2_penalty = l2_penalty\n",
    "                \n",
    "    return l2_penalty_mse,best_l2_penalty\n",
    "    l2_penalty_values = numpy.logspace(-4, 10, num=10)"
   ]
  },
  {
   "cell_type": "code",
   "execution_count": 47,
   "metadata": {
    "collapsed": true
   },
   "outputs": [],
   "source": [
    "l2_penalty_values = numpy.logspace(-4, 10, num=10)"
   ]
  },
  {
   "cell_type": "code",
   "execution_count": 48,
   "metadata": {
    "collapsed": true
   },
   "outputs": [],
   "source": [
    "l2_penalty_mse,best_l2_penalty = loo(data, 16, l2_penalty_values)"
   ]
  },
  {
   "cell_type": "code",
   "execution_count": 49,
   "metadata": {
    "collapsed": false
   },
   "outputs": [
    {
     "data": {
      "text/plain": [
       "array([  1.00000000e-04,   3.59381366e-03,   1.29154967e-01,\n",
       "         4.64158883e+00,   1.66810054e+02,   5.99484250e+03,\n",
       "         2.15443469e+05,   7.74263683e+06,   2.78255940e+08,\n",
       "         1.00000000e+10])"
      ]
     },
     "execution_count": 49,
     "metadata": {},
     "output_type": "execute_result"
    }
   ],
   "source": [
    "l2_penalty_values"
   ]
  },
  {
   "cell_type": "code",
   "execution_count": 50,
   "metadata": {
    "collapsed": false
   },
   "outputs": [
    {
     "data": {
      "text/plain": [
       "[1.227205772510418,\n",
       " 0.3127818511085101,\n",
       " 0.23070585944603028,\n",
       " 0.1860342250857218,\n",
       " 32.04003986377262,\n",
       " 0.2600660869581271,\n",
       " 0.13069749255519408,\n",
       " 0.1758413985724876,\n",
       " 0.15945220693814716,\n",
       " 52.26076305095279,\n",
       " 0.054910058153691675,\n",
       " 0.0942307413658458,\n",
       " 0.16732743439627665,\n",
       " 0.14963925079819457,\n",
       " 0.5342149315953596,\n",
       " 0.19826034057461142,\n",
       " 0.16469202796212085,\n",
       " 0.25433314751562935,\n",
       " 0.15397489386752466,\n",
       " 6.312911201024924,\n",
       " 0.08253015263320754,\n",
       " 0.20771654801850006,\n",
       " 0.3636895621212383,\n",
       " 0.1751922209251488,\n",
       " 0.3659577467656653,\n",
       " 0.04132579110109584,\n",
       " 0.3174123580343692,\n",
       " 0.5171991572882375,\n",
       " 0.25216232804594496,\n",
       " 1.0020509936150133,\n",
       " 0.041629242910204325,\n",
       " 0.32691066160965976,\n",
       " 0.5289256086695285,\n",
       " 0.2583493294049034,\n",
       " 1.1795400765327821,\n",
       " 0.04164305680921748,\n",
       " 0.3271889502951226,\n",
       " 0.5292672698201456,\n",
       " 0.2585301716285132,\n",
       " 1.1849189559473172,\n",
       " 0.04164344563370882,\n",
       " 0.32719670519388866,\n",
       " 0.5292767891793121,\n",
       " 0.2585352107203399,\n",
       " 1.1850689886233303,\n",
       " 0.041643456456429445,\n",
       " 0.32719692098736197,\n",
       " 0.529277054070786,\n",
       " 0.25853535094153446,\n",
       " 1.1850731636527239]"
      ]
     },
     "execution_count": 50,
     "metadata": {},
     "output_type": "execute_result"
    }
   ],
   "source": [
    "l2_penalty_mse"
   ]
  },
  {
   "cell_type": "code",
   "execution_count": 43,
   "metadata": {
    "collapsed": false
   },
   "outputs": [
    {
     "data": {
      "text/plain": [
       "0.0035938136638046258"
      ]
     },
     "execution_count": 43,
     "metadata": {},
     "output_type": "execute_result"
    }
   ],
   "source": [
    "best_l2_penalty"
   ]
  },
  {
   "cell_type": "code",
   "execution_count": 59,
   "metadata": {
    "collapsed": true
   },
   "outputs": [],
   "source": [
    "#Extrapolando para k = \n",
    "def loo(data, deg, l2_penalty_values):\n",
    "    data = polynomial_features(data, deg)\n",
    "    num_folds = 5\n",
    "    folds = graphlab.cross_validation.KFold(data,num_folds)\n",
    "    l2_penalty_mse = []\n",
    "    min_mse = None\n",
    "    best_l2_penalty = None\n",
    "    for l2_penalty in l2_penalty_values:\n",
    "        next_mse = 0.0\n",
    "        for train_set, validation_set in folds:\n",
    "            model = graphlab.linear_regression.create(train_set,target='Y',\n",
    "            l2_penalty=l2_penalty,\n",
    "            validation_set=None,verbose=False)\n",
    "            y_test_predicted = model.predict(validation_set)\n",
    "            next_mse += ((y_test_predicted-validation_set['Y'])**2).sum()\n",
    "            next_mse = next_mse/num_folds\n",
    "            l2_penalty_mse.append(next_mse)\n",
    "            if min_mse is None or next_mse < min_mse:\n",
    "                min_mse = next_mse\n",
    "                best_l2_penalty = l2_penalty\n",
    "                \n",
    "    return l2_penalty_mse,best_l2_penalty\n",
    "    l2_penalty_values = numpy.logspace(-4, 10, num=10)"
   ]
  },
  {
   "cell_type": "code",
   "execution_count": 60,
   "metadata": {
    "collapsed": true
   },
   "outputs": [],
   "source": [
    "l2_penalty_values = numpy.logspace(-4, 10, num=10)"
   ]
  },
  {
   "cell_type": "code",
   "execution_count": 61,
   "metadata": {
    "collapsed": true
   },
   "outputs": [],
   "source": [
    "l2_penalty_mse,best_l2_penalty = loo(data, 16, l2_penalty_values)"
   ]
  },
  {
   "cell_type": "code",
   "execution_count": 62,
   "metadata": {
    "collapsed": false
   },
   "outputs": [
    {
     "data": {
      "text/plain": [
       "array([  1.00000000e-04,   3.59381366e-03,   1.29154967e-01,\n",
       "         4.64158883e+00,   1.66810054e+02,   5.99484250e+03,\n",
       "         2.15443469e+05,   7.74263683e+06,   2.78255940e+08,\n",
       "         1.00000000e+10])"
      ]
     },
     "execution_count": 62,
     "metadata": {},
     "output_type": "execute_result"
    }
   ],
   "source": [
    "l2_penalty_values"
   ]
  },
  {
   "cell_type": "code",
   "execution_count": 63,
   "metadata": {
    "collapsed": false
   },
   "outputs": [
    {
     "data": {
      "text/plain": [
       "[1.227205772510418,\n",
       " 0.3127818511085101,\n",
       " 0.23070585944603028,\n",
       " 0.1860342250857218,\n",
       " 32.04003986377262,\n",
       " 0.2600660869581271,\n",
       " 0.13069749255519408,\n",
       " 0.1758413985724876,\n",
       " 0.15945220693814716,\n",
       " 52.26076305095279,\n",
       " 0.054910058153691675,\n",
       " 0.0942307413658458,\n",
       " 0.16732743439627665,\n",
       " 0.14963925079819457,\n",
       " 0.5342149315953596,\n",
       " 0.19826034057461142,\n",
       " 0.16469202796212085,\n",
       " 0.25433314751562935,\n",
       " 0.15397489386752466,\n",
       " 6.312911201024924,\n",
       " 0.08253015263320754,\n",
       " 0.20771654801850006,\n",
       " 0.3636895621212383,\n",
       " 0.1751922209251488,\n",
       " 0.3659577467656653,\n",
       " 0.04132579110109584,\n",
       " 0.3174123580343692,\n",
       " 0.5171991572882375,\n",
       " 0.25216232804594496,\n",
       " 1.0020509936150133,\n",
       " 0.041629242910204325,\n",
       " 0.32691066160965976,\n",
       " 0.5289256086695285,\n",
       " 0.2583493294049034,\n",
       " 1.1795400765327821,\n",
       " 0.04164305680921748,\n",
       " 0.3271889502951226,\n",
       " 0.5292672698201456,\n",
       " 0.2585301716285132,\n",
       " 1.1849189559473172,\n",
       " 0.04164344563370882,\n",
       " 0.32719670519388866,\n",
       " 0.5292767891793121,\n",
       " 0.2585352107203399,\n",
       " 1.1850689886233303,\n",
       " 0.041643456456429445,\n",
       " 0.32719692098736197,\n",
       " 0.529277054070786,\n",
       " 0.25853535094153446,\n",
       " 1.1850731636527239]"
      ]
     },
     "execution_count": 63,
     "metadata": {},
     "output_type": "execute_result"
    }
   ],
   "source": [
    "l2_penalty_mse"
   ]
  },
  {
   "cell_type": "code",
   "execution_count": 64,
   "metadata": {
    "collapsed": false
   },
   "outputs": [
    {
     "data": {
      "text/plain": [
       "5994.8425031894085"
      ]
     },
     "execution_count": 64,
     "metadata": {},
     "output_type": "execute_result"
    }
   ],
   "source": [
    "best_l2_penalty"
   ]
  },
  {
   "cell_type": "code",
   "execution_count": null,
   "metadata": {
    "collapsed": true
   },
   "outputs": [],
   "source": []
  }
 ],
 "metadata": {
  "kernelspec": {
   "display_name": "Python 2",
   "language": "python",
   "name": "python2"
  },
  "language_info": {
   "codemirror_mode": {
    "name": "ipython",
    "version": 2
   },
   "file_extension": ".py",
   "mimetype": "text/x-python",
   "name": "python",
   "nbconvert_exporter": "python",
   "pygments_lexer": "ipython2",
   "version": "2.7.13"
  }
 },
 "nbformat": 4,
 "nbformat_minor": 0
}
