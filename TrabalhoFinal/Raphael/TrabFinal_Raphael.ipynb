{
 "cells": [
  {
   "cell_type": "code",
   "execution_count": 31,
   "metadata": {
    "collapsed": false,
    "scrolled": true
   },
   "outputs": [
    {
     "data": {
      "text/html": [
       "<pre>Finished parsing file R:\\CSI\\Dcpl\\S.Int\\Ambiente\\dicionario.gl\\train.csv</pre>"
      ],
      "text/plain": [
       "Finished parsing file R:\\CSI\\Dcpl\\S.Int\\Ambiente\\dicionario.gl\\train.csv"
      ]
     },
     "metadata": {},
     "output_type": "display_data"
    },
    {
     "data": {
      "text/html": [
       "<pre>Parsing completed. Parsed 100 lines in 1.00463 secs.</pre>"
      ],
      "text/plain": [
       "Parsing completed. Parsed 100 lines in 1.00463 secs."
      ]
     },
     "metadata": {},
     "output_type": "display_data"
    },
    {
     "name": "stdout",
     "output_type": "stream",
     "text": [
      "------------------------------------------------------\n",
      "Inferred types from first 100 line(s) of file as \n",
      "column_type_hints=[long,str,long,long,str,long,str,long,str,long,long,long,long,str,long,str,long,long,long,long,long,long,long,str,long,str,long,long,long,long,long,long,long,long,long,long,long,long,long,long,long,long,long,long,long,long,long,long,long,long,long,long,long,long,long,long,long,long,long,long,long,long,long,long,long,long,long,long,long,long,long,long,long,long,long,long,long,long,long,long,long,long,str,long,str,long,str,long,str,long,long,long,long,str,str,str,str,float,float,float,float,str,str,str,str,long,str,str,str,str,long,long,long,long,long,long,long,str,str,str,str,long,str,str,str,str,str,str,str,str,str,str,str,str,str,str,str,str,str,str,str,str,str,str,str,long,long,long,long,long,long,long,long,long,long,long,long,long,str,str,str,str,str,str,str,str,str]\n",
      "If parsing fails due to incorrect types, you can correct\n",
      "the inferred type list above and pass it to read_csv in\n",
      "the column_type_hints argument\n",
      "------------------------------------------------------\n"
     ]
    },
    {
     "data": {
      "text/html": [
       "<pre>Finished parsing file R:\\CSI\\Dcpl\\S.Int\\Ambiente\\dicionario.gl\\train.csv</pre>"
      ],
      "text/plain": [
       "Finished parsing file R:\\CSI\\Dcpl\\S.Int\\Ambiente\\dicionario.gl\\train.csv"
      ]
     },
     "metadata": {},
     "output_type": "display_data"
    },
    {
     "data": {
      "text/html": [
       "<pre>Parsing completed. Parsed 13686 lines in 0.548428 secs.</pre>"
      ],
      "text/plain": [
       "Parsing completed. Parsed 13686 lines in 0.548428 secs."
      ]
     },
     "metadata": {},
     "output_type": "display_data"
    }
   ],
   "source": [
    "import graphlab\n",
    "enem = graphlab.SFrame('dicionario.gl/train.csv')#em caso de teste, mude o diretorio do csv"
   ]
  },
  {
   "cell_type": "code",
   "execution_count": 32,
   "metadata": {
    "collapsed": false
   },
   "outputs": [
    {
     "name": "stdout",
     "output_type": "stream",
     "text": [
      "+------------+------------+------------+------------+-----------------+\n",
      "| NU_NOTA_CN | NU_NOTA_CH | NU_NOTA_LC | NU_NOTA_MT | NU_NOTA_REDACAO |\n",
      "+------------+------------+------------+------------+-----------------+\n",
      "|   541.1    |   598.3    |   609.9    |   669.2    |       580       |\n",
      "|   549.5    |   648.9    |   622.9    |   404.7    |       720       |\n",
      "|   417.5    |   511.0    |   492.4    |   467.1    |       500       |\n",
      "|   433.3    |   384.0    |   397.1    |   519.9    |       420       |\n",
      "|    None    |    None    |    None    |    None    |       None      |\n",
      "+------------+------------+------------+------------+-----------------+\n",
      "[13686 rows x 5 columns]\n",
      "\n"
     ]
    }
   ],
   "source": [
    "#criando Sframe que vai armazenar as notas\n",
    "notas = graphlab.SFrame(enem['NU_NOTA_CN','NU_NOTA_CH','NU_NOTA_LC','NU_NOTA_MT','NU_NOTA_REDACAO'])\n",
    "notas.print_rows(5)"
   ]
  },
  {
   "cell_type": "code",
   "execution_count": 33,
   "metadata": {
    "collapsed": false
   },
   "outputs": [
    {
     "name": "stdout",
     "output_type": "stream",
     "text": [
      "[2, 1, 3, 1, 2]\n"
     ]
    }
   ],
   "source": [
    "#gerando pesos aleatorios\n",
    "import random\n",
    "pesosRand = []\n",
    "for _ in range(5):\n",
    "    pesosRand.append(random.randint(1,5))\n",
    "    \n",
    "print pesosRand"
   ]
  },
  {
   "cell_type": "code",
   "execution_count": 34,
   "metadata": {
    "collapsed": false
   },
   "outputs": [],
   "source": [
    "#adicao da coluna de media ponderada\n",
    "notas['MEDIA_PONDERADA'] = ((notas['NU_NOTA_CN'] * pesosRand[0]) + \n",
    "                                (notas['NU_NOTA_CH'] * pesosRand[1]) + \n",
    "                                (notas['NU_NOTA_LC'] * pesosRand[2]) + \n",
    "                                (notas['NU_NOTA_MT'] * pesosRand[3]) + \n",
    "                                (notas['NU_NOTA_REDACAO'] * pesosRand[4]))/sum(pesosRand)"
   ]
  },
  {
   "cell_type": "code",
   "execution_count": 35,
   "metadata": {
    "collapsed": false
   },
   "outputs": [
    {
     "name": "stdout",
     "output_type": "stream",
     "text": [
      "+------------+------------+------------+------------+-----------------+\n",
      "| NU_NOTA_CN | NU_NOTA_CH | NU_NOTA_LC | NU_NOTA_MT | NU_NOTA_REDACAO |\n",
      "+------------+------------+------------+------------+-----------------+\n",
      "|   541.1    |   598.3    |   609.9    |   669.2    |       580       |\n",
      "|   549.5    |   648.9    |   622.9    |   404.7    |       720       |\n",
      "|   417.5    |   511.0    |   492.4    |   467.1    |       500       |\n",
      "|   433.3    |   384.0    |   397.1    |   519.9    |       420       |\n",
      "|    None    |    None    |    None    |    None    |       None      |\n",
      "+------------+------------+------------+------------+-----------------+\n",
      "+-----------------+\n",
      "| MEDIA_PONDERADA |\n",
      "+-----------------+\n",
      "|  593.266666667  |\n",
      "|  606.811111111  |\n",
      "|      476.7      |\n",
      "|  422.422222222  |\n",
      "|       None      |\n",
      "+-----------------+\n",
      "[13686 rows x 6 columns]\n",
      "\n"
     ]
    }
   ],
   "source": [
    "notas.print_rows(5)"
   ]
  },
  {
   "cell_type": "code",
   "execution_count": 36,
   "metadata": {
    "collapsed": false
   },
   "outputs": [
    {
     "data": {
      "text/html": [
       "<div style=\"max-height:1000px;max-width:1500px;overflow:auto;\"><table frame=\"box\" rules=\"cols\">\n",
       "    <tr>\n",
       "        <th style=\"padding-left: 1em; padding-right: 1em; text-align: center\">NU_NOTA_CN</th>\n",
       "        <th style=\"padding-left: 1em; padding-right: 1em; text-align: center\">NU_NOTA_CH</th>\n",
       "        <th style=\"padding-left: 1em; padding-right: 1em; text-align: center\">NU_NOTA_LC</th>\n",
       "        <th style=\"padding-left: 1em; padding-right: 1em; text-align: center\">NU_NOTA_MT</th>\n",
       "        <th style=\"padding-left: 1em; padding-right: 1em; text-align: center\">NU_NOTA_REDACAO</th>\n",
       "        <th style=\"padding-left: 1em; padding-right: 1em; text-align: center\">MEDIA_PONDERADA</th>\n",
       "    </tr>\n",
       "    <tr>\n",
       "        <td style=\"padding-left: 1em; padding-right: 1em; text-align: center; vertical-align: top\">744.5</td>\n",
       "        <td style=\"padding-left: 1em; padding-right: 1em; text-align: center; vertical-align: top\">827.2</td>\n",
       "        <td style=\"padding-left: 1em; padding-right: 1em; text-align: center; vertical-align: top\">684.1</td>\n",
       "        <td style=\"padding-left: 1em; padding-right: 1em; text-align: center; vertical-align: top\">942.5</td>\n",
       "        <td style=\"padding-left: 1em; padding-right: 1em; text-align: center; vertical-align: top\">940</td>\n",
       "        <td style=\"padding-left: 1em; padding-right: 1em; text-align: center; vertical-align: top\">799.0</td>\n",
       "    </tr>\n",
       "    <tr>\n",
       "        <td style=\"padding-left: 1em; padding-right: 1em; text-align: center; vertical-align: top\">797.3</td>\n",
       "        <td style=\"padding-left: 1em; padding-right: 1em; text-align: center; vertical-align: top\">798.1</td>\n",
       "        <td style=\"padding-left: 1em; padding-right: 1em; text-align: center; vertical-align: top\">674.1</td>\n",
       "        <td style=\"padding-left: 1em; padding-right: 1em; text-align: center; vertical-align: top\">855.1</td>\n",
       "        <td style=\"padding-left: 1em; padding-right: 1em; text-align: center; vertical-align: top\">960</td>\n",
       "        <td style=\"padding-left: 1em; padding-right: 1em; text-align: center; vertical-align: top\">798.9</td>\n",
       "    </tr>\n",
       "    <tr>\n",
       "        <td style=\"padding-left: 1em; padding-right: 1em; text-align: center; vertical-align: top\">764.8</td>\n",
       "        <td style=\"padding-left: 1em; padding-right: 1em; text-align: center; vertical-align: top\">746.8</td>\n",
       "        <td style=\"padding-left: 1em; padding-right: 1em; text-align: center; vertical-align: top\">686.1</td>\n",
       "        <td style=\"padding-left: 1em; padding-right: 1em; text-align: center; vertical-align: top\">881.9</td>\n",
       "        <td style=\"padding-left: 1em; padding-right: 1em; text-align: center; vertical-align: top\">940</td>\n",
       "        <td style=\"padding-left: 1em; padding-right: 1em; text-align: center; vertical-align: top\">788.511111111</td>\n",
       "    </tr>\n",
       "    <tr>\n",
       "        <td style=\"padding-left: 1em; padding-right: 1em; text-align: center; vertical-align: top\">773.8</td>\n",
       "        <td style=\"padding-left: 1em; padding-right: 1em; text-align: center; vertical-align: top\">752.1</td>\n",
       "        <td style=\"padding-left: 1em; padding-right: 1em; text-align: center; vertical-align: top\">681.9</td>\n",
       "        <td style=\"padding-left: 1em; padding-right: 1em; text-align: center; vertical-align: top\">907.0</td>\n",
       "        <td style=\"padding-left: 1em; padding-right: 1em; text-align: center; vertical-align: top\">920</td>\n",
       "        <td style=\"padding-left: 1em; padding-right: 1em; text-align: center; vertical-align: top\">788.044444444</td>\n",
       "    </tr>\n",
       "    <tr>\n",
       "        <td style=\"padding-left: 1em; padding-right: 1em; text-align: center; vertical-align: top\">720.0</td>\n",
       "        <td style=\"padding-left: 1em; padding-right: 1em; text-align: center; vertical-align: top\">710.8</td>\n",
       "        <td style=\"padding-left: 1em; padding-right: 1em; text-align: center; vertical-align: top\">649.2</td>\n",
       "        <td style=\"padding-left: 1em; padding-right: 1em; text-align: center; vertical-align: top\">918.6</td>\n",
       "        <td style=\"padding-left: 1em; padding-right: 1em; text-align: center; vertical-align: top\">980</td>\n",
       "        <td style=\"padding-left: 1em; padding-right: 1em; text-align: center; vertical-align: top\">775.222222222</td>\n",
       "    </tr>\n",
       "    <tr>\n",
       "        <td style=\"padding-left: 1em; padding-right: 1em; text-align: center; vertical-align: top\">672.6</td>\n",
       "        <td style=\"padding-left: 1em; padding-right: 1em; text-align: center; vertical-align: top\">759.2</td>\n",
       "        <td style=\"padding-left: 1em; padding-right: 1em; text-align: center; vertical-align: top\">708.8</td>\n",
       "        <td style=\"padding-left: 1em; padding-right: 1em; text-align: center; vertical-align: top\">765.5</td>\n",
       "        <td style=\"padding-left: 1em; padding-right: 1em; text-align: center; vertical-align: top\">960</td>\n",
       "        <td style=\"padding-left: 1em; padding-right: 1em; text-align: center; vertical-align: top\">768.477777778</td>\n",
       "    </tr>\n",
       "    <tr>\n",
       "        <td style=\"padding-left: 1em; padding-right: 1em; text-align: center; vertical-align: top\">762.5</td>\n",
       "        <td style=\"padding-left: 1em; padding-right: 1em; text-align: center; vertical-align: top\">718.9</td>\n",
       "        <td style=\"padding-left: 1em; padding-right: 1em; text-align: center; vertical-align: top\">666.9</td>\n",
       "        <td style=\"padding-left: 1em; padding-right: 1em; text-align: center; vertical-align: top\">942.5</td>\n",
       "        <td style=\"padding-left: 1em; padding-right: 1em; text-align: center; vertical-align: top\">860</td>\n",
       "        <td style=\"padding-left: 1em; padding-right: 1em; text-align: center; vertical-align: top\">767.455555556</td>\n",
       "    </tr>\n",
       "    <tr>\n",
       "        <td style=\"padding-left: 1em; padding-right: 1em; text-align: center; vertical-align: top\">738.0</td>\n",
       "        <td style=\"padding-left: 1em; padding-right: 1em; text-align: center; vertical-align: top\">740.2</td>\n",
       "        <td style=\"padding-left: 1em; padding-right: 1em; text-align: center; vertical-align: top\">637.2</td>\n",
       "        <td style=\"padding-left: 1em; padding-right: 1em; text-align: center; vertical-align: top\">850.7</td>\n",
       "        <td style=\"padding-left: 1em; padding-right: 1em; text-align: center; vertical-align: top\">960</td>\n",
       "        <td style=\"padding-left: 1em; padding-right: 1em; text-align: center; vertical-align: top\">766.5</td>\n",
       "    </tr>\n",
       "    <tr>\n",
       "        <td style=\"padding-left: 1em; padding-right: 1em; text-align: center; vertical-align: top\">740.3</td>\n",
       "        <td style=\"padding-left: 1em; padding-right: 1em; text-align: center; vertical-align: top\">764.0</td>\n",
       "        <td style=\"padding-left: 1em; padding-right: 1em; text-align: center; vertical-align: top\">681.6</td>\n",
       "        <td style=\"padding-left: 1em; padding-right: 1em; text-align: center; vertical-align: top\">682.6</td>\n",
       "        <td style=\"padding-left: 1em; padding-right: 1em; text-align: center; vertical-align: top\">960</td>\n",
       "        <td style=\"padding-left: 1em; padding-right: 1em; text-align: center; vertical-align: top\">765.777777778</td>\n",
       "    </tr>\n",
       "    <tr>\n",
       "        <td style=\"padding-left: 1em; padding-right: 1em; text-align: center; vertical-align: top\">761.7</td>\n",
       "        <td style=\"padding-left: 1em; padding-right: 1em; text-align: center; vertical-align: top\">706.7</td>\n",
       "        <td style=\"padding-left: 1em; padding-right: 1em; text-align: center; vertical-align: top\">616.8</td>\n",
       "        <td style=\"padding-left: 1em; padding-right: 1em; text-align: center; vertical-align: top\">927.4</td>\n",
       "        <td style=\"padding-left: 1em; padding-right: 1em; text-align: center; vertical-align: top\">940</td>\n",
       "        <td style=\"padding-left: 1em; padding-right: 1em; text-align: center; vertical-align: top\">765.322222222</td>\n",
       "    </tr>\n",
       "</table>\n",
       "[15 rows x 6 columns]<br/>Note: Only the head of the SFrame is printed.<br/>You can use print_rows(num_rows=m, num_columns=n) to print more rows and columns.\n",
       "</div>"
      ],
      "text/plain": [
       "Columns:\n",
       "\tNU_NOTA_CN\tfloat\n",
       "\tNU_NOTA_CH\tfloat\n",
       "\tNU_NOTA_LC\tfloat\n",
       "\tNU_NOTA_MT\tfloat\n",
       "\tNU_NOTA_REDACAO\tint\n",
       "\tMEDIA_PONDERADA\tfloat\n",
       "\n",
       "Rows: 15\n",
       "\n",
       "Data:\n",
       "+------------+------------+------------+------------+-----------------+\n",
       "| NU_NOTA_CN | NU_NOTA_CH | NU_NOTA_LC | NU_NOTA_MT | NU_NOTA_REDACAO |\n",
       "+------------+------------+------------+------------+-----------------+\n",
       "|   744.5    |   827.2    |   684.1    |   942.5    |       940       |\n",
       "|   797.3    |   798.1    |   674.1    |   855.1    |       960       |\n",
       "|   764.8    |   746.8    |   686.1    |   881.9    |       940       |\n",
       "|   773.8    |   752.1    |   681.9    |   907.0    |       920       |\n",
       "|   720.0    |   710.8    |   649.2    |   918.6    |       980       |\n",
       "|   672.6    |   759.2    |   708.8    |   765.5    |       960       |\n",
       "|   762.5    |   718.9    |   666.9    |   942.5    |       860       |\n",
       "|   738.0    |   740.2    |   637.2    |   850.7    |       960       |\n",
       "|   740.3    |   764.0    |   681.6    |   682.6    |       960       |\n",
       "|   761.7    |   706.7    |   616.8    |   927.4    |       940       |\n",
       "+------------+------------+------------+------------+-----------------+\n",
       "+-----------------+\n",
       "| MEDIA_PONDERADA |\n",
       "+-----------------+\n",
       "|      799.0      |\n",
       "|      798.9      |\n",
       "|  788.511111111  |\n",
       "|  788.044444444  |\n",
       "|  775.222222222  |\n",
       "|  768.477777778  |\n",
       "|  767.455555556  |\n",
       "|      766.5      |\n",
       "|  765.777777778  |\n",
       "|  765.322222222  |\n",
       "+-----------------+\n",
       "[15 rows x 6 columns]\n",
       "Note: Only the head of the SFrame is printed.\n",
       "You can use print_rows(num_rows=m, num_columns=n) to print more rows and columns."
      ]
     },
     "execution_count": 36,
     "metadata": {},
     "output_type": "execute_result"
    }
   ],
   "source": [
    "_15melhores = notas.topk('MEDIA_PONDERADA',15)\n",
    "_15melhores"
   ]
  },
  {
   "cell_type": "code",
   "execution_count": 37,
   "metadata": {
    "collapsed": false
   },
   "outputs": [
    {
     "data": {
      "text/html": [
       "<div style=\"max-height:1000px;max-width:1500px;overflow:auto;\"><table frame=\"box\" rules=\"cols\">\n",
       "    <tr>\n",
       "        <th style=\"padding-left: 1em; padding-right: 1em; text-align: center\">NU_NOTA_CN</th>\n",
       "        <th style=\"padding-left: 1em; padding-right: 1em; text-align: center\">NU_NOTA_CH</th>\n",
       "        <th style=\"padding-left: 1em; padding-right: 1em; text-align: center\">NU_NOTA_LC</th>\n",
       "        <th style=\"padding-left: 1em; padding-right: 1em; text-align: center\">NU_NOTA_MT</th>\n",
       "        <th style=\"padding-left: 1em; padding-right: 1em; text-align: center\">NU_NOTA_REDACAO</th>\n",
       "        <th style=\"padding-left: 1em; padding-right: 1em; text-align: center\">MEDIA_PONDERADA</th>\n",
       "    </tr>\n",
       "    <tr>\n",
       "        <td style=\"padding-left: 1em; padding-right: 1em; text-align: center; vertical-align: top\">393.6</td>\n",
       "        <td style=\"padding-left: 1em; padding-right: 1em; text-align: center; vertical-align: top\">497.4</td>\n",
       "        <td style=\"padding-left: 1em; padding-right: 1em; text-align: center; vertical-align: top\">0.0</td>\n",
       "        <td style=\"padding-left: 1em; padding-right: 1em; text-align: center; vertical-align: top\">0.0</td>\n",
       "        <td style=\"padding-left: 1em; padding-right: 1em; text-align: center; vertical-align: top\">0</td>\n",
       "        <td style=\"padding-left: 1em; padding-right: 1em; text-align: center; vertical-align: top\">142.733333333</td>\n",
       "    </tr>\n",
       "    <tr>\n",
       "        <td style=\"padding-left: 1em; padding-right: 1em; text-align: center; vertical-align: top\">434.3</td>\n",
       "        <td style=\"padding-left: 1em; padding-right: 1em; text-align: center; vertical-align: top\">403.7</td>\n",
       "        <td style=\"padding-left: 1em; padding-right: 1em; text-align: center; vertical-align: top\">0.0</td>\n",
       "        <td style=\"padding-left: 1em; padding-right: 1em; text-align: center; vertical-align: top\">0.0</td>\n",
       "        <td style=\"padding-left: 1em; padding-right: 1em; text-align: center; vertical-align: top\">300</td>\n",
       "        <td style=\"padding-left: 1em; padding-right: 1em; text-align: center; vertical-align: top\">208.033333333</td>\n",
       "    </tr>\n",
       "    <tr>\n",
       "        <td style=\"padding-left: 1em; padding-right: 1em; text-align: center; vertical-align: top\">418.3</td>\n",
       "        <td style=\"padding-left: 1em; padding-right: 1em; text-align: center; vertical-align: top\">461.9</td>\n",
       "        <td style=\"padding-left: 1em; padding-right: 1em; text-align: center; vertical-align: top\">0.0</td>\n",
       "        <td style=\"padding-left: 1em; padding-right: 1em; text-align: center; vertical-align: top\">0.0</td>\n",
       "        <td style=\"padding-left: 1em; padding-right: 1em; text-align: center; vertical-align: top\">300</td>\n",
       "        <td style=\"padding-left: 1em; padding-right: 1em; text-align: center; vertical-align: top\">210.944444444</td>\n",
       "    </tr>\n",
       "    <tr>\n",
       "        <td style=\"padding-left: 1em; padding-right: 1em; text-align: center; vertical-align: top\">369.5</td>\n",
       "        <td style=\"padding-left: 1em; padding-right: 1em; text-align: center; vertical-align: top\">421.6</td>\n",
       "        <td style=\"padding-left: 1em; padding-right: 1em; text-align: center; vertical-align: top\">0.0</td>\n",
       "        <td style=\"padding-left: 1em; padding-right: 1em; text-align: center; vertical-align: top\">0.0</td>\n",
       "        <td style=\"padding-left: 1em; padding-right: 1em; text-align: center; vertical-align: top\">400</td>\n",
       "        <td style=\"padding-left: 1em; padding-right: 1em; text-align: center; vertical-align: top\">217.844444444</td>\n",
       "    </tr>\n",
       "    <tr>\n",
       "        <td style=\"padding-left: 1em; padding-right: 1em; text-align: center; vertical-align: top\">450.0</td>\n",
       "        <td style=\"padding-left: 1em; padding-right: 1em; text-align: center; vertical-align: top\">513.1</td>\n",
       "        <td style=\"padding-left: 1em; padding-right: 1em; text-align: center; vertical-align: top\">0.0</td>\n",
       "        <td style=\"padding-left: 1em; padding-right: 1em; text-align: center; vertical-align: top\">0.0</td>\n",
       "        <td style=\"padding-left: 1em; padding-right: 1em; text-align: center; vertical-align: top\">380</td>\n",
       "        <td style=\"padding-left: 1em; padding-right: 1em; text-align: center; vertical-align: top\">241.455555556</td>\n",
       "    </tr>\n",
       "    <tr>\n",
       "        <td style=\"padding-left: 1em; padding-right: 1em; text-align: center; vertical-align: top\">437.1</td>\n",
       "        <td style=\"padding-left: 1em; padding-right: 1em; text-align: center; vertical-align: top\">536.5</td>\n",
       "        <td style=\"padding-left: 1em; padding-right: 1em; text-align: center; vertical-align: top\">0.0</td>\n",
       "        <td style=\"padding-left: 1em; padding-right: 1em; text-align: center; vertical-align: top\">0.0</td>\n",
       "        <td style=\"padding-left: 1em; padding-right: 1em; text-align: center; vertical-align: top\">480</td>\n",
       "        <td style=\"padding-left: 1em; padding-right: 1em; text-align: center; vertical-align: top\">263.411111111</td>\n",
       "    </tr>\n",
       "    <tr>\n",
       "        <td style=\"padding-left: 1em; padding-right: 1em; text-align: center; vertical-align: top\">483.9</td>\n",
       "        <td style=\"padding-left: 1em; padding-right: 1em; text-align: center; vertical-align: top\">546.7</td>\n",
       "        <td style=\"padding-left: 1em; padding-right: 1em; text-align: center; vertical-align: top\">0.0</td>\n",
       "        <td style=\"padding-left: 1em; padding-right: 1em; text-align: center; vertical-align: top\">0.0</td>\n",
       "        <td style=\"padding-left: 1em; padding-right: 1em; text-align: center; vertical-align: top\">520</td>\n",
       "        <td style=\"padding-left: 1em; padding-right: 1em; text-align: center; vertical-align: top\">283.833333333</td>\n",
       "    </tr>\n",
       "    <tr>\n",
       "        <td style=\"padding-left: 1em; padding-right: 1em; text-align: center; vertical-align: top\">535.1</td>\n",
       "        <td style=\"padding-left: 1em; padding-right: 1em; text-align: center; vertical-align: top\">570.9</td>\n",
       "        <td style=\"padding-left: 1em; padding-right: 1em; text-align: center; vertical-align: top\">0.0</td>\n",
       "        <td style=\"padding-left: 1em; padding-right: 1em; text-align: center; vertical-align: top\">0.0</td>\n",
       "        <td style=\"padding-left: 1em; padding-right: 1em; text-align: center; vertical-align: top\">480</td>\n",
       "        <td style=\"padding-left: 1em; padding-right: 1em; text-align: center; vertical-align: top\">289.011111111</td>\n",
       "    </tr>\n",
       "    <tr>\n",
       "        <td style=\"padding-left: 1em; padding-right: 1em; text-align: center; vertical-align: top\">453.0</td>\n",
       "        <td style=\"padding-left: 1em; padding-right: 1em; text-align: center; vertical-align: top\">353.2</td>\n",
       "        <td style=\"padding-left: 1em; padding-right: 1em; text-align: center; vertical-align: top\">342.7</td>\n",
       "        <td style=\"padding-left: 1em; padding-right: 1em; text-align: center; vertical-align: top\">353.9</td>\n",
       "        <td style=\"padding-left: 1em; padding-right: 1em; text-align: center; vertical-align: top\">0</td>\n",
       "        <td style=\"padding-left: 1em; padding-right: 1em; text-align: center; vertical-align: top\">293.466666667</td>\n",
       "    </tr>\n",
       "    <tr>\n",
       "        <td style=\"padding-left: 1em; padding-right: 1em; text-align: center; vertical-align: top\">565.5</td>\n",
       "        <td style=\"padding-left: 1em; padding-right: 1em; text-align: center; vertical-align: top\">609.6</td>\n",
       "        <td style=\"padding-left: 1em; padding-right: 1em; text-align: center; vertical-align: top\">0.0</td>\n",
       "        <td style=\"padding-left: 1em; padding-right: 1em; text-align: center; vertical-align: top\">0.0</td>\n",
       "        <td style=\"padding-left: 1em; padding-right: 1em; text-align: center; vertical-align: top\">460</td>\n",
       "        <td style=\"padding-left: 1em; padding-right: 1em; text-align: center; vertical-align: top\">295.622222222</td>\n",
       "    </tr>\n",
       "</table>\n",
       "[15 rows x 6 columns]<br/>Note: Only the head of the SFrame is printed.<br/>You can use print_rows(num_rows=m, num_columns=n) to print more rows and columns.\n",
       "</div>"
      ],
      "text/plain": [
       "Columns:\n",
       "\tNU_NOTA_CN\tfloat\n",
       "\tNU_NOTA_CH\tfloat\n",
       "\tNU_NOTA_LC\tfloat\n",
       "\tNU_NOTA_MT\tfloat\n",
       "\tNU_NOTA_REDACAO\tint\n",
       "\tMEDIA_PONDERADA\tfloat\n",
       "\n",
       "Rows: 15\n",
       "\n",
       "Data:\n",
       "+------------+------------+------------+------------+-----------------+\n",
       "| NU_NOTA_CN | NU_NOTA_CH | NU_NOTA_LC | NU_NOTA_MT | NU_NOTA_REDACAO |\n",
       "+------------+------------+------------+------------+-----------------+\n",
       "|   393.6    |   497.4    |    0.0     |    0.0     |        0        |\n",
       "|   434.3    |   403.7    |    0.0     |    0.0     |       300       |\n",
       "|   418.3    |   461.9    |    0.0     |    0.0     |       300       |\n",
       "|   369.5    |   421.6    |    0.0     |    0.0     |       400       |\n",
       "|   450.0    |   513.1    |    0.0     |    0.0     |       380       |\n",
       "|   437.1    |   536.5    |    0.0     |    0.0     |       480       |\n",
       "|   483.9    |   546.7    |    0.0     |    0.0     |       520       |\n",
       "|   535.1    |   570.9    |    0.0     |    0.0     |       480       |\n",
       "|   453.0    |   353.2    |   342.7    |   353.9    |        0        |\n",
       "|   565.5    |   609.6    |    0.0     |    0.0     |       460       |\n",
       "+------------+------------+------------+------------+-----------------+\n",
       "+-----------------+\n",
       "| MEDIA_PONDERADA |\n",
       "+-----------------+\n",
       "|  142.733333333  |\n",
       "|  208.033333333  |\n",
       "|  210.944444444  |\n",
       "|  217.844444444  |\n",
       "|  241.455555556  |\n",
       "|  263.411111111  |\n",
       "|  283.833333333  |\n",
       "|  289.011111111  |\n",
       "|  293.466666667  |\n",
       "|  295.622222222  |\n",
       "+-----------------+\n",
       "[15 rows x 6 columns]\n",
       "Note: Only the head of the SFrame is printed.\n",
       "You can use print_rows(num_rows=m, num_columns=n) to print more rows and columns."
      ]
     },
     "execution_count": 37,
     "metadata": {},
     "output_type": "execute_result"
    }
   ],
   "source": [
    "_15piores = notas.topk('MEDIA_PONDERADA',15,True)\n",
    "_15piores"
   ]
  },
  {
   "cell_type": "code",
   "execution_count": 38,
   "metadata": {
    "collapsed": false
   },
   "outputs": [],
   "source": [
    "def avaliar(n):\n",
    "    a = []\n",
    "    for x in range(len(n)):\n",
    "        if n[x] >= 400:\n",
    "            a.append('Positivo')\n",
    "        else:\n",
    "            a.append('Negativo')\n",
    "    return a\n",
    "\n",
    "x = avaliar(notas['MEDIA_PONDERADA'])\n",
    "\n",
    "notas['AVALIACAO'] = x"
   ]
  },
  {
   "cell_type": "code",
   "execution_count": 39,
   "metadata": {
    "collapsed": false
   },
   "outputs": [
    {
     "name": "stdout",
     "output_type": "stream",
     "text": [
      "+------------+------------+------------+------------+-----------------+\n",
      "| NU_NOTA_CN | NU_NOTA_CH | NU_NOTA_LC | NU_NOTA_MT | NU_NOTA_REDACAO |\n",
      "+------------+------------+------------+------------+-----------------+\n",
      "|   541.1    |   598.3    |   609.9    |   669.2    |       580       |\n",
      "|   549.5    |   648.9    |   622.9    |   404.7    |       720       |\n",
      "|   417.5    |   511.0    |   492.4    |   467.1    |       500       |\n",
      "|   433.3    |   384.0    |   397.1    |   519.9    |       420       |\n",
      "|    None    |    None    |    None    |    None    |       None      |\n",
      "|   445.9    |   581.3    |   529.8    |   631.8    |       920       |\n",
      "|    None    |    None    |    None    |    None    |       None      |\n",
      "|   625.9    |   585.5    |   515.2    |   480.2    |       600       |\n",
      "|   543.9    |   601.6    |   589.4    |   495.2    |       660       |\n",
      "|   424.8    |   508.9    |   579.2    |   343.7    |       560       |\n",
      "|   440.5    |   529.5    |   494.4    |   390.0    |       360       |\n",
      "|    None    |    None    |    None    |    None    |       None      |\n",
      "|   454.7    |   611.6    |   592.1    |   435.1    |       640       |\n",
      "|   454.9    |   505.5    |   552.2    |   486.8    |       500       |\n",
      "|   462.7    |   563.5    |   540.4    |   407.3    |       560       |\n",
      "+------------+------------+------------+------------+-----------------+\n",
      "+-----------------+-----------+\n",
      "| MEDIA_PONDERADA | AVALIACAO |\n",
      "+-----------------+-----------+\n",
      "|  593.266666667  |  Positivo |\n",
      "|  606.811111111  |  Positivo |\n",
      "|      476.7      |  Positivo |\n",
      "|  422.422222222  |  Positivo |\n",
      "|       None      |  Negativo |\n",
      "|  614.922222222  |  Positivo |\n",
      "|       None      |  Negativo |\n",
      "|  562.566666667  |  Positivo |\n",
      "|  585.866666667  |  Positivo |\n",
      "|  506.644444444  |  Positivo |\n",
      "|  444.855555556  |  Positivo |\n",
      "|       None      |  Negativo |\n",
      "|  556.933333333  |  Positivo |\n",
      "|  506.522222222  |  Positivo |\n",
      "|  515.266666667  |  Positivo |\n",
      "+-----------------+-----------+\n",
      "[13686 rows x 7 columns]\n",
      "\n"
     ]
    }
   ],
   "source": [
    "notas.print_rows(15)"
   ]
  },
  {
   "cell_type": "code",
   "execution_count": null,
   "metadata": {
    "collapsed": true
   },
   "outputs": [],
   "source": [
    "def questao_extra(n):\n",
    "    a = []\n",
    "    for x in range(len(n)):\n",
    "        if n['NU_NOTA_CH'][x] < 500 or n['NU_NOTA_REDACAO'][x] < 400:\n",
    "            a.append('Negativo')\n",
    "        else:\n",
    "            a.append('Positivo')\n",
    "    return a\n",
    "\n",
    "def medias_none(n):\n",
    "    a = []\n",
    "    for x in range(len(n)):\n",
    "        if n['MEDIA_PONDERADA'][x] == 'None':\n",
    "            n['MEDIA_PONDERADA'][x] = 0\n",
    "    return n\n",
    "\n"
   ]
  },
  {
   "cell_type": "code",
   "execution_count": null,
   "metadata": {
    "collapsed": true
   },
   "outputs": [],
   "source": [
    "notas['MEDIA_PONDERADA'] = medias_none(notas['MEDIA_PONDERADA'])\n",
    "notas['PESQUISA'] = questao_extra(notas)\n",
    "notas.print_rows(10)"
   ]
  },
  {
   "cell_type": "code",
   "execution_count": 47,
   "metadata": {
    "collapsed": false
   },
   "outputs": [],
   "source": [
    "#aux = notas.filter_by(None,'MEDIA_PONDERADA',exclude=True)\n",
    "#treino, teste = aux.random_split(.7, seed=0)\n",
    "treino, teste = notas.random_split(.7, seed=0)"
   ]
  },
  {
   "cell_type": "code",
   "execution_count": 48,
   "metadata": {
    "collapsed": false
   },
   "outputs": [
    {
     "data": {
      "text/html": [
       "<pre>Logistic regression:</pre>"
      ],
      "text/plain": [
       "Logistic regression:"
      ]
     },
     "metadata": {},
     "output_type": "display_data"
    },
    {
     "data": {
      "text/html": [
       "<pre>--------------------------------------------------------</pre>"
      ],
      "text/plain": [
       "--------------------------------------------------------"
      ]
     },
     "metadata": {},
     "output_type": "display_data"
    },
    {
     "data": {
      "text/html": [
       "<pre>Number of examples          : 9645</pre>"
      ],
      "text/plain": [
       "Number of examples          : 9645"
      ]
     },
     "metadata": {},
     "output_type": "display_data"
    },
    {
     "data": {
      "text/html": [
       "<pre>Number of classes           : 2</pre>"
      ],
      "text/plain": [
       "Number of classes           : 2"
      ]
     },
     "metadata": {},
     "output_type": "display_data"
    },
    {
     "data": {
      "text/html": [
       "<pre>Number of feature columns   : 1</pre>"
      ],
      "text/plain": [
       "Number of feature columns   : 1"
      ]
     },
     "metadata": {},
     "output_type": "display_data"
    },
    {
     "data": {
      "text/html": [
       "<pre>Number of unpacked features : 1</pre>"
      ],
      "text/plain": [
       "Number of unpacked features : 1"
      ]
     },
     "metadata": {},
     "output_type": "display_data"
    },
    {
     "data": {
      "text/html": [
       "<pre>Number of coefficients    : 2</pre>"
      ],
      "text/plain": [
       "Number of coefficients    : 2"
      ]
     },
     "metadata": {},
     "output_type": "display_data"
    },
    {
     "data": {
      "text/html": [
       "<pre>Starting Newton Method</pre>"
      ],
      "text/plain": [
       "Starting Newton Method"
      ]
     },
     "metadata": {},
     "output_type": "display_data"
    },
    {
     "data": {
      "text/html": [
       "<pre>--------------------------------------------------------</pre>"
      ],
      "text/plain": [
       "--------------------------------------------------------"
      ]
     },
     "metadata": {},
     "output_type": "display_data"
    },
    {
     "data": {
      "text/html": [
       "<pre>+-----------+----------+--------------+-------------------+---------------------+</pre>"
      ],
      "text/plain": [
       "+-----------+----------+--------------+-------------------+---------------------+"
      ]
     },
     "metadata": {},
     "output_type": "display_data"
    },
    {
     "data": {
      "text/html": [
       "<pre>| Iteration | Passes   | Elapsed Time | Training-accuracy | Validation-accuracy |</pre>"
      ],
      "text/plain": [
       "| Iteration | Passes   | Elapsed Time | Training-accuracy | Validation-accuracy |"
      ]
     },
     "metadata": {},
     "output_type": "display_data"
    },
    {
     "data": {
      "text/html": [
       "<pre>+-----------+----------+--------------+-------------------+---------------------+</pre>"
      ],
      "text/plain": [
       "+-----------+----------+--------------+-------------------+---------------------+"
      ]
     },
     "metadata": {},
     "output_type": "display_data"
    },
    {
     "data": {
      "text/html": [
       "<pre>| 1         | 2        | 0.050101     | 0.757906          | 0.747340            |</pre>"
      ],
      "text/plain": [
       "| 1         | 2        | 0.050101     | 0.757906          | 0.747340            |"
      ]
     },
     "metadata": {},
     "output_type": "display_data"
    },
    {
     "data": {
      "text/html": [
       "<pre>| 2         | 3        | 0.069152     | 0.757906          | 0.747340            |</pre>"
      ],
      "text/plain": [
       "| 2         | 3        | 0.069152     | 0.757906          | 0.747340            |"
      ]
     },
     "metadata": {},
     "output_type": "display_data"
    },
    {
     "data": {
      "text/html": [
       "<pre>| 3         | 4        | 0.082187     | 0.757906          | 0.747340            |</pre>"
      ],
      "text/plain": [
       "| 3         | 4        | 0.082187     | 0.757906          | 0.747340            |"
      ]
     },
     "metadata": {},
     "output_type": "display_data"
    },
    {
     "data": {
      "text/html": [
       "<pre>| 4         | 5        | 0.094945     | 0.757906          | 0.747340            |</pre>"
      ],
      "text/plain": [
       "| 4         | 5        | 0.094945     | 0.757906          | 0.747340            |"
      ]
     },
     "metadata": {},
     "output_type": "display_data"
    },
    {
     "data": {
      "text/html": [
       "<pre>| 5         | 6        | 0.109280     | 0.757906          | 0.747340            |</pre>"
      ],
      "text/plain": [
       "| 5         | 6        | 0.109280     | 0.757906          | 0.747340            |"
      ]
     },
     "metadata": {},
     "output_type": "display_data"
    },
    {
     "data": {
      "text/html": [
       "<pre>| 6         | 7        | 0.123462     | 0.757906          | 0.747340            |</pre>"
      ],
      "text/plain": [
       "| 6         | 7        | 0.123462     | 0.757906          | 0.747340            |"
      ]
     },
     "metadata": {},
     "output_type": "display_data"
    },
    {
     "data": {
      "text/html": [
       "<pre>+-----------+----------+--------------+-------------------+---------------------+</pre>"
      ],
      "text/plain": [
       "+-----------+----------+--------------+-------------------+---------------------+"
      ]
     },
     "metadata": {},
     "output_type": "display_data"
    },
    {
     "data": {
      "text/html": [
       "<pre>SUCCESS: Optimal solution found.</pre>"
      ],
      "text/plain": [
       "SUCCESS: Optimal solution found."
      ]
     },
     "metadata": {},
     "output_type": "display_data"
    },
    {
     "data": {
      "text/html": [
       "<pre></pre>"
      ],
      "text/plain": []
     },
     "metadata": {},
     "output_type": "display_data"
    },
    {
     "data": {
      "text/html": [
       "<pre>SVM:</pre>"
      ],
      "text/plain": [
       "SVM:"
      ]
     },
     "metadata": {},
     "output_type": "display_data"
    },
    {
     "data": {
      "text/html": [
       "<pre>--------------------------------------------------------</pre>"
      ],
      "text/plain": [
       "--------------------------------------------------------"
      ]
     },
     "metadata": {},
     "output_type": "display_data"
    },
    {
     "data": {
      "text/html": [
       "<pre>Number of examples          : 9645</pre>"
      ],
      "text/plain": [
       "Number of examples          : 9645"
      ]
     },
     "metadata": {},
     "output_type": "display_data"
    },
    {
     "data": {
      "text/html": [
       "<pre>Number of classes           : 2</pre>"
      ],
      "text/plain": [
       "Number of classes           : 2"
      ]
     },
     "metadata": {},
     "output_type": "display_data"
    },
    {
     "data": {
      "text/html": [
       "<pre>Number of feature columns   : 1</pre>"
      ],
      "text/plain": [
       "Number of feature columns   : 1"
      ]
     },
     "metadata": {},
     "output_type": "display_data"
    },
    {
     "data": {
      "text/html": [
       "<pre>Number of unpacked features : 1</pre>"
      ],
      "text/plain": [
       "Number of unpacked features : 1"
      ]
     },
     "metadata": {},
     "output_type": "display_data"
    },
    {
     "data": {
      "text/html": [
       "<pre>Number of coefficients    : 2</pre>"
      ],
      "text/plain": [
       "Number of coefficients    : 2"
      ]
     },
     "metadata": {},
     "output_type": "display_data"
    },
    {
     "data": {
      "text/html": [
       "<pre>Starting L-BFGS</pre>"
      ],
      "text/plain": [
       "Starting L-BFGS"
      ]
     },
     "metadata": {},
     "output_type": "display_data"
    },
    {
     "data": {
      "text/html": [
       "<pre>--------------------------------------------------------</pre>"
      ],
      "text/plain": [
       "--------------------------------------------------------"
      ]
     },
     "metadata": {},
     "output_type": "display_data"
    },
    {
     "data": {
      "text/html": [
       "<pre>+-----------+----------+-----------+--------------+-------------------+---------------------+</pre>"
      ],
      "text/plain": [
       "+-----------+----------+-----------+--------------+-------------------+---------------------+"
      ]
     },
     "metadata": {},
     "output_type": "display_data"
    },
    {
     "data": {
      "text/html": [
       "<pre>| Iteration | Passes   | Step size | Elapsed Time | Training-accuracy | Validation-accuracy |</pre>"
      ],
      "text/plain": [
       "| Iteration | Passes   | Step size | Elapsed Time | Training-accuracy | Validation-accuracy |"
      ]
     },
     "metadata": {},
     "output_type": "display_data"
    },
    {
     "data": {
      "text/html": [
       "<pre>+-----------+----------+-----------+--------------+-------------------+---------------------+</pre>"
      ],
      "text/plain": [
       "+-----------+----------+-----------+--------------+-------------------+---------------------+"
      ]
     },
     "metadata": {},
     "output_type": "display_data"
    },
    {
     "data": {
      "text/html": [
       "<pre>| 1         | 4        | 0.000518  | 0.008282     | 0.713634          | 0.707746            |</pre>"
      ],
      "text/plain": [
       "| 1         | 4        | 0.000518  | 0.008282     | 0.713634          | 0.707746            |"
      ]
     },
     "metadata": {},
     "output_type": "display_data"
    },
    {
     "data": {
      "text/html": [
       "<pre>| 2         | 6        | 1.000000  | 0.016183     | 0.713634          | 0.707746            |</pre>"
      ],
      "text/plain": [
       "| 2         | 6        | 1.000000  | 0.016183     | 0.713634          | 0.707746            |"
      ]
     },
     "metadata": {},
     "output_type": "display_data"
    },
    {
     "data": {
      "text/html": [
       "<pre>| 3         | 7        | 1.000000  | 0.024124     | 0.713634          | 0.707746            |</pre>"
      ],
      "text/plain": [
       "| 3         | 7        | 1.000000  | 0.024124     | 0.713634          | 0.707746            |"
      ]
     },
     "metadata": {},
     "output_type": "display_data"
    },
    {
     "data": {
      "text/html": [
       "<pre>| 4         | 8        | 1.000000  | 0.028075     | 0.286366          | 0.292254            |</pre>"
      ],
      "text/plain": [
       "| 4         | 8        | 1.000000  | 0.028075     | 0.286366          | 0.292254            |"
      ]
     },
     "metadata": {},
     "output_type": "display_data"
    },
    {
     "data": {
      "text/html": [
       "<pre>| 5         | 13       | 2.000000  | 0.036299     | 0.713634          | 0.707746            |</pre>"
      ],
      "text/plain": [
       "| 5         | 13       | 2.000000  | 0.036299     | 0.713634          | 0.707746            |"
      ]
     },
     "metadata": {},
     "output_type": "display_data"
    },
    {
     "data": {
      "text/html": [
       "<pre>| 6         | 14       | 2.000000  | 0.040107     | 0.286366          | 0.292254            |</pre>"
      ],
      "text/plain": [
       "| 6         | 14       | 2.000000  | 0.040107     | 0.286366          | 0.292254            |"
      ]
     },
     "metadata": {},
     "output_type": "display_data"
    },
    {
     "data": {
      "text/html": [
       "<pre>+-----------+----------+-----------+--------------+-------------------+---------------------+</pre>"
      ],
      "text/plain": [
       "+-----------+----------+-----------+--------------+-------------------+---------------------+"
      ]
     },
     "metadata": {},
     "output_type": "display_data"
    },
    {
     "data": {
      "text/html": [
       "<pre>TERMINATED: Iteration limit reached.</pre>"
      ],
      "text/plain": [
       "TERMINATED: Iteration limit reached."
      ]
     },
     "metadata": {},
     "output_type": "display_data"
    },
    {
     "data": {
      "text/html": [
       "<pre>This model may not be optimal. To improve it, consider increasing `max_iterations`.</pre>"
      ],
      "text/plain": [
       "This model may not be optimal. To improve it, consider increasing `max_iterations`."
      ]
     },
     "metadata": {},
     "output_type": "display_data"
    }
   ],
   "source": [
    "clog = graphlab.logistic_classifier.create(treino,target='AVALIACAO',features=['PESQUISA'],validation_set=teste)\n",
    "csvm = graphlab.svm_classifier.create(treino,target='AVALIACAO',features=['PESQUISA'],validation_set=teste)"
   ]
  },
  {
   "cell_type": "code",
   "execution_count": null,
   "metadata": {
    "collapsed": true
   },
   "outputs": [],
   "source": [
    "graphlab.evaluation.confusion_matrix(resultado, predicao01)"
   ]
  }
 ],
 "metadata": {
  "kernelspec": {
   "display_name": "Python 2",
   "language": "python",
   "name": "python2"
  },
  "language_info": {
   "codemirror_mode": {
    "name": "ipython",
    "version": 2
   },
   "file_extension": ".py",
   "mimetype": "text/x-python",
   "name": "python",
   "nbconvert_exporter": "python",
   "pygments_lexer": "ipython2",
   "version": "2.7.11"
  }
 },
 "nbformat": 4,
 "nbformat_minor": 0
}
