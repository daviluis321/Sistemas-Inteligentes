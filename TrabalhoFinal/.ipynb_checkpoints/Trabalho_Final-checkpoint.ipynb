{
 "cells": [
  {
   "cell_type": "code",
   "execution_count": 16,
   "metadata": {
    "collapsed": false
   },
   "outputs": [],
   "source": [
    "import graphlab"
   ]
  },
  {
   "cell_type": "markdown",
   "metadata": {},
   "source": [
    "1 Descrição do Trabalho\n",
    "O Exame Nacional do Ensino Médio (Enem) é uma prova elaborada pelo Ministério\n",
    "da Educação para verificar o domínio de competências e habilidades dos\n",
    "estudantes que concluíram o ensino médio. Muitas universidades brasileiras utilizam\n",
    "o Enem para selecionar seus futuros alunos. O presente trabalho propõe\n",
    "análise preditiva de uma base de dados do Enem de 2016, onde o estudante terá\n",
    "que usar a linguagem python para desenvolvimento do código.\n"
   ]
  },
  {
   "cell_type": "markdown",
   "metadata": {},
   "source": [
    "2 Formato da Base\n",
    "Qualquer dúvida a respeito das colunas, consulte o Dicionário dos Microdados\n",
    "do Enem 2016 que está na pasta do trabalho final no github.\n",
    "Dica: As colunas mais importantes para o trabalho, são as que correspondem\n",
    "as notas que o aluno conseguiu em cada disciplina."
   ]
  },
  {
   "cell_type": "markdown",
   "metadata": {},
   "source": [
    "3 O que deve ser feito"
   ]
  },
  {
   "cell_type": "markdown",
   "metadata": {},
   "source": [
    "1. Utilizar o Graphlab, carregar e visualização dos dados (0,5);"
   ]
  },
  {
   "cell_type": "code",
   "execution_count": 23,
   "metadata": {
    "collapsed": false
   },
   "outputs": [
    {
     "data": {
      "text/html": [
       "<pre>Finished parsing file /home/esdras/Sistemas-Inteligentes/TrabalhoFinal/train.csv</pre>"
      ],
      "text/plain": [
       "Finished parsing file /home/esdras/Sistemas-Inteligentes/TrabalhoFinal/train.csv"
      ]
     },
     "metadata": {},
     "output_type": "display_data"
    },
    {
     "data": {
      "text/html": [
       "<pre>Parsing completed. Parsed 100 lines in 0.346028 secs.</pre>"
      ],
      "text/plain": [
       "Parsing completed. Parsed 100 lines in 0.346028 secs."
      ]
     },
     "metadata": {},
     "output_type": "display_data"
    },
    {
     "name": "stdout",
     "output_type": "stream",
     "text": [
      "------------------------------------------------------\n",
      "Inferred types from first 100 line(s) of file as \n",
      "column_type_hints=[int,str,int,int,str,int,str,int,str,int,int,int,int,str,int,str,int,int,int,int,int,int,int,str,int,str,int,int,int,int,int,int,int,int,int,int,int,int,int,int,int,int,int,int,int,int,int,int,int,int,int,int,int,int,int,int,int,int,int,int,int,int,int,int,int,int,int,int,int,int,int,int,int,int,int,int,int,int,int,int,int,int,str,int,str,int,str,int,str,int,int,int,int,str,str,str,str,float,float,float,float,str,str,str,str,int,str,str,str,str,int,int,int,int,int,int,int,str,str,str,str,int,str,str,str,str,str,str,str,str,str,str,str,str,str,str,str,str,str,str,str,str,str,str,str,int,int,int,int,int,int,int,int,int,int,int,int,int,str,str,str,str,str,str,str,str,str]\n",
      "If parsing fails due to incorrect types, you can correct\n",
      "the inferred type list above and pass it to read_csv in\n",
      "the column_type_hints argument\n",
      "------------------------------------------------------\n"
     ]
    },
    {
     "data": {
      "text/html": [
       "<pre>Finished parsing file /home/esdras/Sistemas-Inteligentes/TrabalhoFinal/train.csv</pre>"
      ],
      "text/plain": [
       "Finished parsing file /home/esdras/Sistemas-Inteligentes/TrabalhoFinal/train.csv"
      ]
     },
     "metadata": {},
     "output_type": "display_data"
    },
    {
     "data": {
      "text/html": [
       "<pre>Parsing completed. Parsed 13686 lines in 0.25136 secs.</pre>"
      ],
      "text/plain": [
       "Parsing completed. Parsed 13686 lines in 0.25136 secs."
      ]
     },
     "metadata": {},
     "output_type": "display_data"
    }
   ],
   "source": [
    "alunos = graphlab.SFrame.read_csv('train.csv')"
   ]
  },
  {
   "cell_type": "code",
   "execution_count": 24,
   "metadata": {
    "collapsed": false
   },
   "outputs": [
    {
     "data": {
      "text/html": [
       "<div style=\"max-height:1000px;max-width:1500px;overflow:auto;\"><table frame=\"box\" rules=\"cols\">\n",
       "    <tr>\n",
       "        <th style=\"padding-left: 1em; padding-right: 1em; text-align: center\">X1</th>\n",
       "        <th style=\"padding-left: 1em; padding-right: 1em; text-align: center\">NU_INSCRICAO</th>\n",
       "        <th style=\"padding-left: 1em; padding-right: 1em; text-align: center\">NU_ANO</th>\n",
       "        <th style=\"padding-left: 1em; padding-right: 1em; text-align: center\">CO_MUNICIPIO_RESIDENCIA</th>\n",
       "        <th style=\"padding-left: 1em; padding-right: 1em; text-align: center\">NO_MUNICIPIO_RESIDENCIA</th>\n",
       "        <th style=\"padding-left: 1em; padding-right: 1em; text-align: center\">CO_UF_RESIDENCIA</th>\n",
       "        <th style=\"padding-left: 1em; padding-right: 1em; text-align: center\">SG_UF_RESIDENCIA</th>\n",
       "    </tr>\n",
       "    <tr>\n",
       "        <td style=\"padding-left: 1em; padding-right: 1em; text-align: center; vertical-align: top\">1</td>\n",
       "        <td style=\"padding-left: 1em; padding-right: 1em; text-align: center; vertical-align: top\">f69113a0fda10e003073c92dc<br>68ae46cebf85d3f ...</td>\n",
       "        <td style=\"padding-left: 1em; padding-right: 1em; text-align: center; vertical-align: top\">2016</td>\n",
       "        <td style=\"padding-left: 1em; padding-right: 1em; text-align: center; vertical-align: top\">2914802</td>\n",
       "        <td style=\"padding-left: 1em; padding-right: 1em; text-align: center; vertical-align: top\">Itabuna</td>\n",
       "        <td style=\"padding-left: 1em; padding-right: 1em; text-align: center; vertical-align: top\">29</td>\n",
       "        <td style=\"padding-left: 1em; padding-right: 1em; text-align: center; vertical-align: top\">BA</td>\n",
       "    </tr>\n",
       "    <tr>\n",
       "        <td style=\"padding-left: 1em; padding-right: 1em; text-align: center; vertical-align: top\">2</td>\n",
       "        <td style=\"padding-left: 1em; padding-right: 1em; text-align: center; vertical-align: top\">07870321422c6ed9e24248bfe<br>80a6e39694bf86b ...</td>\n",
       "        <td style=\"padding-left: 1em; padding-right: 1em; text-align: center; vertical-align: top\">2016</td>\n",
       "        <td style=\"padding-left: 1em; padding-right: 1em; text-align: center; vertical-align: top\">2307700</td>\n",
       "        <td style=\"padding-left: 1em; padding-right: 1em; text-align: center; vertical-align: top\">Maranguape</td>\n",
       "        <td style=\"padding-left: 1em; padding-right: 1em; text-align: center; vertical-align: top\">23</td>\n",
       "        <td style=\"padding-left: 1em; padding-right: 1em; text-align: center; vertical-align: top\">CE</td>\n",
       "    </tr>\n",
       "    <tr>\n",
       "        <td style=\"padding-left: 1em; padding-right: 1em; text-align: center; vertical-align: top\">3</td>\n",
       "        <td style=\"padding-left: 1em; padding-right: 1em; text-align: center; vertical-align: top\">00eb8e32d58c602c81df66b1b<br>a9e7dc94ef0ec2d ...</td>\n",
       "        <td style=\"padding-left: 1em; padding-right: 1em; text-align: center; vertical-align: top\">2016</td>\n",
       "        <td style=\"padding-left: 1em; padding-right: 1em; text-align: center; vertical-align: top\">1506104</td>\n",
       "        <td style=\"padding-left: 1em; padding-right: 1em; text-align: center; vertical-align: top\">Primavera</td>\n",
       "        <td style=\"padding-left: 1em; padding-right: 1em; text-align: center; vertical-align: top\">15</td>\n",
       "        <td style=\"padding-left: 1em; padding-right: 1em; text-align: center; vertical-align: top\">PA</td>\n",
       "    </tr>\n",
       "    <tr>\n",
       "        <td style=\"padding-left: 1em; padding-right: 1em; text-align: center; vertical-align: top\">4</td>\n",
       "        <td style=\"padding-left: 1em; padding-right: 1em; text-align: center; vertical-align: top\">c5aa7b15bba422a5f2cceab28<br>470f3722a267c2f ...</td>\n",
       "        <td style=\"padding-left: 1em; padding-right: 1em; text-align: center; vertical-align: top\">2016</td>\n",
       "        <td style=\"padding-left: 1em; padding-right: 1em; text-align: center; vertical-align: top\">1505809</td>\n",
       "        <td style=\"padding-left: 1em; padding-right: 1em; text-align: center; vertical-align: top\">Portel</td>\n",
       "        <td style=\"padding-left: 1em; padding-right: 1em; text-align: center; vertical-align: top\">15</td>\n",
       "        <td style=\"padding-left: 1em; padding-right: 1em; text-align: center; vertical-align: top\">PA</td>\n",
       "    </tr>\n",
       "    <tr>\n",
       "        <td style=\"padding-left: 1em; padding-right: 1em; text-align: center; vertical-align: top\">5</td>\n",
       "        <td style=\"padding-left: 1em; padding-right: 1em; text-align: center; vertical-align: top\">4a34a60cfeba08c0063038497<br>758f11d2894f896 ...</td>\n",
       "        <td style=\"padding-left: 1em; padding-right: 1em; text-align: center; vertical-align: top\">2016</td>\n",
       "        <td style=\"padding-left: 1em; padding-right: 1em; text-align: center; vertical-align: top\">3304557</td>\n",
       "        <td style=\"padding-left: 1em; padding-right: 1em; text-align: center; vertical-align: top\">Rio de Janeiro</td>\n",
       "        <td style=\"padding-left: 1em; padding-right: 1em; text-align: center; vertical-align: top\">33</td>\n",
       "        <td style=\"padding-left: 1em; padding-right: 1em; text-align: center; vertical-align: top\">RJ</td>\n",
       "    </tr>\n",
       "    <tr>\n",
       "        <td style=\"padding-left: 1em; padding-right: 1em; text-align: center; vertical-align: top\">6</td>\n",
       "        <td style=\"padding-left: 1em; padding-right: 1em; text-align: center; vertical-align: top\">4cd8f6d99fe793dab7dbb6bd1<br>33cb418f61d3a2e ...</td>\n",
       "        <td style=\"padding-left: 1em; padding-right: 1em; text-align: center; vertical-align: top\">2016</td>\n",
       "        <td style=\"padding-left: 1em; padding-right: 1em; text-align: center; vertical-align: top\">1716109</td>\n",
       "        <td style=\"padding-left: 1em; padding-right: 1em; text-align: center; vertical-align: top\">Paraíso do Tocantins</td>\n",
       "        <td style=\"padding-left: 1em; padding-right: 1em; text-align: center; vertical-align: top\">17</td>\n",
       "        <td style=\"padding-left: 1em; padding-right: 1em; text-align: center; vertical-align: top\">TO</td>\n",
       "    </tr>\n",
       "    <tr>\n",
       "        <td style=\"padding-left: 1em; padding-right: 1em; text-align: center; vertical-align: top\">7</td>\n",
       "        <td style=\"padding-left: 1em; padding-right: 1em; text-align: center; vertical-align: top\">31de52dda32a683ac2c32b7b5<br>2473abcc553970a ...</td>\n",
       "        <td style=\"padding-left: 1em; padding-right: 1em; text-align: center; vertical-align: top\">2016</td>\n",
       "        <td style=\"padding-left: 1em; padding-right: 1em; text-align: center; vertical-align: top\">3148103</td>\n",
       "        <td style=\"padding-left: 1em; padding-right: 1em; text-align: center; vertical-align: top\">Patrocínio</td>\n",
       "        <td style=\"padding-left: 1em; padding-right: 1em; text-align: center; vertical-align: top\">31</td>\n",
       "        <td style=\"padding-left: 1em; padding-right: 1em; text-align: center; vertical-align: top\">MG</td>\n",
       "    </tr>\n",
       "    <tr>\n",
       "        <td style=\"padding-left: 1em; padding-right: 1em; text-align: center; vertical-align: top\">8</td>\n",
       "        <td style=\"padding-left: 1em; padding-right: 1em; text-align: center; vertical-align: top\">00d1f7b612149821abb8d97ce<br>86810e6c79f75ca ...</td>\n",
       "        <td style=\"padding-left: 1em; padding-right: 1em; text-align: center; vertical-align: top\">2016</td>\n",
       "        <td style=\"padding-left: 1em; padding-right: 1em; text-align: center; vertical-align: top\">2704302</td>\n",
       "        <td style=\"padding-left: 1em; padding-right: 1em; text-align: center; vertical-align: top\">Maceió</td>\n",
       "        <td style=\"padding-left: 1em; padding-right: 1em; text-align: center; vertical-align: top\">27</td>\n",
       "        <td style=\"padding-left: 1em; padding-right: 1em; text-align: center; vertical-align: top\">AL</td>\n",
       "    </tr>\n",
       "    <tr>\n",
       "        <td style=\"padding-left: 1em; padding-right: 1em; text-align: center; vertical-align: top\">9</td>\n",
       "        <td style=\"padding-left: 1em; padding-right: 1em; text-align: center; vertical-align: top\">a10f110b82c447c56ccf643f9<br>b309bc89a9f2a67 ...</td>\n",
       "        <td style=\"padding-left: 1em; padding-right: 1em; text-align: center; vertical-align: top\">2016</td>\n",
       "        <td style=\"padding-left: 1em; padding-right: 1em; text-align: center; vertical-align: top\">3518404</td>\n",
       "        <td style=\"padding-left: 1em; padding-right: 1em; text-align: center; vertical-align: top\">Guaratinguetá</td>\n",
       "        <td style=\"padding-left: 1em; padding-right: 1em; text-align: center; vertical-align: top\">35</td>\n",
       "        <td style=\"padding-left: 1em; padding-right: 1em; text-align: center; vertical-align: top\">SP</td>\n",
       "    </tr>\n",
       "    <tr>\n",
       "        <td style=\"padding-left: 1em; padding-right: 1em; text-align: center; vertical-align: top\">10</td>\n",
       "        <td style=\"padding-left: 1em; padding-right: 1em; text-align: center; vertical-align: top\">c1123b69810e1dadb7ee51189<br>caada061c73442c ...</td>\n",
       "        <td style=\"padding-left: 1em; padding-right: 1em; text-align: center; vertical-align: top\">2016</td>\n",
       "        <td style=\"padding-left: 1em; padding-right: 1em; text-align: center; vertical-align: top\">2302503</td>\n",
       "        <td style=\"padding-left: 1em; padding-right: 1em; text-align: center; vertical-align: top\">Brejo Santo</td>\n",
       "        <td style=\"padding-left: 1em; padding-right: 1em; text-align: center; vertical-align: top\">23</td>\n",
       "        <td style=\"padding-left: 1em; padding-right: 1em; text-align: center; vertical-align: top\">CE</td>\n",
       "    </tr>\n",
       "</table>\n",
       "<table frame=\"box\" rules=\"cols\">\n",
       "    <tr>\n",
       "        <th style=\"padding-left: 1em; padding-right: 1em; text-align: center\">NU_IDADE</th>\n",
       "        <th style=\"padding-left: 1em; padding-right: 1em; text-align: center\">TP_SEXO</th>\n",
       "        <th style=\"padding-left: 1em; padding-right: 1em; text-align: center\">TP_ESTADO_CIVIL</th>\n",
       "        <th style=\"padding-left: 1em; padding-right: 1em; text-align: center\">TP_COR_RACA</th>\n",
       "        <th style=\"padding-left: 1em; padding-right: 1em; text-align: center\">TP_NACIONALIDADE</th>\n",
       "        <th style=\"padding-left: 1em; padding-right: 1em; text-align: center\">CO_MUNICIPIO_NASCIMENTO</th>\n",
       "        <th style=\"padding-left: 1em; padding-right: 1em; text-align: center\">NO_MUNICIPIO_NASCIMENTO</th>\n",
       "    </tr>\n",
       "    <tr>\n",
       "        <td style=\"padding-left: 1em; padding-right: 1em; text-align: center; vertical-align: top\">39</td>\n",
       "        <td style=\"padding-left: 1em; padding-right: 1em; text-align: center; vertical-align: top\">F</td>\n",
       "        <td style=\"padding-left: 1em; padding-right: 1em; text-align: center; vertical-align: top\">1</td>\n",
       "        <td style=\"padding-left: 1em; padding-right: 1em; text-align: center; vertical-align: top\">3</td>\n",
       "        <td style=\"padding-left: 1em; padding-right: 1em; text-align: center; vertical-align: top\">1</td>\n",
       "        <td style=\"padding-left: 1em; padding-right: 1em; text-align: center; vertical-align: top\">3304557</td>\n",
       "        <td style=\"padding-left: 1em; padding-right: 1em; text-align: center; vertical-align: top\">Rio de Janeiro</td>\n",
       "    </tr>\n",
       "    <tr>\n",
       "        <td style=\"padding-left: 1em; padding-right: 1em; text-align: center; vertical-align: top\">19</td>\n",
       "        <td style=\"padding-left: 1em; padding-right: 1em; text-align: center; vertical-align: top\">F</td>\n",
       "        <td style=\"padding-left: 1em; padding-right: 1em; text-align: center; vertical-align: top\">0</td>\n",
       "        <td style=\"padding-left: 1em; padding-right: 1em; text-align: center; vertical-align: top\">3</td>\n",
       "        <td style=\"padding-left: 1em; padding-right: 1em; text-align: center; vertical-align: top\">1</td>\n",
       "        <td style=\"padding-left: 1em; padding-right: 1em; text-align: center; vertical-align: top\">2307700</td>\n",
       "        <td style=\"padding-left: 1em; padding-right: 1em; text-align: center; vertical-align: top\">Maranguape</td>\n",
       "    </tr>\n",
       "    <tr>\n",
       "        <td style=\"padding-left: 1em; padding-right: 1em; text-align: center; vertical-align: top\">18</td>\n",
       "        <td style=\"padding-left: 1em; padding-right: 1em; text-align: center; vertical-align: top\">M</td>\n",
       "        <td style=\"padding-left: 1em; padding-right: 1em; text-align: center; vertical-align: top\">0</td>\n",
       "        <td style=\"padding-left: 1em; padding-right: 1em; text-align: center; vertical-align: top\">1</td>\n",
       "        <td style=\"padding-left: 1em; padding-right: 1em; text-align: center; vertical-align: top\">1</td>\n",
       "        <td style=\"padding-left: 1em; padding-right: 1em; text-align: center; vertical-align: top\">1506104</td>\n",
       "        <td style=\"padding-left: 1em; padding-right: 1em; text-align: center; vertical-align: top\">Primavera</td>\n",
       "    </tr>\n",
       "    <tr>\n",
       "        <td style=\"padding-left: 1em; padding-right: 1em; text-align: center; vertical-align: top\">24</td>\n",
       "        <td style=\"padding-left: 1em; padding-right: 1em; text-align: center; vertical-align: top\">F</td>\n",
       "        <td style=\"padding-left: 1em; padding-right: 1em; text-align: center; vertical-align: top\">0</td>\n",
       "        <td style=\"padding-left: 1em; padding-right: 1em; text-align: center; vertical-align: top\">3</td>\n",
       "        <td style=\"padding-left: 1em; padding-right: 1em; text-align: center; vertical-align: top\">1</td>\n",
       "        <td style=\"padding-left: 1em; padding-right: 1em; text-align: center; vertical-align: top\">1505809</td>\n",
       "        <td style=\"padding-left: 1em; padding-right: 1em; text-align: center; vertical-align: top\">Portel</td>\n",
       "    </tr>\n",
       "    <tr>\n",
       "        <td style=\"padding-left: 1em; padding-right: 1em; text-align: center; vertical-align: top\">26</td>\n",
       "        <td style=\"padding-left: 1em; padding-right: 1em; text-align: center; vertical-align: top\">F</td>\n",
       "        <td style=\"padding-left: 1em; padding-right: 1em; text-align: center; vertical-align: top\">0</td>\n",
       "        <td style=\"padding-left: 1em; padding-right: 1em; text-align: center; vertical-align: top\">3</td>\n",
       "        <td style=\"padding-left: 1em; padding-right: 1em; text-align: center; vertical-align: top\">1</td>\n",
       "        <td style=\"padding-left: 1em; padding-right: 1em; text-align: center; vertical-align: top\">3304557</td>\n",
       "        <td style=\"padding-left: 1em; padding-right: 1em; text-align: center; vertical-align: top\">Rio de Janeiro</td>\n",
       "    </tr>\n",
       "    <tr>\n",
       "        <td style=\"padding-left: 1em; padding-right: 1em; text-align: center; vertical-align: top\">19</td>\n",
       "        <td style=\"padding-left: 1em; padding-right: 1em; text-align: center; vertical-align: top\">M</td>\n",
       "        <td style=\"padding-left: 1em; padding-right: 1em; text-align: center; vertical-align: top\">0</td>\n",
       "        <td style=\"padding-left: 1em; padding-right: 1em; text-align: center; vertical-align: top\">1</td>\n",
       "        <td style=\"padding-left: 1em; padding-right: 1em; text-align: center; vertical-align: top\">1</td>\n",
       "        <td style=\"padding-left: 1em; padding-right: 1em; text-align: center; vertical-align: top\">1506161</td>\n",
       "        <td style=\"padding-left: 1em; padding-right: 1em; text-align: center; vertical-align: top\">Rio Maria</td>\n",
       "    </tr>\n",
       "    <tr>\n",
       "        <td style=\"padding-left: 1em; padding-right: 1em; text-align: center; vertical-align: top\">19</td>\n",
       "        <td style=\"padding-left: 1em; padding-right: 1em; text-align: center; vertical-align: top\">F</td>\n",
       "        <td style=\"padding-left: 1em; padding-right: 1em; text-align: center; vertical-align: top\">0</td>\n",
       "        <td style=\"padding-left: 1em; padding-right: 1em; text-align: center; vertical-align: top\">2</td>\n",
       "        <td style=\"padding-left: 1em; padding-right: 1em; text-align: center; vertical-align: top\">1</td>\n",
       "        <td style=\"padding-left: 1em; padding-right: 1em; text-align: center; vertical-align: top\">3148103</td>\n",
       "        <td style=\"padding-left: 1em; padding-right: 1em; text-align: center; vertical-align: top\">Patrocínio</td>\n",
       "    </tr>\n",
       "    <tr>\n",
       "        <td style=\"padding-left: 1em; padding-right: 1em; text-align: center; vertical-align: top\">17</td>\n",
       "        <td style=\"padding-left: 1em; padding-right: 1em; text-align: center; vertical-align: top\">M</td>\n",
       "        <td style=\"padding-left: 1em; padding-right: 1em; text-align: center; vertical-align: top\">0</td>\n",
       "        <td style=\"padding-left: 1em; padding-right: 1em; text-align: center; vertical-align: top\">0</td>\n",
       "        <td style=\"padding-left: 1em; padding-right: 1em; text-align: center; vertical-align: top\">1</td>\n",
       "        <td style=\"padding-left: 1em; padding-right: 1em; text-align: center; vertical-align: top\">2704302</td>\n",
       "        <td style=\"padding-left: 1em; padding-right: 1em; text-align: center; vertical-align: top\">Maceió</td>\n",
       "    </tr>\n",
       "    <tr>\n",
       "        <td style=\"padding-left: 1em; padding-right: 1em; text-align: center; vertical-align: top\">17</td>\n",
       "        <td style=\"padding-left: 1em; padding-right: 1em; text-align: center; vertical-align: top\">F</td>\n",
       "        <td style=\"padding-left: 1em; padding-right: 1em; text-align: center; vertical-align: top\">0</td>\n",
       "        <td style=\"padding-left: 1em; padding-right: 1em; text-align: center; vertical-align: top\">1</td>\n",
       "        <td style=\"padding-left: 1em; padding-right: 1em; text-align: center; vertical-align: top\">1</td>\n",
       "        <td style=\"padding-left: 1em; padding-right: 1em; text-align: center; vertical-align: top\">3518404</td>\n",
       "        <td style=\"padding-left: 1em; padding-right: 1em; text-align: center; vertical-align: top\">Guaratinguetá</td>\n",
       "    </tr>\n",
       "    <tr>\n",
       "        <td style=\"padding-left: 1em; padding-right: 1em; text-align: center; vertical-align: top\">24</td>\n",
       "        <td style=\"padding-left: 1em; padding-right: 1em; text-align: center; vertical-align: top\">F</td>\n",
       "        <td style=\"padding-left: 1em; padding-right: 1em; text-align: center; vertical-align: top\">2</td>\n",
       "        <td style=\"padding-left: 1em; padding-right: 1em; text-align: center; vertical-align: top\">1</td>\n",
       "        <td style=\"padding-left: 1em; padding-right: 1em; text-align: center; vertical-align: top\">1</td>\n",
       "        <td style=\"padding-left: 1em; padding-right: 1em; text-align: center; vertical-align: top\">2302503</td>\n",
       "        <td style=\"padding-left: 1em; padding-right: 1em; text-align: center; vertical-align: top\">Brejo Santo</td>\n",
       "    </tr>\n",
       "</table>\n",
       "<table frame=\"box\" rules=\"cols\">\n",
       "    <tr>\n",
       "        <th style=\"padding-left: 1em; padding-right: 1em; text-align: center\">CO_UF_NASCIMENTO</th>\n",
       "        <th style=\"padding-left: 1em; padding-right: 1em; text-align: center\">SG_UF_NASCIMENTO</th>\n",
       "        <th style=\"padding-left: 1em; padding-right: 1em; text-align: center\">TP_ST_CONCLUSAO</th>\n",
       "        <th style=\"padding-left: 1em; padding-right: 1em; text-align: center\">TP_ANO_CONCLUIU</th>\n",
       "        <th style=\"padding-left: 1em; padding-right: 1em; text-align: center\">TP_ESCOLA</th>\n",
       "        <th style=\"padding-left: 1em; padding-right: 1em; text-align: center\">TP_ENSINO</th>\n",
       "        <th style=\"padding-left: 1em; padding-right: 1em; text-align: center\">IN_TREINEIRO</th>\n",
       "    </tr>\n",
       "    <tr>\n",
       "        <td style=\"padding-left: 1em; padding-right: 1em; text-align: center; vertical-align: top\">33</td>\n",
       "        <td style=\"padding-left: 1em; padding-right: 1em; text-align: center; vertical-align: top\">RJ</td>\n",
       "        <td style=\"padding-left: 1em; padding-right: 1em; text-align: center; vertical-align: top\">1</td>\n",
       "        <td style=\"padding-left: 1em; padding-right: 1em; text-align: center; vertical-align: top\">10</td>\n",
       "        <td style=\"padding-left: 1em; padding-right: 1em; text-align: center; vertical-align: top\">1</td>\n",
       "        <td style=\"padding-left: 1em; padding-right: 1em; text-align: center; vertical-align: top\">None</td>\n",
       "        <td style=\"padding-left: 1em; padding-right: 1em; text-align: center; vertical-align: top\">0</td>\n",
       "    </tr>\n",
       "    <tr>\n",
       "        <td style=\"padding-left: 1em; padding-right: 1em; text-align: center; vertical-align: top\">23</td>\n",
       "        <td style=\"padding-left: 1em; padding-right: 1em; text-align: center; vertical-align: top\">CE</td>\n",
       "        <td style=\"padding-left: 1em; padding-right: 1em; text-align: center; vertical-align: top\">1</td>\n",
       "        <td style=\"padding-left: 1em; padding-right: 1em; text-align: center; vertical-align: top\">2</td>\n",
       "        <td style=\"padding-left: 1em; padding-right: 1em; text-align: center; vertical-align: top\">1</td>\n",
       "        <td style=\"padding-left: 1em; padding-right: 1em; text-align: center; vertical-align: top\">None</td>\n",
       "        <td style=\"padding-left: 1em; padding-right: 1em; text-align: center; vertical-align: top\">0</td>\n",
       "    </tr>\n",
       "    <tr>\n",
       "        <td style=\"padding-left: 1em; padding-right: 1em; text-align: center; vertical-align: top\">15</td>\n",
       "        <td style=\"padding-left: 1em; padding-right: 1em; text-align: center; vertical-align: top\">PA</td>\n",
       "        <td style=\"padding-left: 1em; padding-right: 1em; text-align: center; vertical-align: top\">3</td>\n",
       "        <td style=\"padding-left: 1em; padding-right: 1em; text-align: center; vertical-align: top\">0</td>\n",
       "        <td style=\"padding-left: 1em; padding-right: 1em; text-align: center; vertical-align: top\">1</td>\n",
       "        <td style=\"padding-left: 1em; padding-right: 1em; text-align: center; vertical-align: top\">None</td>\n",
       "        <td style=\"padding-left: 1em; padding-right: 1em; text-align: center; vertical-align: top\">0</td>\n",
       "    </tr>\n",
       "    <tr>\n",
       "        <td style=\"padding-left: 1em; padding-right: 1em; text-align: center; vertical-align: top\">15</td>\n",
       "        <td style=\"padding-left: 1em; padding-right: 1em; text-align: center; vertical-align: top\">PA</td>\n",
       "        <td style=\"padding-left: 1em; padding-right: 1em; text-align: center; vertical-align: top\">1</td>\n",
       "        <td style=\"padding-left: 1em; padding-right: 1em; text-align: center; vertical-align: top\">5</td>\n",
       "        <td style=\"padding-left: 1em; padding-right: 1em; text-align: center; vertical-align: top\">1</td>\n",
       "        <td style=\"padding-left: 1em; padding-right: 1em; text-align: center; vertical-align: top\">None</td>\n",
       "        <td style=\"padding-left: 1em; padding-right: 1em; text-align: center; vertical-align: top\">0</td>\n",
       "    </tr>\n",
       "    <tr>\n",
       "        <td style=\"padding-left: 1em; padding-right: 1em; text-align: center; vertical-align: top\">33</td>\n",
       "        <td style=\"padding-left: 1em; padding-right: 1em; text-align: center; vertical-align: top\">RJ</td>\n",
       "        <td style=\"padding-left: 1em; padding-right: 1em; text-align: center; vertical-align: top\">1</td>\n",
       "        <td style=\"padding-left: 1em; padding-right: 1em; text-align: center; vertical-align: top\">9</td>\n",
       "        <td style=\"padding-left: 1em; padding-right: 1em; text-align: center; vertical-align: top\">1</td>\n",
       "        <td style=\"padding-left: 1em; padding-right: 1em; text-align: center; vertical-align: top\">None</td>\n",
       "        <td style=\"padding-left: 1em; padding-right: 1em; text-align: center; vertical-align: top\">0</td>\n",
       "    </tr>\n",
       "    <tr>\n",
       "        <td style=\"padding-left: 1em; padding-right: 1em; text-align: center; vertical-align: top\">15</td>\n",
       "        <td style=\"padding-left: 1em; padding-right: 1em; text-align: center; vertical-align: top\">PA</td>\n",
       "        <td style=\"padding-left: 1em; padding-right: 1em; text-align: center; vertical-align: top\">1</td>\n",
       "        <td style=\"padding-left: 1em; padding-right: 1em; text-align: center; vertical-align: top\">1</td>\n",
       "        <td style=\"padding-left: 1em; padding-right: 1em; text-align: center; vertical-align: top\">1</td>\n",
       "        <td style=\"padding-left: 1em; padding-right: 1em; text-align: center; vertical-align: top\">None</td>\n",
       "        <td style=\"padding-left: 1em; padding-right: 1em; text-align: center; vertical-align: top\">0</td>\n",
       "    </tr>\n",
       "    <tr>\n",
       "        <td style=\"padding-left: 1em; padding-right: 1em; text-align: center; vertical-align: top\">31</td>\n",
       "        <td style=\"padding-left: 1em; padding-right: 1em; text-align: center; vertical-align: top\">MG</td>\n",
       "        <td style=\"padding-left: 1em; padding-right: 1em; text-align: center; vertical-align: top\">1</td>\n",
       "        <td style=\"padding-left: 1em; padding-right: 1em; text-align: center; vertical-align: top\">2</td>\n",
       "        <td style=\"padding-left: 1em; padding-right: 1em; text-align: center; vertical-align: top\">1</td>\n",
       "        <td style=\"padding-left: 1em; padding-right: 1em; text-align: center; vertical-align: top\">None</td>\n",
       "        <td style=\"padding-left: 1em; padding-right: 1em; text-align: center; vertical-align: top\">0</td>\n",
       "    </tr>\n",
       "    <tr>\n",
       "        <td style=\"padding-left: 1em; padding-right: 1em; text-align: center; vertical-align: top\">27</td>\n",
       "        <td style=\"padding-left: 1em; padding-right: 1em; text-align: center; vertical-align: top\">AL</td>\n",
       "        <td style=\"padding-left: 1em; padding-right: 1em; text-align: center; vertical-align: top\">3</td>\n",
       "        <td style=\"padding-left: 1em; padding-right: 1em; text-align: center; vertical-align: top\">0</td>\n",
       "        <td style=\"padding-left: 1em; padding-right: 1em; text-align: center; vertical-align: top\">1</td>\n",
       "        <td style=\"padding-left: 1em; padding-right: 1em; text-align: center; vertical-align: top\">None</td>\n",
       "        <td style=\"padding-left: 1em; padding-right: 1em; text-align: center; vertical-align: top\">1</td>\n",
       "    </tr>\n",
       "    <tr>\n",
       "        <td style=\"padding-left: 1em; padding-right: 1em; text-align: center; vertical-align: top\">35</td>\n",
       "        <td style=\"padding-left: 1em; padding-right: 1em; text-align: center; vertical-align: top\">SP</td>\n",
       "        <td style=\"padding-left: 1em; padding-right: 1em; text-align: center; vertical-align: top\">2</td>\n",
       "        <td style=\"padding-left: 1em; padding-right: 1em; text-align: center; vertical-align: top\">0</td>\n",
       "        <td style=\"padding-left: 1em; padding-right: 1em; text-align: center; vertical-align: top\">2</td>\n",
       "        <td style=\"padding-left: 1em; padding-right: 1em; text-align: center; vertical-align: top\">1</td>\n",
       "        <td style=\"padding-left: 1em; padding-right: 1em; text-align: center; vertical-align: top\">0</td>\n",
       "    </tr>\n",
       "    <tr>\n",
       "        <td style=\"padding-left: 1em; padding-right: 1em; text-align: center; vertical-align: top\">23</td>\n",
       "        <td style=\"padding-left: 1em; padding-right: 1em; text-align: center; vertical-align: top\">CE</td>\n",
       "        <td style=\"padding-left: 1em; padding-right: 1em; text-align: center; vertical-align: top\">1</td>\n",
       "        <td style=\"padding-left: 1em; padding-right: 1em; text-align: center; vertical-align: top\">5</td>\n",
       "        <td style=\"padding-left: 1em; padding-right: 1em; text-align: center; vertical-align: top\">1</td>\n",
       "        <td style=\"padding-left: 1em; padding-right: 1em; text-align: center; vertical-align: top\">None</td>\n",
       "        <td style=\"padding-left: 1em; padding-right: 1em; text-align: center; vertical-align: top\">0</td>\n",
       "    </tr>\n",
       "</table>\n",
       "<table frame=\"box\" rules=\"cols\">\n",
       "    <tr>\n",
       "        <th style=\"padding-left: 1em; padding-right: 1em; text-align: center\">CO_ESCOLA</th>\n",
       "        <th style=\"padding-left: 1em; padding-right: 1em; text-align: center\">CO_MUNICIPIO_ESC</th>\n",
       "        <th style=\"padding-left: 1em; padding-right: 1em; text-align: center\">NO_MUNICIPIO_ESC</th>\n",
       "        <th style=\"padding-left: 1em; padding-right: 1em; text-align: center\">CO_UF_ESC</th>\n",
       "        <th style=\"padding-left: 1em; padding-right: 1em; text-align: center\">SG_UF_ESC</th>\n",
       "        <th style=\"padding-left: 1em; padding-right: 1em; text-align: center\">TP_DEPENDENCIA_ADM_ESC</th>\n",
       "        <th style=\"padding-left: 1em; padding-right: 1em; text-align: center\">TP_LOCALIZACAO_ESC</th>\n",
       "    </tr>\n",
       "    <tr>\n",
       "        <td style=\"padding-left: 1em; padding-right: 1em; text-align: center; vertical-align: top\">None</td>\n",
       "        <td style=\"padding-left: 1em; padding-right: 1em; text-align: center; vertical-align: top\">None</td>\n",
       "        <td style=\"padding-left: 1em; padding-right: 1em; text-align: center; vertical-align: top\"></td>\n",
       "        <td style=\"padding-left: 1em; padding-right: 1em; text-align: center; vertical-align: top\">None</td>\n",
       "        <td style=\"padding-left: 1em; padding-right: 1em; text-align: center; vertical-align: top\"></td>\n",
       "        <td style=\"padding-left: 1em; padding-right: 1em; text-align: center; vertical-align: top\">None</td>\n",
       "        <td style=\"padding-left: 1em; padding-right: 1em; text-align: center; vertical-align: top\">None</td>\n",
       "    </tr>\n",
       "    <tr>\n",
       "        <td style=\"padding-left: 1em; padding-right: 1em; text-align: center; vertical-align: top\">None</td>\n",
       "        <td style=\"padding-left: 1em; padding-right: 1em; text-align: center; vertical-align: top\">None</td>\n",
       "        <td style=\"padding-left: 1em; padding-right: 1em; text-align: center; vertical-align: top\"></td>\n",
       "        <td style=\"padding-left: 1em; padding-right: 1em; text-align: center; vertical-align: top\">None</td>\n",
       "        <td style=\"padding-left: 1em; padding-right: 1em; text-align: center; vertical-align: top\"></td>\n",
       "        <td style=\"padding-left: 1em; padding-right: 1em; text-align: center; vertical-align: top\">None</td>\n",
       "        <td style=\"padding-left: 1em; padding-right: 1em; text-align: center; vertical-align: top\">None</td>\n",
       "    </tr>\n",
       "    <tr>\n",
       "        <td style=\"padding-left: 1em; padding-right: 1em; text-align: center; vertical-align: top\">None</td>\n",
       "        <td style=\"padding-left: 1em; padding-right: 1em; text-align: center; vertical-align: top\">None</td>\n",
       "        <td style=\"padding-left: 1em; padding-right: 1em; text-align: center; vertical-align: top\"></td>\n",
       "        <td style=\"padding-left: 1em; padding-right: 1em; text-align: center; vertical-align: top\">None</td>\n",
       "        <td style=\"padding-left: 1em; padding-right: 1em; text-align: center; vertical-align: top\"></td>\n",
       "        <td style=\"padding-left: 1em; padding-right: 1em; text-align: center; vertical-align: top\">None</td>\n",
       "        <td style=\"padding-left: 1em; padding-right: 1em; text-align: center; vertical-align: top\">None</td>\n",
       "    </tr>\n",
       "    <tr>\n",
       "        <td style=\"padding-left: 1em; padding-right: 1em; text-align: center; vertical-align: top\">None</td>\n",
       "        <td style=\"padding-left: 1em; padding-right: 1em; text-align: center; vertical-align: top\">None</td>\n",
       "        <td style=\"padding-left: 1em; padding-right: 1em; text-align: center; vertical-align: top\"></td>\n",
       "        <td style=\"padding-left: 1em; padding-right: 1em; text-align: center; vertical-align: top\">None</td>\n",
       "        <td style=\"padding-left: 1em; padding-right: 1em; text-align: center; vertical-align: top\"></td>\n",
       "        <td style=\"padding-left: 1em; padding-right: 1em; text-align: center; vertical-align: top\">None</td>\n",
       "        <td style=\"padding-left: 1em; padding-right: 1em; text-align: center; vertical-align: top\">None</td>\n",
       "    </tr>\n",
       "    <tr>\n",
       "        <td style=\"padding-left: 1em; padding-right: 1em; text-align: center; vertical-align: top\">None</td>\n",
       "        <td style=\"padding-left: 1em; padding-right: 1em; text-align: center; vertical-align: top\">None</td>\n",
       "        <td style=\"padding-left: 1em; padding-right: 1em; text-align: center; vertical-align: top\"></td>\n",
       "        <td style=\"padding-left: 1em; padding-right: 1em; text-align: center; vertical-align: top\">None</td>\n",
       "        <td style=\"padding-left: 1em; padding-right: 1em; text-align: center; vertical-align: top\"></td>\n",
       "        <td style=\"padding-left: 1em; padding-right: 1em; text-align: center; vertical-align: top\">None</td>\n",
       "        <td style=\"padding-left: 1em; padding-right: 1em; text-align: center; vertical-align: top\">None</td>\n",
       "    </tr>\n",
       "    <tr>\n",
       "        <td style=\"padding-left: 1em; padding-right: 1em; text-align: center; vertical-align: top\">None</td>\n",
       "        <td style=\"padding-left: 1em; padding-right: 1em; text-align: center; vertical-align: top\">None</td>\n",
       "        <td style=\"padding-left: 1em; padding-right: 1em; text-align: center; vertical-align: top\"></td>\n",
       "        <td style=\"padding-left: 1em; padding-right: 1em; text-align: center; vertical-align: top\">None</td>\n",
       "        <td style=\"padding-left: 1em; padding-right: 1em; text-align: center; vertical-align: top\"></td>\n",
       "        <td style=\"padding-left: 1em; padding-right: 1em; text-align: center; vertical-align: top\">None</td>\n",
       "        <td style=\"padding-left: 1em; padding-right: 1em; text-align: center; vertical-align: top\">None</td>\n",
       "    </tr>\n",
       "    <tr>\n",
       "        <td style=\"padding-left: 1em; padding-right: 1em; text-align: center; vertical-align: top\">None</td>\n",
       "        <td style=\"padding-left: 1em; padding-right: 1em; text-align: center; vertical-align: top\">None</td>\n",
       "        <td style=\"padding-left: 1em; padding-right: 1em; text-align: center; vertical-align: top\"></td>\n",
       "        <td style=\"padding-left: 1em; padding-right: 1em; text-align: center; vertical-align: top\">None</td>\n",
       "        <td style=\"padding-left: 1em; padding-right: 1em; text-align: center; vertical-align: top\"></td>\n",
       "        <td style=\"padding-left: 1em; padding-right: 1em; text-align: center; vertical-align: top\">None</td>\n",
       "        <td style=\"padding-left: 1em; padding-right: 1em; text-align: center; vertical-align: top\">None</td>\n",
       "    </tr>\n",
       "    <tr>\n",
       "        <td style=\"padding-left: 1em; padding-right: 1em; text-align: center; vertical-align: top\">None</td>\n",
       "        <td style=\"padding-left: 1em; padding-right: 1em; text-align: center; vertical-align: top\">None</td>\n",
       "        <td style=\"padding-left: 1em; padding-right: 1em; text-align: center; vertical-align: top\"></td>\n",
       "        <td style=\"padding-left: 1em; padding-right: 1em; text-align: center; vertical-align: top\">None</td>\n",
       "        <td style=\"padding-left: 1em; padding-right: 1em; text-align: center; vertical-align: top\"></td>\n",
       "        <td style=\"padding-left: 1em; padding-right: 1em; text-align: center; vertical-align: top\">None</td>\n",
       "        <td style=\"padding-left: 1em; padding-right: 1em; text-align: center; vertical-align: top\">None</td>\n",
       "    </tr>\n",
       "    <tr>\n",
       "        <td style=\"padding-left: 1em; padding-right: 1em; text-align: center; vertical-align: top\">35012919</td>\n",
       "        <td style=\"padding-left: 1em; padding-right: 1em; text-align: center; vertical-align: top\">3518404</td>\n",
       "        <td style=\"padding-left: 1em; padding-right: 1em; text-align: center; vertical-align: top\">Guaratinguetá</td>\n",
       "        <td style=\"padding-left: 1em; padding-right: 1em; text-align: center; vertical-align: top\">35</td>\n",
       "        <td style=\"padding-left: 1em; padding-right: 1em; text-align: center; vertical-align: top\">SP</td>\n",
       "        <td style=\"padding-left: 1em; padding-right: 1em; text-align: center; vertical-align: top\">2</td>\n",
       "        <td style=\"padding-left: 1em; padding-right: 1em; text-align: center; vertical-align: top\">1</td>\n",
       "    </tr>\n",
       "    <tr>\n",
       "        <td style=\"padding-left: 1em; padding-right: 1em; text-align: center; vertical-align: top\">None</td>\n",
       "        <td style=\"padding-left: 1em; padding-right: 1em; text-align: center; vertical-align: top\">None</td>\n",
       "        <td style=\"padding-left: 1em; padding-right: 1em; text-align: center; vertical-align: top\"></td>\n",
       "        <td style=\"padding-left: 1em; padding-right: 1em; text-align: center; vertical-align: top\">None</td>\n",
       "        <td style=\"padding-left: 1em; padding-right: 1em; text-align: center; vertical-align: top\"></td>\n",
       "        <td style=\"padding-left: 1em; padding-right: 1em; text-align: center; vertical-align: top\">None</td>\n",
       "        <td style=\"padding-left: 1em; padding-right: 1em; text-align: center; vertical-align: top\">None</td>\n",
       "    </tr>\n",
       "</table>\n",
       "<table frame=\"box\" rules=\"cols\">\n",
       "    <tr>\n",
       "        <th style=\"padding-left: 1em; padding-right: 1em; text-align: center\">TP_SIT_FUNC_ESC</th>\n",
       "        <th style=\"padding-left: 1em; padding-right: 1em; text-align: center\">IN_BAIXA_VISAO</th>\n",
       "        <th style=\"padding-left: 1em; padding-right: 1em; text-align: center\">IN_CEGUEIRA</th>\n",
       "        <th style=\"padding-left: 1em; padding-right: 1em; text-align: center\">IN_SURDEZ</th>\n",
       "        <th style=\"padding-left: 1em; padding-right: 1em; text-align: center\">IN_DEFICIENCIA_AUDITIVA</th>\n",
       "        <th style=\"padding-left: 1em; padding-right: 1em; text-align: center\">IN_SURDO_CEGUEIRA</th>\n",
       "        <th style=\"padding-left: 1em; padding-right: 1em; text-align: center\">IN_DEFICIENCIA_FISICA</th>\n",
       "    </tr>\n",
       "    <tr>\n",
       "        <td style=\"padding-left: 1em; padding-right: 1em; text-align: center; vertical-align: top\">None</td>\n",
       "        <td style=\"padding-left: 1em; padding-right: 1em; text-align: center; vertical-align: top\">0</td>\n",
       "        <td style=\"padding-left: 1em; padding-right: 1em; text-align: center; vertical-align: top\">0</td>\n",
       "        <td style=\"padding-left: 1em; padding-right: 1em; text-align: center; vertical-align: top\">0</td>\n",
       "        <td style=\"padding-left: 1em; padding-right: 1em; text-align: center; vertical-align: top\">0</td>\n",
       "        <td style=\"padding-left: 1em; padding-right: 1em; text-align: center; vertical-align: top\">0</td>\n",
       "        <td style=\"padding-left: 1em; padding-right: 1em; text-align: center; vertical-align: top\">0</td>\n",
       "    </tr>\n",
       "    <tr>\n",
       "        <td style=\"padding-left: 1em; padding-right: 1em; text-align: center; vertical-align: top\">None</td>\n",
       "        <td style=\"padding-left: 1em; padding-right: 1em; text-align: center; vertical-align: top\">0</td>\n",
       "        <td style=\"padding-left: 1em; padding-right: 1em; text-align: center; vertical-align: top\">0</td>\n",
       "        <td style=\"padding-left: 1em; padding-right: 1em; text-align: center; vertical-align: top\">0</td>\n",
       "        <td style=\"padding-left: 1em; padding-right: 1em; text-align: center; vertical-align: top\">0</td>\n",
       "        <td style=\"padding-left: 1em; padding-right: 1em; text-align: center; vertical-align: top\">0</td>\n",
       "        <td style=\"padding-left: 1em; padding-right: 1em; text-align: center; vertical-align: top\">0</td>\n",
       "    </tr>\n",
       "    <tr>\n",
       "        <td style=\"padding-left: 1em; padding-right: 1em; text-align: center; vertical-align: top\">None</td>\n",
       "        <td style=\"padding-left: 1em; padding-right: 1em; text-align: center; vertical-align: top\">0</td>\n",
       "        <td style=\"padding-left: 1em; padding-right: 1em; text-align: center; vertical-align: top\">0</td>\n",
       "        <td style=\"padding-left: 1em; padding-right: 1em; text-align: center; vertical-align: top\">0</td>\n",
       "        <td style=\"padding-left: 1em; padding-right: 1em; text-align: center; vertical-align: top\">0</td>\n",
       "        <td style=\"padding-left: 1em; padding-right: 1em; text-align: center; vertical-align: top\">0</td>\n",
       "        <td style=\"padding-left: 1em; padding-right: 1em; text-align: center; vertical-align: top\">0</td>\n",
       "    </tr>\n",
       "    <tr>\n",
       "        <td style=\"padding-left: 1em; padding-right: 1em; text-align: center; vertical-align: top\">None</td>\n",
       "        <td style=\"padding-left: 1em; padding-right: 1em; text-align: center; vertical-align: top\">0</td>\n",
       "        <td style=\"padding-left: 1em; padding-right: 1em; text-align: center; vertical-align: top\">0</td>\n",
       "        <td style=\"padding-left: 1em; padding-right: 1em; text-align: center; vertical-align: top\">0</td>\n",
       "        <td style=\"padding-left: 1em; padding-right: 1em; text-align: center; vertical-align: top\">0</td>\n",
       "        <td style=\"padding-left: 1em; padding-right: 1em; text-align: center; vertical-align: top\">0</td>\n",
       "        <td style=\"padding-left: 1em; padding-right: 1em; text-align: center; vertical-align: top\">0</td>\n",
       "    </tr>\n",
       "    <tr>\n",
       "        <td style=\"padding-left: 1em; padding-right: 1em; text-align: center; vertical-align: top\">None</td>\n",
       "        <td style=\"padding-left: 1em; padding-right: 1em; text-align: center; vertical-align: top\">0</td>\n",
       "        <td style=\"padding-left: 1em; padding-right: 1em; text-align: center; vertical-align: top\">0</td>\n",
       "        <td style=\"padding-left: 1em; padding-right: 1em; text-align: center; vertical-align: top\">0</td>\n",
       "        <td style=\"padding-left: 1em; padding-right: 1em; text-align: center; vertical-align: top\">0</td>\n",
       "        <td style=\"padding-left: 1em; padding-right: 1em; text-align: center; vertical-align: top\">0</td>\n",
       "        <td style=\"padding-left: 1em; padding-right: 1em; text-align: center; vertical-align: top\">0</td>\n",
       "    </tr>\n",
       "    <tr>\n",
       "        <td style=\"padding-left: 1em; padding-right: 1em; text-align: center; vertical-align: top\">None</td>\n",
       "        <td style=\"padding-left: 1em; padding-right: 1em; text-align: center; vertical-align: top\">0</td>\n",
       "        <td style=\"padding-left: 1em; padding-right: 1em; text-align: center; vertical-align: top\">0</td>\n",
       "        <td style=\"padding-left: 1em; padding-right: 1em; text-align: center; vertical-align: top\">0</td>\n",
       "        <td style=\"padding-left: 1em; padding-right: 1em; text-align: center; vertical-align: top\">0</td>\n",
       "        <td style=\"padding-left: 1em; padding-right: 1em; text-align: center; vertical-align: top\">0</td>\n",
       "        <td style=\"padding-left: 1em; padding-right: 1em; text-align: center; vertical-align: top\">0</td>\n",
       "    </tr>\n",
       "    <tr>\n",
       "        <td style=\"padding-left: 1em; padding-right: 1em; text-align: center; vertical-align: top\">None</td>\n",
       "        <td style=\"padding-left: 1em; padding-right: 1em; text-align: center; vertical-align: top\">0</td>\n",
       "        <td style=\"padding-left: 1em; padding-right: 1em; text-align: center; vertical-align: top\">0</td>\n",
       "        <td style=\"padding-left: 1em; padding-right: 1em; text-align: center; vertical-align: top\">0</td>\n",
       "        <td style=\"padding-left: 1em; padding-right: 1em; text-align: center; vertical-align: top\">0</td>\n",
       "        <td style=\"padding-left: 1em; padding-right: 1em; text-align: center; vertical-align: top\">0</td>\n",
       "        <td style=\"padding-left: 1em; padding-right: 1em; text-align: center; vertical-align: top\">0</td>\n",
       "    </tr>\n",
       "    <tr>\n",
       "        <td style=\"padding-left: 1em; padding-right: 1em; text-align: center; vertical-align: top\">None</td>\n",
       "        <td style=\"padding-left: 1em; padding-right: 1em; text-align: center; vertical-align: top\">0</td>\n",
       "        <td style=\"padding-left: 1em; padding-right: 1em; text-align: center; vertical-align: top\">0</td>\n",
       "        <td style=\"padding-left: 1em; padding-right: 1em; text-align: center; vertical-align: top\">0</td>\n",
       "        <td style=\"padding-left: 1em; padding-right: 1em; text-align: center; vertical-align: top\">0</td>\n",
       "        <td style=\"padding-left: 1em; padding-right: 1em; text-align: center; vertical-align: top\">0</td>\n",
       "        <td style=\"padding-left: 1em; padding-right: 1em; text-align: center; vertical-align: top\">0</td>\n",
       "    </tr>\n",
       "    <tr>\n",
       "        <td style=\"padding-left: 1em; padding-right: 1em; text-align: center; vertical-align: top\">1</td>\n",
       "        <td style=\"padding-left: 1em; padding-right: 1em; text-align: center; vertical-align: top\">0</td>\n",
       "        <td style=\"padding-left: 1em; padding-right: 1em; text-align: center; vertical-align: top\">0</td>\n",
       "        <td style=\"padding-left: 1em; padding-right: 1em; text-align: center; vertical-align: top\">0</td>\n",
       "        <td style=\"padding-left: 1em; padding-right: 1em; text-align: center; vertical-align: top\">0</td>\n",
       "        <td style=\"padding-left: 1em; padding-right: 1em; text-align: center; vertical-align: top\">0</td>\n",
       "        <td style=\"padding-left: 1em; padding-right: 1em; text-align: center; vertical-align: top\">0</td>\n",
       "    </tr>\n",
       "    <tr>\n",
       "        <td style=\"padding-left: 1em; padding-right: 1em; text-align: center; vertical-align: top\">None</td>\n",
       "        <td style=\"padding-left: 1em; padding-right: 1em; text-align: center; vertical-align: top\">0</td>\n",
       "        <td style=\"padding-left: 1em; padding-right: 1em; text-align: center; vertical-align: top\">0</td>\n",
       "        <td style=\"padding-left: 1em; padding-right: 1em; text-align: center; vertical-align: top\">0</td>\n",
       "        <td style=\"padding-left: 1em; padding-right: 1em; text-align: center; vertical-align: top\">0</td>\n",
       "        <td style=\"padding-left: 1em; padding-right: 1em; text-align: center; vertical-align: top\">0</td>\n",
       "        <td style=\"padding-left: 1em; padding-right: 1em; text-align: center; vertical-align: top\">0</td>\n",
       "    </tr>\n",
       "</table>\n",
       "<table frame=\"box\" rules=\"cols\">\n",
       "    <tr>\n",
       "        <th style=\"padding-left: 1em; padding-right: 1em; text-align: center\">IN_DEFICIENCIA_MENTAL</th>\n",
       "        <th style=\"padding-left: 1em; padding-right: 1em; text-align: center\">IN_DEFICIT_ATENCAO</th>\n",
       "        <th style=\"padding-left: 1em; padding-right: 1em; text-align: center\">IN_DISLEXIA</th>\n",
       "        <th style=\"padding-left: 1em; padding-right: 1em; text-align: center\">IN_DISCALCULIA</th>\n",
       "        <th style=\"padding-left: 1em; padding-right: 1em; text-align: center\">IN_AUTISMO</th>\n",
       "        <th style=\"padding-left: 1em; padding-right: 1em; text-align: center\">...</th>\n",
       "    </tr>\n",
       "    <tr>\n",
       "        <td style=\"padding-left: 1em; padding-right: 1em; text-align: center; vertical-align: top\">0</td>\n",
       "        <td style=\"padding-left: 1em; padding-right: 1em; text-align: center; vertical-align: top\">0</td>\n",
       "        <td style=\"padding-left: 1em; padding-right: 1em; text-align: center; vertical-align: top\">0</td>\n",
       "        <td style=\"padding-left: 1em; padding-right: 1em; text-align: center; vertical-align: top\">0</td>\n",
       "        <td style=\"padding-left: 1em; padding-right: 1em; text-align: center; vertical-align: top\">0</td>\n",
       "        <td style=\"padding-left: 1em; padding-right: 1em; text-align: center; vertical-align: top\">...</td>\n",
       "    </tr>\n",
       "    <tr>\n",
       "        <td style=\"padding-left: 1em; padding-right: 1em; text-align: center; vertical-align: top\">0</td>\n",
       "        <td style=\"padding-left: 1em; padding-right: 1em; text-align: center; vertical-align: top\">0</td>\n",
       "        <td style=\"padding-left: 1em; padding-right: 1em; text-align: center; vertical-align: top\">0</td>\n",
       "        <td style=\"padding-left: 1em; padding-right: 1em; text-align: center; vertical-align: top\">0</td>\n",
       "        <td style=\"padding-left: 1em; padding-right: 1em; text-align: center; vertical-align: top\">0</td>\n",
       "        <td style=\"padding-left: 1em; padding-right: 1em; text-align: center; vertical-align: top\">...</td>\n",
       "    </tr>\n",
       "    <tr>\n",
       "        <td style=\"padding-left: 1em; padding-right: 1em; text-align: center; vertical-align: top\">0</td>\n",
       "        <td style=\"padding-left: 1em; padding-right: 1em; text-align: center; vertical-align: top\">0</td>\n",
       "        <td style=\"padding-left: 1em; padding-right: 1em; text-align: center; vertical-align: top\">0</td>\n",
       "        <td style=\"padding-left: 1em; padding-right: 1em; text-align: center; vertical-align: top\">0</td>\n",
       "        <td style=\"padding-left: 1em; padding-right: 1em; text-align: center; vertical-align: top\">0</td>\n",
       "        <td style=\"padding-left: 1em; padding-right: 1em; text-align: center; vertical-align: top\">...</td>\n",
       "    </tr>\n",
       "    <tr>\n",
       "        <td style=\"padding-left: 1em; padding-right: 1em; text-align: center; vertical-align: top\">0</td>\n",
       "        <td style=\"padding-left: 1em; padding-right: 1em; text-align: center; vertical-align: top\">0</td>\n",
       "        <td style=\"padding-left: 1em; padding-right: 1em; text-align: center; vertical-align: top\">0</td>\n",
       "        <td style=\"padding-left: 1em; padding-right: 1em; text-align: center; vertical-align: top\">0</td>\n",
       "        <td style=\"padding-left: 1em; padding-right: 1em; text-align: center; vertical-align: top\">0</td>\n",
       "        <td style=\"padding-left: 1em; padding-right: 1em; text-align: center; vertical-align: top\">...</td>\n",
       "    </tr>\n",
       "    <tr>\n",
       "        <td style=\"padding-left: 1em; padding-right: 1em; text-align: center; vertical-align: top\">0</td>\n",
       "        <td style=\"padding-left: 1em; padding-right: 1em; text-align: center; vertical-align: top\">0</td>\n",
       "        <td style=\"padding-left: 1em; padding-right: 1em; text-align: center; vertical-align: top\">0</td>\n",
       "        <td style=\"padding-left: 1em; padding-right: 1em; text-align: center; vertical-align: top\">0</td>\n",
       "        <td style=\"padding-left: 1em; padding-right: 1em; text-align: center; vertical-align: top\">0</td>\n",
       "        <td style=\"padding-left: 1em; padding-right: 1em; text-align: center; vertical-align: top\">...</td>\n",
       "    </tr>\n",
       "    <tr>\n",
       "        <td style=\"padding-left: 1em; padding-right: 1em; text-align: center; vertical-align: top\">0</td>\n",
       "        <td style=\"padding-left: 1em; padding-right: 1em; text-align: center; vertical-align: top\">0</td>\n",
       "        <td style=\"padding-left: 1em; padding-right: 1em; text-align: center; vertical-align: top\">0</td>\n",
       "        <td style=\"padding-left: 1em; padding-right: 1em; text-align: center; vertical-align: top\">0</td>\n",
       "        <td style=\"padding-left: 1em; padding-right: 1em; text-align: center; vertical-align: top\">0</td>\n",
       "        <td style=\"padding-left: 1em; padding-right: 1em; text-align: center; vertical-align: top\">...</td>\n",
       "    </tr>\n",
       "    <tr>\n",
       "        <td style=\"padding-left: 1em; padding-right: 1em; text-align: center; vertical-align: top\">0</td>\n",
       "        <td style=\"padding-left: 1em; padding-right: 1em; text-align: center; vertical-align: top\">0</td>\n",
       "        <td style=\"padding-left: 1em; padding-right: 1em; text-align: center; vertical-align: top\">0</td>\n",
       "        <td style=\"padding-left: 1em; padding-right: 1em; text-align: center; vertical-align: top\">0</td>\n",
       "        <td style=\"padding-left: 1em; padding-right: 1em; text-align: center; vertical-align: top\">0</td>\n",
       "        <td style=\"padding-left: 1em; padding-right: 1em; text-align: center; vertical-align: top\">...</td>\n",
       "    </tr>\n",
       "    <tr>\n",
       "        <td style=\"padding-left: 1em; padding-right: 1em; text-align: center; vertical-align: top\">0</td>\n",
       "        <td style=\"padding-left: 1em; padding-right: 1em; text-align: center; vertical-align: top\">0</td>\n",
       "        <td style=\"padding-left: 1em; padding-right: 1em; text-align: center; vertical-align: top\">0</td>\n",
       "        <td style=\"padding-left: 1em; padding-right: 1em; text-align: center; vertical-align: top\">0</td>\n",
       "        <td style=\"padding-left: 1em; padding-right: 1em; text-align: center; vertical-align: top\">0</td>\n",
       "        <td style=\"padding-left: 1em; padding-right: 1em; text-align: center; vertical-align: top\">...</td>\n",
       "    </tr>\n",
       "    <tr>\n",
       "        <td style=\"padding-left: 1em; padding-right: 1em; text-align: center; vertical-align: top\">0</td>\n",
       "        <td style=\"padding-left: 1em; padding-right: 1em; text-align: center; vertical-align: top\">0</td>\n",
       "        <td style=\"padding-left: 1em; padding-right: 1em; text-align: center; vertical-align: top\">0</td>\n",
       "        <td style=\"padding-left: 1em; padding-right: 1em; text-align: center; vertical-align: top\">0</td>\n",
       "        <td style=\"padding-left: 1em; padding-right: 1em; text-align: center; vertical-align: top\">0</td>\n",
       "        <td style=\"padding-left: 1em; padding-right: 1em; text-align: center; vertical-align: top\">...</td>\n",
       "    </tr>\n",
       "    <tr>\n",
       "        <td style=\"padding-left: 1em; padding-right: 1em; text-align: center; vertical-align: top\">0</td>\n",
       "        <td style=\"padding-left: 1em; padding-right: 1em; text-align: center; vertical-align: top\">0</td>\n",
       "        <td style=\"padding-left: 1em; padding-right: 1em; text-align: center; vertical-align: top\">0</td>\n",
       "        <td style=\"padding-left: 1em; padding-right: 1em; text-align: center; vertical-align: top\">0</td>\n",
       "        <td style=\"padding-left: 1em; padding-right: 1em; text-align: center; vertical-align: top\">0</td>\n",
       "        <td style=\"padding-left: 1em; padding-right: 1em; text-align: center; vertical-align: top\">...</td>\n",
       "    </tr>\n",
       "</table>\n",
       "[13686 rows x 167 columns]<br/>Note: Only the head of the SFrame is printed.<br/>You can use print_rows(num_rows=m, num_columns=n) to print more rows and columns.\n",
       "</div>"
      ],
      "text/plain": [
       "Columns:\n",
       "\tX1\tint\n",
       "\tNU_INSCRICAO\tstr\n",
       "\tNU_ANO\tint\n",
       "\tCO_MUNICIPIO_RESIDENCIA\tint\n",
       "\tNO_MUNICIPIO_RESIDENCIA\tstr\n",
       "\tCO_UF_RESIDENCIA\tint\n",
       "\tSG_UF_RESIDENCIA\tstr\n",
       "\tNU_IDADE\tint\n",
       "\tTP_SEXO\tstr\n",
       "\tTP_ESTADO_CIVIL\tint\n",
       "\tTP_COR_RACA\tint\n",
       "\tTP_NACIONALIDADE\tint\n",
       "\tCO_MUNICIPIO_NASCIMENTO\tint\n",
       "\tNO_MUNICIPIO_NASCIMENTO\tstr\n",
       "\tCO_UF_NASCIMENTO\tint\n",
       "\tSG_UF_NASCIMENTO\tstr\n",
       "\tTP_ST_CONCLUSAO\tint\n",
       "\tTP_ANO_CONCLUIU\tint\n",
       "\tTP_ESCOLA\tint\n",
       "\tTP_ENSINO\tint\n",
       "\tIN_TREINEIRO\tint\n",
       "\tCO_ESCOLA\tint\n",
       "\tCO_MUNICIPIO_ESC\tint\n",
       "\tNO_MUNICIPIO_ESC\tstr\n",
       "\tCO_UF_ESC\tint\n",
       "\tSG_UF_ESC\tstr\n",
       "\tTP_DEPENDENCIA_ADM_ESC\tint\n",
       "\tTP_LOCALIZACAO_ESC\tint\n",
       "\tTP_SIT_FUNC_ESC\tint\n",
       "\tIN_BAIXA_VISAO\tint\n",
       "\tIN_CEGUEIRA\tint\n",
       "\tIN_SURDEZ\tint\n",
       "\tIN_DEFICIENCIA_AUDITIVA\tint\n",
       "\tIN_SURDO_CEGUEIRA\tint\n",
       "\tIN_DEFICIENCIA_FISICA\tint\n",
       "\tIN_DEFICIENCIA_MENTAL\tint\n",
       "\tIN_DEFICIT_ATENCAO\tint\n",
       "\tIN_DISLEXIA\tint\n",
       "\tIN_DISCALCULIA\tint\n",
       "\tIN_AUTISMO\tint\n",
       "\tIN_VISAO_MONOCULAR\tint\n",
       "\tIN_OUTRA_DEF\tint\n",
       "\tIN_SABATISTA\tint\n",
       "\tIN_GESTANTE\tint\n",
       "\tIN_LACTANTE\tint\n",
       "\tIN_IDOSO\tint\n",
       "\tIN_ESTUDA_CLASSE_HOSPITALAR\tint\n",
       "\tIN_SEM_RECURSO\tint\n",
       "\tIN_BRAILLE\tint\n",
       "\tIN_AMPLIADA_24\tint\n",
       "\tIN_AMPLIADA_18\tint\n",
       "\tIN_LEDOR\tint\n",
       "\tIN_ACESSO\tint\n",
       "\tIN_TRANSCRICAO\tint\n",
       "\tIN_LIBRAS\tint\n",
       "\tIN_LEITURA_LABIAL\tint\n",
       "\tIN_MESA_CADEIRA_RODAS\tint\n",
       "\tIN_MESA_CADEIRA_SEPARADA\tint\n",
       "\tIN_APOIO_PERNA\tint\n",
       "\tIN_GUIA_INTERPRETE\tint\n",
       "\tIN_MACA\tint\n",
       "\tIN_COMPUTADOR\tint\n",
       "\tIN_CADEIRA_ESPECIAL\tint\n",
       "\tIN_CADEIRA_CANHOTO\tint\n",
       "\tIN_CADEIRA_ACOLCHOADA\tint\n",
       "\tIN_PROVA_DEITADO\tint\n",
       "\tIN_MOBILIARIO_OBESO\tint\n",
       "\tIN_LAMINA_OVERLAY\tint\n",
       "\tIN_PROTETOR_AURICULAR\tint\n",
       "\tIN_MEDIDOR_GLICOSE\tint\n",
       "\tIN_MAQUINA_BRAILE\tint\n",
       "\tIN_SOROBAN\tint\n",
       "\tIN_MARCA_PASSO\tint\n",
       "\tIN_SONDA\tint\n",
       "\tIN_MEDICAMENTOS\tint\n",
       "\tIN_SALA_INDIVIDUAL\tint\n",
       "\tIN_SALA_ESPECIAL\tint\n",
       "\tIN_SALA_ACOMPANHANTE\tint\n",
       "\tIN_MOBILIARIO_ESPECIFICO\tint\n",
       "\tIN_MATERIAL_ESPECIFICO\tint\n",
       "\tIN_NOME_SOCIAL\tint\n",
       "\tIN_CERTIFICADO\tint\n",
       "\tNO_ENTIDADE_CERTIFICACAO\tstr\n",
       "\tCO_UF_ENTIDADE_CERTIFICACAO\tint\n",
       "\tSG_UF_ENTIDADE_CERTIFICACAO\tstr\n",
       "\tCO_MUNICIPIO_PROVA\tint\n",
       "\tNO_MUNICIPIO_PROVA\tstr\n",
       "\tCO_UF_PROVA\tint\n",
       "\tSG_UF_PROVA\tstr\n",
       "\tTP_PRESENCA_CN\tint\n",
       "\tTP_PRESENCA_CH\tint\n",
       "\tTP_PRESENCA_LC\tint\n",
       "\tTP_PRESENCA_MT\tint\n",
       "\tCO_PROVA_CN\tstr\n",
       "\tCO_PROVA_CH\tstr\n",
       "\tCO_PROVA_LC\tstr\n",
       "\tCO_PROVA_MT\tstr\n",
       "\tNU_NOTA_CN\tfloat\n",
       "\tNU_NOTA_CH\tfloat\n",
       "\tNU_NOTA_LC\tfloat\n",
       "\tNU_NOTA_MT\tfloat\n",
       "\tTX_RESPOSTAS_CN\tstr\n",
       "\tTX_RESPOSTAS_CH\tstr\n",
       "\tTX_RESPOSTAS_LC\tstr\n",
       "\tTX_RESPOSTAS_MT\tstr\n",
       "\tTP_LINGUA\tint\n",
       "\tTX_GABARITO_CN\tstr\n",
       "\tTX_GABARITO_CH\tstr\n",
       "\tTX_GABARITO_LC\tstr\n",
       "\tTX_GABARITO_MT\tstr\n",
       "\tTP_STATUS_REDACAO\tint\n",
       "\tNU_NOTA_COMP1\tint\n",
       "\tNU_NOTA_COMP2\tint\n",
       "\tNU_NOTA_COMP3\tint\n",
       "\tNU_NOTA_COMP4\tint\n",
       "\tNU_NOTA_COMP5\tint\n",
       "\tNU_NOTA_REDACAO\tint\n",
       "\tQ001\tstr\n",
       "\tQ002\tstr\n",
       "\tQ003\tstr\n",
       "\tQ004\tstr\n",
       "\tQ005\tint\n",
       "\tQ006\tstr\n",
       "\tQ007\tstr\n",
       "\tQ008\tstr\n",
       "\tQ009\tstr\n",
       "\tQ010\tstr\n",
       "\tQ011\tstr\n",
       "\tQ012\tstr\n",
       "\tQ013\tstr\n",
       "\tQ014\tstr\n",
       "\tQ015\tstr\n",
       "\tQ016\tstr\n",
       "\tQ017\tstr\n",
       "\tQ018\tstr\n",
       "\tQ019\tstr\n",
       "\tQ020\tstr\n",
       "\tQ021\tstr\n",
       "\tQ022\tstr\n",
       "\tQ023\tstr\n",
       "\tQ024\tstr\n",
       "\tQ025\tstr\n",
       "\tQ026\tstr\n",
       "\tQ027\tstr\n",
       "\tQ028\tstr\n",
       "\tQ029\tint\n",
       "\tQ030\tint\n",
       "\tQ031\tint\n",
       "\tQ032\tint\n",
       "\tQ033\tint\n",
       "\tQ034\tint\n",
       "\tQ035\tint\n",
       "\tQ036\tint\n",
       "\tQ037\tint\n",
       "\tQ038\tint\n",
       "\tQ039\tint\n",
       "\tQ040\tint\n",
       "\tQ041\tint\n",
       "\tQ042\tstr\n",
       "\tQ043\tstr\n",
       "\tQ044\tstr\n",
       "\tQ045\tstr\n",
       "\tQ046\tstr\n",
       "\tQ047\tstr\n",
       "\tQ048\tstr\n",
       "\tQ049\tstr\n",
       "\tQ050\tstr\n",
       "\n",
       "Rows: 13686\n",
       "\n",
       "Data:\n",
       "+----+-------------------------------+--------+-------------------------+\n",
       "| X1 |          NU_INSCRICAO         | NU_ANO | CO_MUNICIPIO_RESIDENCIA |\n",
       "+----+-------------------------------+--------+-------------------------+\n",
       "| 1  | f69113a0fda10e003073c92dc6... |  2016  |         2914802         |\n",
       "| 2  | 07870321422c6ed9e24248bfe8... |  2016  |         2307700         |\n",
       "| 3  | 00eb8e32d58c602c81df66b1ba... |  2016  |         1506104         |\n",
       "| 4  | c5aa7b15bba422a5f2cceab284... |  2016  |         1505809         |\n",
       "| 5  | 4a34a60cfeba08c00630384977... |  2016  |         3304557         |\n",
       "| 6  | 4cd8f6d99fe793dab7dbb6bd13... |  2016  |         1716109         |\n",
       "| 7  | 31de52dda32a683ac2c32b7b52... |  2016  |         3148103         |\n",
       "| 8  | 00d1f7b612149821abb8d97ce8... |  2016  |         2704302         |\n",
       "| 9  | a10f110b82c447c56ccf643f9b... |  2016  |         3518404         |\n",
       "| 10 | c1123b69810e1dadb7ee51189c... |  2016  |         2302503         |\n",
       "+----+-------------------------------+--------+-------------------------+\n",
       "+-------------------------+------------------+------------------+----------+---------+\n",
       "| NO_MUNICIPIO_RESIDENCIA | CO_UF_RESIDENCIA | SG_UF_RESIDENCIA | NU_IDADE | TP_SEXO |\n",
       "+-------------------------+------------------+------------------+----------+---------+\n",
       "|         Itabuna         |        29        |        BA        |    39    |    F    |\n",
       "|        Maranguape       |        23        |        CE        |    19    |    F    |\n",
       "|        Primavera        |        15        |        PA        |    18    |    M    |\n",
       "|          Portel         |        15        |        PA        |    24    |    F    |\n",
       "|      Rio de Janeiro     |        33        |        RJ        |    26    |    F    |\n",
       "|   Paraíso do Tocantins  |        17        |        TO        |    19    |    M    |\n",
       "|        Patrocínio       |        31        |        MG        |    19    |    F    |\n",
       "|          Maceió         |        27        |        AL        |    17    |    M    |\n",
       "|      Guaratinguetá      |        35        |        SP        |    17    |    F    |\n",
       "|       Brejo Santo       |        23        |        CE        |    24    |    F    |\n",
       "+-------------------------+------------------+------------------+----------+---------+\n",
       "+-----------------+-------------+------------------+-------------------------+\n",
       "| TP_ESTADO_CIVIL | TP_COR_RACA | TP_NACIONALIDADE | CO_MUNICIPIO_NASCIMENTO |\n",
       "+-----------------+-------------+------------------+-------------------------+\n",
       "|        1        |      3      |        1         |         3304557         |\n",
       "|        0        |      3      |        1         |         2307700         |\n",
       "|        0        |      1      |        1         |         1506104         |\n",
       "|        0        |      3      |        1         |         1505809         |\n",
       "|        0        |      3      |        1         |         3304557         |\n",
       "|        0        |      1      |        1         |         1506161         |\n",
       "|        0        |      2      |        1         |         3148103         |\n",
       "|        0        |      0      |        1         |         2704302         |\n",
       "|        0        |      1      |        1         |         3518404         |\n",
       "|        2        |      1      |        1         |         2302503         |\n",
       "+-----------------+-------------+------------------+-------------------------+\n",
       "+-------------------------+------------------+------------------+-----------------+\n",
       "| NO_MUNICIPIO_NASCIMENTO | CO_UF_NASCIMENTO | SG_UF_NASCIMENTO | TP_ST_CONCLUSAO |\n",
       "+-------------------------+------------------+------------------+-----------------+\n",
       "|      Rio de Janeiro     |        33        |        RJ        |        1        |\n",
       "|        Maranguape       |        23        |        CE        |        1        |\n",
       "|        Primavera        |        15        |        PA        |        3        |\n",
       "|          Portel         |        15        |        PA        |        1        |\n",
       "|      Rio de Janeiro     |        33        |        RJ        |        1        |\n",
       "|        Rio Maria        |        15        |        PA        |        1        |\n",
       "|        Patrocínio       |        31        |        MG        |        1        |\n",
       "|          Maceió         |        27        |        AL        |        3        |\n",
       "|      Guaratinguetá      |        35        |        SP        |        2        |\n",
       "|       Brejo Santo       |        23        |        CE        |        1        |\n",
       "+-------------------------+------------------+------------------+-----------------+\n",
       "+-----------------+-----------+-----------+-----+\n",
       "| TP_ANO_CONCLUIU | TP_ESCOLA | TP_ENSINO | ... |\n",
       "+-----------------+-----------+-----------+-----+\n",
       "|        10       |     1     |    None   | ... |\n",
       "|        2        |     1     |    None   | ... |\n",
       "|        0        |     1     |    None   | ... |\n",
       "|        5        |     1     |    None   | ... |\n",
       "|        9        |     1     |    None   | ... |\n",
       "|        1        |     1     |    None   | ... |\n",
       "|        2        |     1     |    None   | ... |\n",
       "|        0        |     1     |    None   | ... |\n",
       "|        0        |     2     |     1     | ... |\n",
       "|        5        |     1     |    None   | ... |\n",
       "+-----------------+-----------+-----------+-----+\n",
       "[13686 rows x 167 columns]\n",
       "Note: Only the head of the SFrame is printed.\n",
       "You can use print_rows(num_rows=m, num_columns=n) to print more rows and columns."
      ]
     },
     "execution_count": 24,
     "metadata": {},
     "output_type": "execute_result"
    }
   ],
   "source": [
    "alunos"
   ]
  },
  {
   "cell_type": "markdown",
   "metadata": {},
   "source": [
    "2. Criar uma coluna com média ponderada das notas das provas de matemática,\n",
    "ciências da natureza, linguagens e códigos, ciências humanas e\n",
    "redação (0,5);"
   ]
  },
  {
   "cell_type": "markdown",
   "metadata": {},
   "source": [
    "Bom antes de criar a coluna vou logo verificar qual a extenção dos dados que estou trabalhando. \n"
   ]
  },
  {
   "cell_type": "code",
   "execution_count": 33,
   "metadata": {
    "collapsed": false
   },
   "outputs": [
    {
     "data": {
      "text/plain": [
       "13686"
      ]
     },
     "execution_count": 33,
     "metadata": {},
     "output_type": "execute_result"
    }
   ],
   "source": [
    "len(alunos)"
   ]
  },
  {
   "cell_type": "markdown",
   "metadata": {},
   "source": [
    "pronto agora posso começar o trabalho."
   ]
  },
  {
   "cell_type": "code",
   "execution_count": 34,
   "metadata": {
    "collapsed": false
   },
   "outputs": [
    {
     "data": {
      "text/plain": [
       "541.1"
      ]
     },
     "execution_count": 34,
     "metadata": {},
     "output_type": "execute_result"
    }
   ],
   "source": [
    " alunos['NU_NOTA_CN'][0]"
   ]
  },
  {
   "cell_type": "code",
   "execution_count": 38,
   "metadata": {
    "collapsed": false
   },
   "outputs": [],
   "source": [
    "novo = (alunos['NU_NOTA_CN'][0]+alunos['NU_NOTA_CH'][0]+alunos['NU_NOTA_LC'][0]+alunos['NU_NOTA_MT'][0])/4"
   ]
  },
  {
   "cell_type": "code",
   "execution_count": 39,
   "metadata": {
    "collapsed": false
   },
   "outputs": [
    {
     "data": {
      "text/plain": [
       "604.625"
      ]
     },
     "execution_count": 39,
     "metadata": {},
     "output_type": "execute_result"
    }
   ],
   "source": [
    "novo"
   ]
  },
  {
   "cell_type": "code",
   "execution_count": 43,
   "metadata": {
    "collapsed": false
   },
   "outputs": [
    {
     "name": "stdout",
     "output_type": "stream",
     "text": [
      "+----+-------------------------------+--------+-------------------------+\n",
      "| X1 |          NU_INSCRICAO         | NU_ANO | CO_MUNICIPIO_RESIDENCIA |\n",
      "+----+-------------------------------+--------+-------------------------+\n",
      "| 1  | f69113a0fda10e003073c92dc6... |  2016  |         2914802         |\n",
      "| 2  | 07870321422c6ed9e24248bfe8... |  2016  |         2307700         |\n",
      "| 3  | 00eb8e32d58c602c81df66b1ba... |  2016  |         1506104         |\n",
      "| 4  | c5aa7b15bba422a5f2cceab284... |  2016  |         1505809         |\n",
      "| 5  | 4a34a60cfeba08c00630384977... |  2016  |         3304557         |\n",
      "| 6  | 4cd8f6d99fe793dab7dbb6bd13... |  2016  |         1716109         |\n",
      "| 7  | 31de52dda32a683ac2c32b7b52... |  2016  |         3148103         |\n",
      "| 8  | 00d1f7b612149821abb8d97ce8... |  2016  |         2704302         |\n",
      "| 9  | a10f110b82c447c56ccf643f9b... |  2016  |         3518404         |\n",
      "| 10 | c1123b69810e1dadb7ee51189c... |  2016  |         2302503         |\n",
      "+----+-------------------------------+--------+-------------------------+\n",
      "+-------------------------+------------------+------------------+----------+---------+\n",
      "| NO_MUNICIPIO_RESIDENCIA | CO_UF_RESIDENCIA | SG_UF_RESIDENCIA | NU_IDADE | TP_SEXO |\n",
      "+-------------------------+------------------+------------------+----------+---------+\n",
      "|         Itabuna         |        29        |        BA        |    39    |    F    |\n",
      "|        Maranguape       |        23        |        CE        |    19    |    F    |\n",
      "|        Primavera        |        15        |        PA        |    18    |    M    |\n",
      "|          Portel         |        15        |        PA        |    24    |    F    |\n",
      "|      Rio de Janeiro     |        33        |        RJ        |    26    |    F    |\n",
      "|   Paraíso do Tocantins  |        17        |        TO        |    19    |    M    |\n",
      "|        Patrocínio       |        31        |        MG        |    19    |    F    |\n",
      "|          Maceió         |        27        |        AL        |    17    |    M    |\n",
      "|      Guaratinguetá      |        35        |        SP        |    17    |    F    |\n",
      "|       Brejo Santo       |        23        |        CE        |    24    |    F    |\n",
      "+-------------------------+------------------+------------------+----------+---------+\n",
      "+-----------------+-------------+------------------+-------------------------+\n",
      "| TP_ESTADO_CIVIL | TP_COR_RACA | TP_NACIONALIDADE | CO_MUNICIPIO_NASCIMENTO |\n",
      "+-----------------+-------------+------------------+-------------------------+\n",
      "|        1        |      3      |        1         |         3304557         |\n",
      "|        0        |      3      |        1         |         2307700         |\n",
      "|        0        |      1      |        1         |         1506104         |\n",
      "|        0        |      3      |        1         |         1505809         |\n",
      "|        0        |      3      |        1         |         3304557         |\n",
      "|        0        |      1      |        1         |         1506161         |\n",
      "|        0        |      2      |        1         |         3148103         |\n",
      "|        0        |      0      |        1         |         2704302         |\n",
      "|        0        |      1      |        1         |         3518404         |\n",
      "|        2        |      1      |        1         |         2302503         |\n",
      "+-----------------+-------------+------------------+-------------------------+\n",
      "+-------------------------+------------------+------------------+-----------------+\n",
      "| NO_MUNICIPIO_NASCIMENTO | CO_UF_NASCIMENTO | SG_UF_NASCIMENTO | TP_ST_CONCLUSAO |\n",
      "+-------------------------+------------------+------------------+-----------------+\n",
      "|      Rio de Janeiro     |        33        |        RJ        |        1        |\n",
      "|        Maranguape       |        23        |        CE        |        1        |\n",
      "|        Primavera        |        15        |        PA        |        3        |\n",
      "|          Portel         |        15        |        PA        |        1        |\n",
      "|      Rio de Janeiro     |        33        |        RJ        |        1        |\n",
      "|        Rio Maria        |        15        |        PA        |        1        |\n",
      "|        Patrocínio       |        31        |        MG        |        1        |\n",
      "|          Maceió         |        27        |        AL        |        3        |\n",
      "|      Guaratinguetá      |        35        |        SP        |        2        |\n",
      "|       Brejo Santo       |        23        |        CE        |        1        |\n",
      "+-------------------------+------------------+------------------+-----------------+\n",
      "+-----------------+-----------+-----------+-----+\n",
      "| TP_ANO_CONCLUIU | TP_ESCOLA | TP_ENSINO | ... |\n",
      "+-----------------+-----------+-----------+-----+\n",
      "|        10       |     1     |    None   | ... |\n",
      "|        2        |     1     |    None   | ... |\n",
      "|        0        |     1     |    None   | ... |\n",
      "|        5        |     1     |    None   | ... |\n",
      "|        9        |     1     |    None   | ... |\n",
      "|        1        |     1     |    None   | ... |\n",
      "|        2        |     1     |    None   | ... |\n",
      "|        0        |     1     |    None   | ... |\n",
      "|        0        |     2     |     1     | ... |\n",
      "|        5        |     1     |    None   | ... |\n",
      "+-----------------+-----------+-----------+-----+\n",
      "[10 rows x 167 columns]\n",
      "\n"
     ]
    }
   ],
   "source": [
    "print(alunos.head())"
   ]
  },
  {
   "cell_type": "code",
   "execution_count": 52,
   "metadata": {
    "collapsed": false
   },
   "outputs": [],
   "source": [
    "alunos['media_ponderada']=(alunos['NU_NOTA_CN']+alunos['NU_NOTA_CH']+alunos['NU_NOTA_LC']+alunos['NU_NOTA_MT']+\n",
    "                           alunos['NU_NOTA_REDACAO'])/5"
   ]
  },
  {
   "cell_type": "code",
   "execution_count": 53,
   "metadata": {
    "collapsed": false
   },
   "outputs": [
    {
     "data": {
      "text/plain": [
       "599.7"
      ]
     },
     "execution_count": 53,
     "metadata": {},
     "output_type": "execute_result"
    }
   ],
   "source": [
    "alunos['media_ponderada'][0]"
   ]
  },
  {
   "cell_type": "code",
   "execution_count": 54,
   "metadata": {
    "collapsed": false,
    "scrolled": true
   },
   "outputs": [
    {
     "data": {
      "text/plain": [
       "dtype: float\n",
       "Rows: 13686\n",
       "[599.7, 589.2, 477.6, 430.86, None, 621.76, None, 561.36, 578.02, 483.32000000000005, 442.88, None, 546.7, 499.87999999999994, 506.7799999999999, 445.82, 540.0600000000001, None, 514.3, 570.58, 579.7, 555.36, 738.8399999999999, 439.43999999999994, 483.21999999999997, None, 489.46000000000004, None, 489.98, 567.64, 523.08, 523.88, 469.12, 445.5, 478.38, 606.4399999999999, 411.56000000000006, 580.6, 532.1800000000001, 519.12, 441.5, 521.8399999999999, 739.74, 721.6600000000001, 499.21999999999997, 517.54, 547.72, 465.2, 531.6, 441.43999999999994, None, None, 448.76000000000005, 420.36, 545.58, None, 459.9200000000001, None, None, None, 409.44, 517.4799999999999, 467.18, 318.82, 420.7799999999999, 530.5200000000001, 442.3, 487.9, 402.34000000000003, None, 558.3399999999999, 511.32000000000005, 545.12, 513.4, None, 523.28, None, 555.1600000000001, 435.96000000000004, 418.64, 714.1200000000001, 747.8199999999999, 509.46000000000004, 753.62, 657.78, None, None, 541.98, 438.14, 515.0, None, None, 460.6, 552.52, 431.88, 693.3799999999999, 480.53999999999996, 494.93999999999994, None, 519.52, ... ]"
      ]
     },
     "execution_count": 54,
     "metadata": {},
     "output_type": "execute_result"
    }
   ],
   "source": [
    "alunos['media_ponderada']"
   ]
  },
  {
   "cell_type": "markdown",
   "metadata": {},
   "source": [
    " Através dessa coluna, buscar os 15 alunos com as melhores pontuações e\n",
    "15 alunos com as piores pontuações"
   ]
  },
  {
   "cell_type": "code",
   "execution_count": 72,
   "metadata": {
    "collapsed": false
   },
   "outputs": [],
   "source": [
    "alunos_ordenado = alunos.sort(['media_ponderada'], ascending=False)"
   ]
  },
  {
   "cell_type": "code",
   "execution_count": 83,
   "metadata": {
    "collapsed": false
   },
   "outputs": [
    {
     "name": "stdout",
     "output_type": "stream",
     "text": [
      "{'NO_MUNICIPIO_RESIDENCIA': 'Rio de Janeiro', 'media_ponderada': 827.6600000000001, 'NU_IDADE': 18, 'NU_INSCRICAO': 'ac78b8c9d071f17033d1a9f7d2981e8227c75a09'}\n",
      "{'NO_MUNICIPIO_RESIDENCIA': 'Belo Horizonte', 'media_ponderada': 816.92, 'NU_IDADE': 18, 'NU_INSCRICAO': '93bf7a6c22f6c58a7248e4399a21381447c48b45'}\n",
      "{'NO_MUNICIPIO_RESIDENCIA': 'Fortaleza', 'media_ponderada': 806.96, 'NU_IDADE': 19, 'NU_INSCRICAO': '7cf4ee13363a18f85ce14f37ec0db1b82b5804e1'}\n",
      "{'NO_MUNICIPIO_RESIDENCIA': 'Mineiros', 'media_ponderada': 803.92, 'NU_IDADE': 18, 'NU_INSCRICAO': '08b69f77ab0b576f7b1dfa6971d0142eb13a8368'}\n",
      "{'NO_MUNICIPIO_RESIDENCIA': 'Rio de Janeiro', 'media_ponderada': 795.72, 'NU_IDADE': 18, 'NU_INSCRICAO': 'aaf2ae08c87ec1a89f533b5a58b4f6d3d9cb918b'}\n",
      "{'NO_MUNICIPIO_RESIDENCIA': 'Varginha', 'media_ponderada': 790.52, 'NU_IDADE': 18, 'NU_INSCRICAO': '69bc2baea904588f93f0913e494d5ec0cdff2d88'}\n",
      "{'NO_MUNICIPIO_RESIDENCIA': 'Guapor\\xc3\\xa9', 'media_ponderada': 790.1600000000001, 'NU_IDADE': 20, 'NU_INSCRICAO': 'c82bdbacd0fe1723333e2c31ee9c7b3900284b7a'}\n",
      "{'NO_MUNICIPIO_RESIDENCIA': 'Betim', 'media_ponderada': 785.22, 'NU_IDADE': 18, 'NU_INSCRICAO': '913c5122a3807e5951a4a84d7137c3609069a160'}\n",
      "{'NO_MUNICIPIO_RESIDENCIA': 'Contagem', 'media_ponderada': 774.0600000000001, 'NU_IDADE': 17, 'NU_INSCRICAO': 'e0e0b96e4831b68a3f2ab5c9b6dbf64f29a2a53a'}\n",
      "{'NO_MUNICIPIO_RESIDENCIA': 'Fortaleza', 'media_ponderada': 773.5400000000001, 'NU_IDADE': 19, 'NU_INSCRICAO': '16c7fb14ff5abf7b108d93f51f012ea6201c0f69'}\n",
      "{'NO_MUNICIPIO_RESIDENCIA': 'Cuiab\\xc3\\xa1', 'media_ponderada': 773.22, 'NU_IDADE': 17, 'NU_INSCRICAO': '37b53d364c3d03e9afca7fbe88ed83a14b6edd98'}\n",
      "{'NO_MUNICIPIO_RESIDENCIA': 'Itabaiana', 'media_ponderada': 771.4399999999999, 'NU_IDADE': 19, 'NU_INSCRICAO': '304417fb6c9ad03fc48b77eebe0609adab2eef4a'}\n",
      "{'NO_MUNICIPIO_RESIDENCIA': 'Maranguape', 'media_ponderada': 770.24, 'NU_IDADE': 17, 'NU_INSCRICAO': '204e9bd1b6e222cca579a4a54dad3331716dea46'}\n",
      "{'NO_MUNICIPIO_RESIDENCIA': 'Blumenau', 'media_ponderada': 768.92, 'NU_IDADE': 17, 'NU_INSCRICAO': '1fd0874f87af254d26ef9fa6716d5c3bef2db90a'}\n",
      "{'NO_MUNICIPIO_RESIDENCIA': 'Salvador', 'media_ponderada': 767.8599999999999, 'NU_IDADE': 18, 'NU_INSCRICAO': '25bcfd25f46332c63d8694db054b36cb0a2c600d'}\n"
     ]
    }
   ],
   "source": [
    "for i in range(15):\n",
    "    print alunos_ordenado['NU_IDADE','media_ponderada','NO_MUNICIPIO_RESIDENCIA','NU_INSCRICAO'][i]\n",
    "    "
   ]
  },
  {
   "cell_type": "markdown",
   "metadata": {},
   "source": [
    "15 alunos com as piores pontuações!"
   ]
  },
  {
   "cell_type": "code",
   "execution_count": 90,
   "metadata": {
    "collapsed": false
   },
   "outputs": [
    {
     "data": {
      "text/plain": [
       "13686"
      ]
     },
     "execution_count": 90,
     "metadata": {},
     "output_type": "execute_result"
    }
   ],
   "source": [
    "len(alunos_ordenado)"
   ]
  },
  {
   "cell_type": "code",
   "execution_count": 92,
   "metadata": {
    "collapsed": false
   },
   "outputs": [
    {
     "data": {
      "text/plain": [
       "13671"
      ]
     },
     "execution_count": 92,
     "metadata": {},
     "output_type": "execute_result"
    }
   ],
   "source": [
    "piores = len(alunos_ordenado) - 15 \n",
    "piores"
   ]
  },
  {
   "cell_type": "code",
   "execution_count": 95,
   "metadata": {
    "collapsed": false
   },
   "outputs": [
    {
     "name": "stdout",
     "output_type": "stream",
     "text": [
      "{'NO_MUNICIPIO_RESIDENCIA': 'Rio de Janeiro', 'media_ponderada': None, 'NU_IDADE': 26, 'NU_INSCRICAO': '4a34a60cfeba08c0063038497758f11d2894f896'}\n",
      "{'NO_MUNICIPIO_RESIDENCIA': 'Bayeux', 'media_ponderada': None, 'NU_IDADE': 26, 'NU_INSCRICAO': 'ad626aa2c49cd0fca6cdc7d3ace117ae94dd82d4'}\n",
      "{'NO_MUNICIPIO_RESIDENCIA': 'Luzi\\xc3\\xa2nia', 'media_ponderada': None, 'NU_IDADE': 20, 'NU_INSCRICAO': '315169c11deed4c81dfbc92f7e4fee453a18a2eb'}\n",
      "{'NO_MUNICIPIO_RESIDENCIA': 'S\\xc3\\xa3o Paulo', 'media_ponderada': None, 'NU_IDADE': 20, 'NU_INSCRICAO': '99552ca3d70cc1d2f8326367e686b34001710401'}\n",
      "{'NO_MUNICIPIO_RESIDENCIA': 'S\\xc3\\xa3o Mateus do Maranh\\xc3\\xa3o', 'media_ponderada': None, 'NU_IDADE': 22, 'NU_INSCRICAO': '75074ad0560215e13c3bb1eaca2e98d35f2131f9'}\n",
      "{'NO_MUNICIPIO_RESIDENCIA': 'Paranagu\\xc3\\xa1', 'media_ponderada': None, 'NU_IDADE': 20, 'NU_INSCRICAO': '9d6e57b1fafd6fbf822e92f422165128e0790b9a'}\n",
      "{'NO_MUNICIPIO_RESIDENCIA': 'Monsenhor Tabosa', 'media_ponderada': None, 'NU_IDADE': 52, 'NU_INSCRICAO': '2cef19b543df6f1c6554df62f8c0ac730c6116cc'}\n",
      "{'NO_MUNICIPIO_RESIDENCIA': 'Oriximin\\xc3\\xa1', 'media_ponderada': None, 'NU_IDADE': 19, 'NU_INSCRICAO': '8a17a614862eb6c21ca3560752cf712dff00f9a0'}\n",
      "{'NO_MUNICIPIO_RESIDENCIA': 'Porangatu', 'media_ponderada': None, 'NU_IDADE': 16, 'NU_INSCRICAO': 'bf560c2adaf8ec8730fe989e87e9c13b5ee15614'}\n",
      "{'NO_MUNICIPIO_RESIDENCIA': 'Salvador', 'media_ponderada': None, 'NU_IDADE': 19, 'NU_INSCRICAO': 'c8143f2201fd70700ae72466e307abe4bce0dee7'}\n",
      "{'NO_MUNICIPIO_RESIDENCIA': 'Manaus', 'media_ponderada': None, 'NU_IDADE': 27, 'NU_INSCRICAO': 'edd046fe8744d130964d0e57b7b2380157ba8667'}\n",
      "{'NO_MUNICIPIO_RESIDENCIA': 'Manaus', 'media_ponderada': None, 'NU_IDADE': 20, 'NU_INSCRICAO': '0f05a5785b0a13b6d971c6a3a43974b92812952f'}\n",
      "{'NO_MUNICIPIO_RESIDENCIA': 'Morro Reuter', 'media_ponderada': None, 'NU_IDADE': 18, 'NU_INSCRICAO': 'c92d72dea3031a4dd3c3c91070fc972465197edb'}\n",
      "{'NO_MUNICIPIO_RESIDENCIA': 'Arax\\xc3\\xa1', 'media_ponderada': None, 'NU_IDADE': 26, 'NU_INSCRICAO': 'e5dde0afdc67f82058283e6932013820632d2203'}\n",
      "{'NO_MUNICIPIO_RESIDENCIA': 'Jana\\xc3\\xbaba', 'media_ponderada': None, 'NU_IDADE': 25, 'NU_INSCRICAO': '2f7c01270cf2968a1fb9d213e9ded0c4386a17f2'}\n"
     ]
    }
   ],
   "source": [
    "while piores<len(alunos_ordenado):\n",
    "     print alunos_ordenado['NU_IDADE','media_ponderada','NO_MUNICIPIO_RESIDENCIA','NU_INSCRICAO'][piores]\n",
    "     piores = piores + 1;"
   ]
  },
  {
   "cell_type": "markdown",
   "metadata": {},
   "source": [
    "outro metodo para mostrar os 15 piores alunos seria :"
   ]
  },
  {
   "cell_type": "code",
   "execution_count": 96,
   "metadata": {
    "collapsed": false
   },
   "outputs": [
    {
     "name": "stdout",
     "output_type": "stream",
     "text": [
      "{'NO_MUNICIPIO_RESIDENCIA': 'Jana\\xc3\\xbaba', 'media_ponderada': None, 'NU_IDADE': 25, 'NU_INSCRICAO': '2f7c01270cf2968a1fb9d213e9ded0c4386a17f2'}\n",
      "{'NO_MUNICIPIO_RESIDENCIA': 'Arax\\xc3\\xa1', 'media_ponderada': None, 'NU_IDADE': 26, 'NU_INSCRICAO': 'e5dde0afdc67f82058283e6932013820632d2203'}\n",
      "{'NO_MUNICIPIO_RESIDENCIA': 'Quixad\\xc3\\xa1', 'media_ponderada': None, 'NU_IDADE': 18, 'NU_INSCRICAO': '9d76421b7df944f9fb3cb72fc19d54bf0e6b40dd'}\n",
      "{'NO_MUNICIPIO_RESIDENCIA': 'Presidente Kennedy', 'media_ponderada': None, 'NU_IDADE': 20, 'NU_INSCRICAO': 'cae8d5ffe1fbbb56be1cae63e732708aba7147f1'}\n",
      "{'NO_MUNICIPIO_RESIDENCIA': 'Rio de Janeiro', 'media_ponderada': None, 'NU_IDADE': 26, 'NU_INSCRICAO': '4a34a60cfeba08c0063038497758f11d2894f896'}\n",
      "{'NO_MUNICIPIO_RESIDENCIA': 'Morro Reuter', 'media_ponderada': None, 'NU_IDADE': 18, 'NU_INSCRICAO': 'c92d72dea3031a4dd3c3c91070fc972465197edb'}\n",
      "{'NO_MUNICIPIO_RESIDENCIA': 'Patroc\\xc3\\xadnio', 'media_ponderada': None, 'NU_IDADE': 19, 'NU_INSCRICAO': '31de52dda32a683ac2c32b7b52473abcc553970a'}\n",
      "{'NO_MUNICIPIO_RESIDENCIA': 'Manaus', 'media_ponderada': None, 'NU_IDADE': 20, 'NU_INSCRICAO': '0f05a5785b0a13b6d971c6a3a43974b92812952f'}\n",
      "{'NO_MUNICIPIO_RESIDENCIA': 'Nova Reden\\xc3\\xa7\\xc3\\xa3o', 'media_ponderada': None, 'NU_IDADE': 18, 'NU_INSCRICAO': 'b3b9bbaaa831d03727b92d47182c0cca0fb7eeff'}\n",
      "{'NO_MUNICIPIO_RESIDENCIA': 'Erechim', 'media_ponderada': None, 'NU_IDADE': 22, 'NU_INSCRICAO': '581e74dd1cc82586bc048d9e4871e480d0ea5d3b'}\n",
      "{'NO_MUNICIPIO_RESIDENCIA': 'Maric\\xc3\\xa1', 'media_ponderada': None, 'NU_IDADE': 27, 'NU_INSCRICAO': '8ebb2c50e02e1cd1d879b3204f847beb9fc22a70'}\n",
      "{'NO_MUNICIPIO_RESIDENCIA': 'Guarania\\xc3\\xa7u', 'media_ponderada': None, 'NU_IDADE': 16, 'NU_INSCRICAO': '94039b4bf1d1394dd46006eb363a561aa62f115d'}\n",
      "{'NO_MUNICIPIO_RESIDENCIA': 'Porangatu', 'media_ponderada': None, 'NU_IDADE': 16, 'NU_INSCRICAO': 'bf560c2adaf8ec8730fe989e87e9c13b5ee15614'}\n",
      "{'NO_MUNICIPIO_RESIDENCIA': 'Teresina', 'media_ponderada': None, 'NU_IDADE': 22, 'NU_INSCRICAO': 'a2a33edeb912dc35e1f89a326858a9d308467377'}\n",
      "{'NO_MUNICIPIO_RESIDENCIA': 'Cama\\xc3\\xa7ari', 'media_ponderada': None, 'NU_IDADE': 29, 'NU_INSCRICAO': '919fc2a50ae5330b1808157a1db09ed050710018'}\n"
     ]
    }
   ],
   "source": [
    "for i in range(15):\n",
    "    print piores_alunos['NU_IDADE','media_ponderada','NO_MUNICIPIO_RESIDENCIA','NU_INSCRICAO'][i]"
   ]
  },
  {
   "cell_type": "markdown",
   "metadata": {},
   "source": [
    "Só que com uma diferença nesse método é listado o pior primeiro para seguido do menos ruim e assim graduativamente.  É evidente que todos os 15 piores tem nota null ou NONE porque se trata de inscritos que não compareceram a prova e tiveram a nota zerada. \n"
   ]
  },
  {
   "cell_type": "markdown",
   "metadata": {},
   "source": [
    "Definir uma avaliação positiva e negativas das notas, por exemplo: Abaixo\n",
    "de 200 é negativa e acima de 200 é positiva. Vou colocar acima de 450 positivo e abaixo negativo. "
   ]
  },
  {
   "cell_type": "code",
   "execution_count": 99,
   "metadata": {
    "collapsed": false
   },
   "outputs": [
    {
     "name": "stdout",
     "output_type": "stream",
     "text": [
      "Canvas is accessible via web browser at the URL: http://localhost:40045/index.html\n",
      "Opening Canvas in default web browser.\n"
     ]
    }
   ],
   "source": [
    "alunos[\"media_ponderada\"].show()"
   ]
  },
  {
   "cell_type": "code",
   "execution_count": 101,
   "metadata": {
    "collapsed": false
   },
   "outputs": [],
   "source": [
    "alunos['avalicao'] = 'positiva'"
   ]
  },
  {
   "cell_type": "code",
   "execution_count": 108,
   "metadata": {
    "collapsed": false
   },
   "outputs": [
    {
     "ename": "SyntaxError",
     "evalue": "invalid syntax (<ipython-input-108-581dc834f9bd>, line 1)",
     "output_type": "error",
     "traceback": [
      "\u001b[1;36m  File \u001b[1;32m\"<ipython-input-108-581dc834f9bd>\"\u001b[1;36m, line \u001b[1;32m1\u001b[0m\n\u001b[1;33m    for a in alunos\u001b[0m\n\u001b[1;37m                   ^\u001b[0m\n\u001b[1;31mSyntaxError\u001b[0m\u001b[1;31m:\u001b[0m invalid syntax\n"
     ]
    }
   ],
   "source": [
    "for a in range(len(alunos)):\n",
    "    if(alunos['media_ponderada'][a]>450):\n",
    "       alunos['avalicao'][a] = 'positiva'\n",
    "    else:\n",
    "        print 'entrou'\n",
    "   "
   ]
  },
  {
   "cell_type": "code",
   "execution_count": null,
   "metadata": {
    "collapsed": true
   },
   "outputs": [],
   "source": []
  }
 ],
 "metadata": {
  "kernelspec": {
   "display_name": "Python 2",
   "language": "python",
   "name": "python2"
  },
  "language_info": {
   "codemirror_mode": {
    "name": "ipython",
    "version": 2
   },
   "file_extension": ".py",
   "mimetype": "text/x-python",
   "name": "python",
   "nbconvert_exporter": "python",
   "pygments_lexer": "ipython2",
   "version": "2.7.13"
  }
 },
 "nbformat": 4,
 "nbformat_minor": 0
}
